{
 "cells": [
  {
   "cell_type": "markdown",
   "id": "d6157f24-1ef8-49cd-a200-61b586716c5f",
   "metadata": {},
   "source": [
    "# Week 5B: Simplex Method Phase II"
   ]
  },
  {
   "cell_type": "markdown",
   "id": "eb0dfd0b-4723-40b0-928f-40a46adb4ede",
   "metadata": {},
   "source": [
    "<font color=\"blue\"><b>Goal:</b></font> Solve an LP by implementing the second phase of the simplex method.\n",
    "\n",
    "In this notebook, you will implement the second phase of the simplex method. You will need the pivoting function you implemented last week, which is also given below:"
   ]
  },
  {
   "cell_type": "code",
   "execution_count": 1,
   "id": "a44bcd61-1ad7-406f-b468-59c0ca74c20e",
   "metadata": {},
   "outputs": [],
   "source": [
    "# Here's the pivoting function from last week\n",
    "\n",
    "import numpy as np\n",
    "\n",
    "def pivot(T,i,k):\n",
    "    # Create a copy of the tableau\n",
    "    T_pivot = np.zeros_like(T, dtype=float)  # initialize the output\n",
    "    \n",
    "    # Step (i)\n",
    "    # We divide the i-th row elementwise by the value of a_ik\n",
    "    T_pivot[i,:] = T[i,:] / T[i,k]\n",
    "    \n",
    "    # Step (ii)\n",
    "    # Note: for-loops can be interchanged\n",
    "    # We iterate through each column (l = 1, ..., n+m)\n",
    "    for l in range(0, T.shape[1]):\n",
    "        # In each column, we iterate through each row, but skip row i (j=/=i, j = 1, ..., m)\n",
    "        for j in range(0, T.shape[0]):\n",
    "            if(j != i):\n",
    "                # We compute the new value\n",
    "                T_pivot[j,l] = T[j,l] - T[j,k] * T[i,l] / T[i,k]\n",
    "    \n",
    "    return T_pivot"
   ]
  },
  {
   "cell_type": "markdown",
   "id": "0e9d4f26-7a73-4024-ab2c-4f3e170601aa",
   "metadata": {},
   "source": [
    "### Step 1: Solving a feasible LP\n",
    "\n",
    "You are given an LP in the following canonical form. The goal is to apply the second phase of the simplex method to solve this LP.\n",
    "\n",
    "$$\\begin{equation}\n",
    "\\begin{array}{lrrrrrr}\n",
    "\\max    &&2x_1 &+ &x_2 &       &  \\\\\n",
    "  \\text{s.t. }   & &x_1     &+ &3x_2   & \\leq  &15\\\\\n",
    "        & &x_1    & &    & \\leq  &4\\\\\n",
    "        & &2x_1  &+ &x_2    & \\leq  &10\\\\\n",
    "        &-&x_1  &- &x_2    & \\leq  &-3\\\\\n",
    "        & &x_1     &  &        & \\geq  &0 \\\\\n",
    "        & &        &  &x_2     & \\geq  &0 \n",
    "\\end{array}\n",
    "\\end{equation}$$\n",
    "\n",
    "To do so, one first needs to start from a feasible tableau, which is given below, where the variables $y_1,y_2,y_3,y_4$ correspond to the slack variables for constraints $1-4$ respectively.\n",
    "\n",
    "$$\\begin{equation}\n",
    "\\begin{array}{l|rrrrrr|r}\n",
    "  & y_1 & y_2 & y_3 & y_4 & x_1 & x_2 & 1\\\\\n",
    "  \\hline\n",
    " z & 0 & 0 & 0 & -1 & -1 & 0 & 3\\\\\n",
    " \\hline\n",
    "  & 1 & 0 & 0 & 3 & -2 & 0 & 6 \\\\\n",
    "  & 0 & 1 & 0 & 0 & 1  & 0 & 4 \\\\\n",
    "  & 0 & 0 & 1 & 1 & 1  & 0 & 7 \\\\\n",
    "  & 0 & 0 & 0 &-1 & 1  & 1 & 3\n",
    "\\end{array}\n",
    "\\end{equation}$$\n",
    "\n",
    "\n"
   ]
  },
  {
   "cell_type": "markdown",
   "id": "72d23d23-5ff3-481f-9c30-a18adc454d5a",
   "metadata": {},
   "source": [
    "**Your task**: Solve the LP by performing as many exchange steps on the above tableau as necessary, that is, apply phase 2 of the simplex method by manually choosing pivots according to the quotient rule and calling the pivot function. Then extract the basic solution from the resulting tableau."
   ]
  },
  {
   "cell_type": "code",
   "execution_count": null,
   "id": "89278a26-35d8-4784-a4f9-7834b547ce95",
   "metadata": {},
   "outputs": [],
   "source": [
    "# First, we need to record the tableau\n",
    "T0 = np.matrix([\n",
    "    [ 0, 0, 0,-1,-1, 0, 3],\n",
    "    [ 1, 0, 0, 3,-2, 0, 6],\n",
    "    [ 0, 1, 0, 0, 1, 0, 4],\n",
    "    [ 0, 0, 1, 1, 1, 0, 7],\n",
    "    [ 0, 0, 0,-1, 1, 1, 3]\n",
    "], dtype=float)\n",
    "\n",
    "# We can also adjust the printing format and add a header\n",
    "np.set_printoptions(\n",
    "    formatter={'str_kind': lambda x: '{:^7}'.format(x),\n",
    "               'float': lambda x: '{: ^7.3g}'.format(x)})\n",
    "header_T = np.array(['y1','y2','y3','y4','x1','x2','1'])\n",
    "\n",
    "# Print T0\n",
    "print(\"\", header_T)\n",
    "print(T0)"
   ]
  },
  {
   "cell_type": "code",
   "execution_count": null,
   "id": "757caeba",
   "metadata": {},
   "outputs": [],
   "source": [
    "# Now, pleaes solve the LP using the second phase of the simplex method\n",
    "'???'\n"
   ]
  },
  {
   "cell_type": "code",
   "execution_count": null,
   "id": "1e8eac32",
   "metadata": {},
   "outputs": [],
   "source": [
    "# Extract the basic solution\n",
    "'???'\n"
   ]
  },
  {
   "cell_type": "markdown",
   "id": "55c7f555-eaaa-4a40-8ff5-07eb7714296c",
   "metadata": {},
   "source": [
    "### Step 2: Checking the uniqueness of the optimal solutions manually\n",
    "\n",
    "**Your task**: Determine whether the optimal solution is unique by exploring the properties of the optimal tableau you found above.\n",
    "\n",
    "_Hint_: In order to answer this, you may wish to do one more pivoting step to get a different optimal solution. Look at the tableau and try to see where can you pivot at."
   ]
  },
  {
   "cell_type": "code",
   "execution_count": null,
   "id": "efb5c2a9-d9bd-44a8-8f0b-67e060bd28ac",
   "metadata": {},
   "outputs": [],
   "source": [
    "# Perform one more pivoting step at ??? entry\n",
    "'???'\n"
   ]
  },
  {
   "cell_type": "markdown",
   "id": "78b35582-c108-4970-af0e-d8dff96105a0",
   "metadata": {},
   "source": [
    "### Step 3: Double checking your solutions\n",
    "\n",
    "**Your Task:** Double-check your solutions with `PuLP`by running the code below. Does it correspond to one of the solutions you found using the pivoting steps above?"
   ]
  },
  {
   "cell_type": "code",
   "execution_count": null,
   "id": "f049e722-cdfb-427c-991f-f315fa6fede6",
   "metadata": {},
   "outputs": [],
   "source": [
    "# Check using PuLP\n",
    "\n",
    "import pulp\n",
    "\n",
    "mylp = pulp.LpProblem(\"My_LP\", pulp.LpMaximize)\n",
    "\n",
    "x1 = pulp.LpVariable('x1', lowBound=0, cat=pulp.LpContinuous)\n",
    "x2 = pulp.LpVariable('x2', lowBound=0, cat=pulp.LpContinuous)\n",
    "\n",
    "mylp += 2*x1 + x2\n",
    "\n",
    "mylp += x1 + 3*x2 <= 15\n",
    "mylp += x1 <= 4\n",
    "mylp += 2*x1 + x2 <= 10\n",
    "mylp += -x1 - x2 <= -3\n",
    "\n",
    "mylp.solve()\n",
    "\n",
    "print(f\"An optimal solution to the LP is ({x1.value():.2f}, {x2.value():.2f}) \" + \n",
    "      f\"with objective value {mylp.objective.value():.2f}.\")"
   ]
  },
  {
   "cell_type": "markdown",
   "id": "669d7a65-11ec-49d0-a5b3-cf04a78a2fe8",
   "metadata": {},
   "source": [
    "*Remark: Note that `PuLP` only returns one optimal solution, even if it is not unique. To explore other solutions with `PuLP`, further modifications are necessary.*"
   ]
  },
  {
   "cell_type": "markdown",
   "id": "9dcf7170-2af3-4945-838c-f71b57016739",
   "metadata": {},
   "source": [
    "### Step 4 (Optional): Implementing a function that perform the second phase automatically"
   ]
  },
  {
   "cell_type": "markdown",
   "id": "6e6abad2-0d5b-4720-ab81-946a8e75bbd7",
   "metadata": {},
   "source": [
    "Note that we already implemented the pivoting function last week. The second phase of the simplex method is about a systematic way of choosing your pivots, i.e., choosing the pivots according to the quotient rule.\n",
    "\n",
    "**Your task**: Write a function that perform the second phase automatically. The input should be a feasible tableau T."
   ]
  },
  {
   "cell_type": "code",
   "execution_count": null,
   "id": "2371445c-90d4-49bd-bf8e-8dfd762ac8f6",
   "metadata": {},
   "outputs": [],
   "source": [
    "# Implement the second phase of the simplex method as a function\n",
    "'???'\n"
   ]
  },
  {
   "cell_type": "markdown",
   "id": "6744e4f6-2aef-46a6-a58b-38a02378a8b8",
   "metadata": {},
   "source": [
    "You may check your function by solving the previous example."
   ]
  },
  {
   "cell_type": "code",
   "execution_count": null,
   "id": "900feb5b-2ae0-488e-9bc5-ad303174b35e",
   "metadata": {},
   "outputs": [],
   "source": [
    "# Check your function by running it on the previous tableau T0\n",
    "'???'\n"
   ]
  }
 ],
 "metadata": {
  "kernelspec": {
   "display_name": "Python 3",
   "language": "python",
   "name": "python3"
  },
  "language_info": {
   "codemirror_mode": {
    "name": "ipython",
    "version": 3
   },
   "file_extension": ".py",
   "mimetype": "text/x-python",
   "name": "python",
   "nbconvert_exporter": "python",
   "pygments_lexer": "ipython3",
   "version": "3.8.8"
  }
 },
 "nbformat": 4,
 "nbformat_minor": 5
}
