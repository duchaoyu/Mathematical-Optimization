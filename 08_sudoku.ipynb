{
 "cells": [
  {
   "cell_type": "markdown",
   "metadata": {},
   "source": [
    "# Week 8: Sudoku Solver\n",
    "\n",
    "<font color='blue'><b>Goals of this notebook:</b></font> In this exercise, we implement a Sudoku solver using an integer program and Python-MIP. As an extra result, we will also see how such a solver can be used to test uniqueness of a solution to a given Sudoku puzzle."
   ]
  },
  {
   "cell_type": "markdown",
   "metadata": {},
   "source": [
    "## Solving a Sudoku puzzle: modeling with integer variables\n",
    "\n",
    "As you most likely all know, a Sudoku is puzzle where the goal is to fill in the cells of a $9 \\times 9$ grid with integers from $1$ to $9$ such that\n",
    "- there is precisely one number per cell,\n",
    "- no row contains two equal numbers,\n",
    "- no column contains two equal numbers, and\n",
    "- no one of the nine 3x3 squares that the grid can be partitioned in contains two equal numbers.\n",
    "\n",
    "An example of a Sudoku puzzle is given below.\n",
    "\n",
    "<div style=\"background-color:white\">\n",
    "<center>\n",
    "    <img src=\"08_sudoku_example.png\", style=\"padding-top: 10px;\">\n",
    "</center>\n",
    "</div>"
   ]
  },
  {
   "cell_type": "markdown",
   "metadata": {},
   "source": [
    "To solve such a Sudoku puzzle, we have to decide which numbers to assign to which cell. These decisions can be modelled by integral decision variables $x_{ijk}$ for $i,j,k\\in\\{1,\\ldots,9\\}$ such that\n",
    "\n",
    "$$\n",
    "x_{ijk} = \\begin{cases} 1 & \\text{if cell $(i,j)$ of the Sudoku contains number $k$}\\\\ 0 & \\text{else} \\end{cases}\\enspace. \n",
    "$$\n",
    "\n",
    "The question is how to set up suitable constraints that guarantee that a feasible $\\{0,1\\}$-point $x$ does indeed correspond to a solution of the Sudoku.\n"
   ]
  },
  {
   "cell_type": "markdown",
   "metadata": {},
   "source": [
    "<b>Your first task:</b> Come up with linear constraints in the variables $x_{ijk}$ that model the conditions imposed on a valid Sudoku solution, i.e., make sure that any $\\{0,1\\}$-solution of your system corresponds to a feasible solution of a given Sudoku."
   ]
  },
  {
   "cell_type": "markdown",
   "metadata": {},
   "source": [
    "*Write your answer here.*"
   ]
  },
  {
   "cell_type": "markdown",
   "metadata": {},
   "source": [
    "## Implementing integer programs in Python-MIP\n",
    "\n",
    "We will implement the integer program in Python using the package Python-MIP. If you have not yet installed the package, you can install it using the command below or download it from its official website: https://www.python-mip.com/."
   ]
  },
  {
   "cell_type": "code",
   "execution_count": 1,
   "metadata": {},
   "outputs": [
    {
     "name": "stdout",
     "output_type": "stream",
     "text": [
      "Requirement already satisfied: mip in /opt/anaconda3/lib/python3.8/site-packages (1.13.0)\r\n",
      "Requirement already satisfied: cffi in /opt/anaconda3/lib/python3.8/site-packages (from mip) (1.14.5)\r\n",
      "Requirement already satisfied: pycparser in /opt/anaconda3/lib/python3.8/site-packages (from cffi->mip) (2.20)\r\n"
     ]
    }
   ],
   "source": [
    "!pip install mip\n"
   ]
  },
  {
   "cell_type": "markdown",
   "metadata": {},
   "source": [
    "Implementing integer programs in `mip` is almost the same as implementing linear programs using `PuLP` - except that you'll have to declare that you want to put integrality conditions on your variables. We use the simple IP below for demonstration:\n",
    "\n",
    "$$\\begin{equation}\n",
    "\\begin{array}{lccl}\n",
    "    \\min          &x  \\\\\n",
    "    \\text{s.t. }  &x &\\geq &4.5\\\\\n",
    "                  &x &\\in  &\\mathbb{z}\n",
    "\\end{array}\n",
    "\\end{equation}$$"
   ]
  },
  {
   "cell_type": "code",
   "execution_count": 2,
   "metadata": {},
   "outputs": [
    {
     "data": {
      "text/plain": [
       "<OptimizationStatus.OPTIMAL: 0>"
      ]
     },
     "execution_count": 2,
     "metadata": {},
     "output_type": "execute_result"
    }
   ],
   "source": [
    "import mip\n",
    "\n",
    "simpleProblem = mip.Model(name=\"Simple_IP_example\", sense=mip.MINIMIZE)\n",
    "\n",
    "x = simpleProblem.add_var(name=\"x\", var_type=mip.INTEGER)\n",
    "\n",
    "simpleProblem.objective = x\n",
    "\n",
    "simpleProblem += x >= 4.5\n",
    "\n",
    "simpleProblem.optimize()\n"
   ]
  },
  {
   "cell_type": "code",
   "execution_count": 3,
   "metadata": {},
   "outputs": [
    {
     "name": "stdout",
     "output_type": "stream",
     "text": [
      "5.0\n"
     ]
    }
   ],
   "source": [
    "print(x.x)\n"
   ]
  },
  {
   "cell_type": "markdown",
   "metadata": {},
   "source": [
    "Note that the `add_var` takes an additional (optional) argument `var_type`, which we can be set to `INTEGER`, `BINARY` or `CONTINUOUS` (the latter one being the default). For the Sudoku problem above, you might want to use binary variables. You can visit the [quick start page](https://docs.python-mip.com/en/latest/quickstart.html) of Python-MIP for more details and examples."
   ]
  },
  {
   "cell_type": "markdown",
   "metadata": {},
   "source": [
    "<b>Your second task:</b> Implement the constraints that you came up with in the first task in an integer program, and use it to find a solution to a Sudoku problem. Observe that in this problem, we only care about if there is a feasible solution, and all feasible solutions have \"equal status\" - one feasible solution will not be better than any other ones. Therefore, no maximization or minimization is involved, and thus you can use an IP with a constant objective.\n",
    "\n",
    "To this end, you can assume that the Sudoku is given to you as a list of $81$ values, each representing a cell of the Sudoku read row by row from left to right; where a $0$ indicates an empty cell. An example is given below. Note that there also is a function to display a Sudoku that is given in the above form.\n",
    "\n",
    "Make sure that your function returns the Sudoku in the same format as the input."
   ]
  },
  {
   "cell_type": "code",
   "execution_count": 4,
   "metadata": {},
   "outputs": [
    {
     "name": "stdout",
     "output_type": "stream",
     "text": [
      "╔═══╤═══╤═══╦═══╤═══╤═══╦═══╤═══╤═══╗\n",
      "║ 4 │   │ 7 ║   │   │   ║   │   │   ║\n",
      "╟───┼───┼───╫───┼───┼───╫───┼───┼───╢\n",
      "║   │ 3 │ 5 ║   │ 9 │ 7 ║ 4 │   │   ║\n",
      "╟───┼───┼───╫───┼───┼───╫───┼───┼───╢\n",
      "║   │ 9 │   ║   │   │   ║   │   │ 6 ║\n",
      "╠═══╪═══╪═══╬═══╪═══╪═══╬═══╪═══╪═══╣\n",
      "║   │   │   ║ 3 │   │ 2 ║   │   │   ║\n",
      "╟───┼───┼───╫───┼───┼───╫───┼───┼───╢\n",
      "║ 6 │   │   ║   │ 8 │   ║   │   │   ║\n",
      "╟───┼───┼───╫───┼───┼───╫───┼───┼───╢\n",
      "║   │   │   ║   │   │   ║ 5 │   │   ║\n",
      "╠═══╪═══╪═══╬═══╪═══╪═══╬═══╪═══╪═══╣\n",
      "║   │   │   ║ 4 │   │   ║   │ 1 │ 8 ║\n",
      "╟───┼───┼───╫───┼───┼───╫───┼───┼───╢\n",
      "║   │   │ 3 ║   │ 2 │ 8 ║   │   │ 4 ║\n",
      "╟───┼───┼───╫───┼───┼───╫───┼───┼───╢\n",
      "║ 5 │   │ 4 ║   │   │   ║   │ 9 │ 7 ║\n",
      "╚═══╧═══╧═══╩═══╧═══╧═══╩═══╧═══╧═══╝\n",
      "\n"
     ]
    }
   ],
   "source": [
    "# Example Sudoku input and Sudoku printing\n",
    "\n",
    "sudoku1 = [4, 0, 7, 0, 0, 0, 0, 0, 0, \n",
    "           0, 3, 5, 0, 9, 7, 4, 0, 0, \n",
    "           0, 9, 0, 0, 0, 0, 0, 0, 6, \n",
    "           0, 0, 0, 3, 0, 2, 0, 0, 0, \n",
    "           6, 0, 0, 0, 8, 0, 0, 0, 0, \n",
    "           0, 0, 0, 0, 0, 0, 5, 0, 0, \n",
    "           0, 0, 0, 4, 0, 0, 0, 1, 8, \n",
    "           0, 0, 3, 0, 2, 8, 0, 0, 4, \n",
    "           5, 0, 4, 0, 0, 0, 0, 9, 7]\n",
    "\n",
    "def printSudoku(sudoku):\n",
    "    # compact Sudoku printing function\n",
    "    # taken from https://codegolf.stackexchange.com/questions/126930/\n",
    "    #    draw-a-sudoku-board-using-line-drawing-characters\n",
    "    q = lambda x,y:x+y+x+y+x\n",
    "    r = lambda a,b,c,d,e:a+q(q(b*3,c),d)+e+\"\\n\"\n",
    "    print(((r(*\"╔═╤╦╗\") + q(q(\"║ %d │ %d │ %d \"*3 + \"║\\n\",r(*\"╟─┼╫╢\")), r(*\"╠═╪╬╣\")) +\n",
    "            r(*\"╚═╧╩╝\")) % tuple(sudoku)).replace(*\"0 \"))\n",
    "\n",
    "printSudoku(sudoku1)\n"
   ]
  },
  {
   "cell_type": "code",
   "execution_count": 5,
   "metadata": {},
   "outputs": [],
   "source": [
    "# Implementation of a Sudoku solver\n",
    "\n",
    "def sudokuSolver(inputSudoku):\n",
    "    \n",
    "    ## Your code goes here.\n",
    "    \n",
    "    return outputSudoku\n"
   ]
  },
  {
   "cell_type": "markdown",
   "metadata": {},
   "source": [
    "## Checking for uniqueness of the Sudoku solutions\n",
    "\n",
    "Sudokus are generally agreed to be \"real\" Sudokus only if they have a unique Solution.\n",
    "\n",
    "<b>Your third task:</b> Implement a function that checks whether a Sudoko has no solution, a unique solution, or more than one solution. You can reuse the code that you created above for solving the Sudoku. The function should return a tuple `(n, sol)`, where $n\\in\\{0, 1, 2\\}$ depending on whether the Sudoku has zero, one, or at least two solutions, respectively, and `sol` is a list of zero, one, or two solutions of the Sudoku.\n",
    "\n",
    "If you want a hint, run the following code cell. Do not run it if you want to think about the problem yourself! :)"
   ]
  },
  {
   "cell_type": "code",
   "execution_count": null,
   "metadata": {},
   "outputs": [],
   "source": [
    "## Running this cell will display a hint!\n",
    "\n",
    "encoded = [79, 98, 115, 101, 114, 118, 101, 32, 116, 104, 97, 116, 32, 115, 111, 108, 118, 105, 110, 103, 32, 97, 32, 83, 117, 100, 111, 107, 117, 32, 100, 105, 100, 32, 110, 111, 116, 32, 117, 115, 101, 32, 116, 104, 101, 32, 111, 98, 106, 101, 99, 116, 105, 118, 101, 32, 102, 117, 110, 99, 116, 105, 111, 110, 32, 111, 102, 32, 116, 104, 101, 32, 73, 80, 46, 32, 79, 110, 99, 101, 32, 121, 111, 117, 32, 102, 111, 117, 110, 100, 32, 111, 110, 101, 32, 115, 111, 108, 117, 116, 105, 111, 110, 44, 32, 99, 97, 110, 32, 121, 111, 117, 32, 101, 120, 112, 108, 111, 105, 116, 32, 116, 104, 101, 32, 102, 97, 99, 116, 32, 116, 104, 97, 116, 32, 121, 111, 117, 32, 99, 97, 110, 32, 99, 104, 111, 111, 115, 101, 32, 116, 104, 101, 32, 111, 98, 106, 101, 99, 116, 105, 118, 101, 32, 116, 111, 32, 115, 101, 101, 32, 105, 102, 32, 121, 111, 117, 32, 99, 97, 110, 32, 102, 105, 110, 100, 32, 97, 110, 111, 116, 104, 101, 114, 32, 115, 111, 108, 117, 116, 105, 111, 110, 63]\n",
    "print('Hint: ' + ''.join([chr(x) for x in encoded]))\n"
   ]
  },
  {
   "cell_type": "code",
   "execution_count": 7,
   "metadata": {},
   "outputs": [],
   "source": [
    "def numberOfSolutions(inputSudoku):\n",
    "    \n",
    "    ## Your code goes here.\n",
    "    \n",
    "    return (n, sol)\n"
   ]
  },
  {
   "cell_type": "markdown",
   "metadata": {},
   "source": [
    "\n",
    "## Testing your code\n",
    "\n",
    "Among the following three Sudokus, there is one from each category that your function `numberOfSolutions()` should be able to distinguish: One has no solution, one has a unique Solution, and one has two Solutions. Test your implementation on these Sudokus!"
   ]
  },
  {
   "cell_type": "code",
   "execution_count": 8,
   "metadata": {},
   "outputs": [
    {
     "name": "stdout",
     "output_type": "stream",
     "text": [
      "╔═══╤═══╤═══╦═══╤═══╤═══╦═══╤═══╤═══╗\n",
      "║ 2 │   │   ║   │   │   ║   │ 4 │   ║\n",
      "╟───┼───┼───╫───┼───┼───╫───┼───┼───╢\n",
      "║ 1 │   │   ║   │   │   ║   │   │ 7 ║\n",
      "╟───┼───┼───╫───┼───┼───╫───┼───┼───╢\n",
      "║ 8 │   │ 6 ║ 3 │   │   ║   │   │   ║\n",
      "╠═══╪═══╪═══╬═══╪═══╪═══╬═══╪═══╪═══╣\n",
      "║   │ 5 │   ║   │   │ 7 ║ 3 │   │ 1 ║\n",
      "╟───┼───┼───╫───┼───┼───╫───┼───┼───╢\n",
      "║   │   │ 3 ║   │ 1 │   ║   │   │   ║\n",
      "╟───┼───┼───╫───┼───┼───╫───┼───┼───╢\n",
      "║   │   │ 2 ║   │   │ 3 ║ 7 │ 5 │ 4 ║\n",
      "╠═══╪═══╪═══╬═══╪═══╪═══╬═══╪═══╪═══╣\n",
      "║   │   │ 7 ║   │   │ 5 ║   │   │   ║\n",
      "╟───┼───┼───╫───┼───┼───╫───┼───┼───╢\n",
      "║ 5 │   │   ║   │ 4 │   ║   │   │   ║\n",
      "╟───┼───┼───╫───┼───┼───╫───┼───┼───╢\n",
      "║   │   │   ║ 1 │ 7 │   ║   │   │ 8 ║\n",
      "╚═══╧═══╧═══╩═══╧═══╧═══╩═══╧═══╧═══╝\n",
      "\n"
     ]
    }
   ],
   "source": [
    "sudoku2 = [2, 0, 0, 0, 0, 0, 0, 4, 0, \n",
    "           1, 0, 0, 0, 0, 0, 0, 0, 7,\n",
    "           8, 0, 6, 3, 0, 0, 0, 0, 0,\n",
    "           0, 5, 0, 0, 0, 7, 3, 0, 1, \n",
    "           0, 0, 3, 0, 1, 0, 0, 0, 0, \n",
    "           0, 0, 2, 0, 0, 3, 7, 5, 4, \n",
    "           0, 0, 7, 0, 0, 5, 0, 0, 0, \n",
    "           5, 0, 0, 0, 4, 0, 0, 0, 0, \n",
    "           0, 0, 0, 1, 7, 0, 0, 0, 8]\n",
    "printSudoku(sudoku2)\n"
   ]
  },
  {
   "cell_type": "code",
   "execution_count": 9,
   "metadata": {},
   "outputs": [
    {
     "name": "stdout",
     "output_type": "stream",
     "text": [
      "╔═══╤═══╤═══╦═══╤═══╤═══╦═══╤═══╤═══╗\n",
      "║   │   │   ║ 6 │   │ 7 ║   │   │   ║\n",
      "╟───┼───┼───╫───┼───┼───╫───┼───┼───╢\n",
      "║   │   │   ║   │   │   ║   │ 9 │ 8 ║\n",
      "╟───┼───┼───╫───┼───┼───╫───┼───┼───╢\n",
      "║ 3 │   │   ║   │   │   ║   │   │   ║\n",
      "╠═══╪═══╪═══╬═══╪═══╪═══╬═══╪═══╪═══╣\n",
      "║   │   │   ║   │ 2 │   ║ 6 │   │   ║\n",
      "╟───┼───┼───╫───┼───┼───╫───┼───┼───╢\n",
      "║   │   │   ║   │   │   ║ 7 │   │   ║\n",
      "╟───┼───┼───╫───┼───┼───╫───┼───┼───╢\n",
      "║   │ 4 │   ║   │ 8 │   ║   │   │   ║\n",
      "╠═══╪═══╪═══╬═══╪═══╪═══╬═══╪═══╪═══╣\n",
      "║ 1 │   │   ║   │   │   ║   │ 2 │ 3 ║\n",
      "╟───┼───┼───╫───┼───┼───╫───┼───┼───╢\n",
      "║   │   │ 8 ║ 9 │   │   ║   │   │   ║\n",
      "╟───┼───┼───╫───┼───┼───╫───┼───┼───╢\n",
      "║   │   │   ║ 4 │   │   ║ 1 │   │   ║\n",
      "╚═══╧═══╧═══╩═══╧═══╧═══╩═══╧═══╧═══╝\n",
      "\n"
     ]
    }
   ],
   "source": [
    "sudoku3 = [0, 0, 0, 6, 0, 7, 0, 0, 0, \n",
    "           0, 0, 0, 0, 0, 0, 0, 9, 8,\n",
    "           3, 0, 0, 0, 0, 0, 0, 0, 0,\n",
    "           0, 0, 0, 0, 2, 0, 6, 0, 0, \n",
    "           0, 0, 0, 0, 0, 0, 7, 0, 0, \n",
    "           0, 4, 0, 0, 8, 0, 0, 0, 0, \n",
    "           1, 0, 0, 0, 0, 0, 0, 2, 3, \n",
    "           0, 0, 8, 9, 0, 0, 0, 0, 0, \n",
    "           0, 0, 0, 4, 0, 0, 1, 0, 0]\n",
    "printSudoku(sudoku3)\n"
   ]
  },
  {
   "cell_type": "code",
   "execution_count": 10,
   "metadata": {},
   "outputs": [
    {
     "name": "stdout",
     "output_type": "stream",
     "text": [
      "╔═══╤═══╤═══╦═══╤═══╤═══╦═══╤═══╤═══╗\n",
      "║   │ 6 │   ║   │   │   ║   │ 7 │ 4 ║\n",
      "╟───┼───┼───╫───┼───┼───╫───┼───┼───╢\n",
      "║ 1 │   │   ║ 6 │   │ 7 ║   │   │ 3 ║\n",
      "╟───┼───┼───╫───┼───┼───╫───┼───┼───╢\n",
      "║ 7 │   │   ║   │   │   ║   │   │   ║\n",
      "╠═══╪═══╪═══╬═══╪═══╪═══╬═══╪═══╪═══╣\n",
      "║   │   │   ║   │ 1 │   ║   │   │ 2 ║\n",
      "╟───┼───┼───╫───┼───┼───╫───┼───┼───╢\n",
      "║   │   │ 1 ║ 5 │   │   ║ 9 │   │   ║\n",
      "╟───┼───┼───╫───┼───┼───╫───┼───┼───╢\n",
      "║ 9 │   │   ║ 8 │   │   ║   │ 1 │   ║\n",
      "╠═══╪═══╪═══╬═══╪═══╪═══╬═══╪═══╪═══╣\n",
      "║   │   │   ║   │   │   ║   │ 3 │   ║\n",
      "╟───┼───┼───╫───┼───┼───╫───┼───┼───╢\n",
      "║ 3 │   │   ║   │   │ 2 ║ 8 │ 5 │   ║\n",
      "╟───┼───┼───╫───┼───┼───╫───┼───┼───╢\n",
      "║   │   │ 9 ║   │   │ 4 ║   │   │   ║\n",
      "╚═══╧═══╧═══╩═══╧═══╧═══╩═══╧═══╧═══╝\n",
      "\n"
     ]
    }
   ],
   "source": [
    "sudoku4 = [0, 6, 0, 0, 0, 0, 0, 7, 4,\n",
    "           1, 0, 0, 6, 0, 7, 0, 0, 3, \n",
    "           7, 0, 0, 0, 0, 0, 0, 0, 0, \n",
    "           0, 0, 0, 0, 1, 0, 0, 0, 2, \n",
    "           0, 0, 1, 5, 0, 0, 9, 0, 0, \n",
    "           9, 0, 0, 8, 0, 0, 0, 1, 0, \n",
    "           0, 0, 0, 0, 0, 0, 0, 3, 0, \n",
    "           3, 0, 0, 0, 0, 2, 8, 5, 0, \n",
    "           0, 0, 9, 0, 0, 4, 0, 0, 0]\n",
    "printSudoku(sudoku4)\n"
   ]
  },
  {
   "cell_type": "code",
   "execution_count": 11,
   "metadata": {},
   "outputs": [],
   "source": [
    "# Test your functions here!\n",
    "\n"
   ]
  }
 ],
 "metadata": {
  "kernelspec": {
   "display_name": "Python 3 (ipykernel)",
   "language": "python",
   "name": "python3"
  },
  "language_info": {
   "codemirror_mode": {
    "name": "ipython",
    "version": 3
   },
   "file_extension": ".py",
   "mimetype": "text/x-python",
   "name": "python",
   "nbconvert_exporter": "python",
   "pygments_lexer": "ipython3",
   "version": "3.8.13"
  }
 },
 "nbformat": 4,
 "nbformat_minor": 4
}
