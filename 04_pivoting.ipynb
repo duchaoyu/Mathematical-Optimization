{
 "cells": [
  {
   "cell_type": "markdown",
   "id": "2555b19e",
   "metadata": {},
   "source": [
    "# Week 4B: Pivoting\n",
    "\n",
    "<font color='blue'><b>Goals of this notebook:</b></font> Implement the exchange step as a function, then apply it to solve a sample problem.\n",
    "\n",
    "## Task 1: Implementing a pivoting function\n",
    "\n",
    "For this task, we need to deal with matrices using a new module called `numpy`. If you are not familiar with `numpy`, please refer to the workbook \"Week 4A: Introduction to numpy\".\n",
    "\n",
    "We are given the following LP in canonical form:\n",
    "\n",
    "$$\\begin{equation}\n",
    "\\begin{array} {l@{}r@{}r@{}r@{}r@{}r@{}r@{}} \\\\\n",
    "  \\text{max}  & z = &4x_1    & + &9x_2  &       &  \\\\\n",
    "  \\text{subject  to:} \n",
    "                  & &x_1     & + &4x_2   & \\leq  &40\\\\\n",
    "                  & &2x_1    & + & x_2   & \\leq  &42\\\\\n",
    "                  & &1.5x_1  & + &3x_2   & \\leq  &36\\\\\n",
    "                  & &x_1     &   &       & \\geq  &0 \\\\\n",
    "                  & &        &   &x_2    & \\geq  &0 \\\\\n",
    "\\end{array}\n",
    "\\end{equation}$$\n",
    "\n",
    "\n",
    "Our task is to implement a function that performs a pivoting step on the element in the $i$-th row and $k$-th column of the tableau $T$. To get the tableau $T$, we first need to convert the LP into standard form:\n",
    "\n",
    "\n",
    "$$\\begin{equation}\n",
    "\\begin{array} {l@{}r@{}r@{}r@{}r@{}r@{}r@{}} \\\\\n",
    "  \\text{max}    & z=       &    & &    & &    & &4 x_1   &+ &9 x_2  &       &  \\\\\n",
    "  \\text{subject to:}  \n",
    "                & &y_1 &+&    & &    & &x_1     &+ &4 x_2   & =     &40\\\\\n",
    "                & &    & &y_2 &+&    & &2x_1    &+ & x_2    & =     &42\\\\\n",
    "                & &    & &    & &y_3 &+&1.5x_1  &+ &3x_2    & =     &36\\\\\n",
    "                & &    & &    & &    & &x_1     &  &        & \\geq  &0 \\\\\n",
    "                & &    & &    & &    & &        &  &x_2     & \\geq  &0 \\\\\n",
    "                & &y_1 & &    & &    & &        &  &        & \\geq  &0 \\\\\n",
    "                & &    & &y_2 & &    & &        &  &        & \\geq  &0 \\\\\n",
    "                & &    & &    & &y_3 & &        &  &        & \\geq  &0 \\\\\n",
    "\\end{array}\n",
    "\\end{equation}$$\n",
    "\n",
    "Then we can construct the tableau $T$:\n",
    "\n",
    "$$\\begin{equation}\n",
    "\\begin{array}{l|rrrrr|r}\n",
    "  & y_1 & y_2 & y_3 & x_1 & x_2 & 1\\\\\n",
    "  \\hline\n",
    "z & 0 & 0 & 0 & -4 & -9 & 0\\\\\n",
    "  \\hline\n",
    "  & 1 & 0 & 0 & 1 & 4 & 40\\\\\n",
    "  & 0 & 1 & 0 & 2 & 1 & 42\\\\\n",
    "  & 0 & 0 & 1 & 1.5 & 3 & 36\n",
    "\\end{array}\n",
    "\\end{equation}$$"
   ]
  },
  {
   "cell_type": "markdown",
   "id": "e2e9b191",
   "metadata": {},
   "source": [
    "### Step 1: Initializing the tableau\n",
    "\n",
    "First, we need to import the module `numpy`, then write down the initial tableau $T$ as a matrix. "
   ]
  },
  {
   "cell_type": "code",
   "execution_count": 3,
   "id": "71e68594",
   "metadata": {},
   "outputs": [],
   "source": [
    "# Import the module\n",
    "import numpy as np\n",
    "\n",
    "# Define the initial tableau\n",
    "T = np.matrix([\n",
    "    [0., 0., 0., -4., -9.,  0.],\n",
    "    [1., 0., 0.,  1.,  4., 40.],\n",
    "    [0., 1., 0.,  2.,  1., 42.],\n",
    "    [0., 0., 1., 1.5,  3., 36.]\n",
    "])"
   ]
  },
  {
   "cell_type": "markdown",
   "id": "901e7409",
   "metadata": {},
   "source": [
    "### Step 2: Implementing the exchange function\n",
    "\n",
    "As in the lecture notes, below are the formula for computing the entries of the new tableau. Suppose we perform a pivoting step at the $(i,k)$-th entry of the current tableau. Then the tableau is getting updated by the following rule:\n",
    "\n",
    "$$\\begin{equation}\n",
    "\\begin{array}\n",
    "((i) & a'_{il} = \\frac{a_{il}}{a_{ik}} & l=1,...,n+m &\\\\\n",
    "(ii) & a'_{jl} = a_{jl} - \\frac{ a_{jk}a_{il}}{a_{ik}} & l=1,...,n+m & j \\neq i, j=1,...,m\n",
    "\\end{array}\n",
    "\\end{equation}$$\n",
    "\n",
    "Your task is to write a function that takes an arbitrary tableau $T$, and output the resulting tableau after pivoting at the $(i,k)$-th entry. The input will be the triplet $(T,i,k)$.\n",
    "\n",
    "*Note: In `numpy`, the entries of a matrix start counting from 0, but when we say pivoting at a certain entry, we count from 1. As an example, the $(3,4)$ entry of the tableau $T$ is $2$. In `numpy`, this entry corresponds to `T[2,3]`, not `T[3,4]`.*\n"
   ]
  },
  {
   "cell_type": "code",
   "execution_count": 4,
   "id": "65501bd9",
   "metadata": {},
   "outputs": [],
   "source": [
    "# Implement your function here\n",
    "def pivot(T,i,k):\n",
    "    # Create a copy of the tableau so that the original one is untouched\n",
    "    T_pivot = np.zeros_like(T, dtype=float)  # initialize the output\n",
    "    \n",
    "    # Step (i)\n",
    "    # We divide the i-th row elementwise by the value of a_ik\n",
    "    T_pivot[i,:] = T[i,:] / T[i,k]\n",
    "    \n",
    "    # Step (ii)\n",
    "    # We compute the new value for each item in the new tableau T_pivot\n",
    "    for l in range(0, T.shape[1]):\n",
    "        for j in range(0, T.shape[0]):\n",
    "            if(j != i):\n",
    "                T_pivot[j,l] = T[j,l] - T[j,k] * T[i,l] / T[i,k]\n",
    "\n",
    "    \n",
    "    return T_pivot\n"
   ]
  },
  {
   "cell_type": "markdown",
   "id": "80d0e155",
   "metadata": {},
   "source": [
    "_Remark_: The function we implemented above returns a new tableau. Therefore when using it, we need to store the resulting tableau in a new matrix."
   ]
  },
  {
   "cell_type": "markdown",
   "id": "90d7a3c8",
   "metadata": {},
   "source": [
    "### Step 3: Testing\n",
    "\n",
    "To see if your implementation works correctly, you can compare it with the result you get by hand. Let's test your function by pivoting at the $(3,5)$ entry of the initial tableau $T$. The $(3,5)$ entry corresponds to the intersection of the third row (the second constraint) and the $x_2$ column."
   ]
  },
  {
   "cell_type": "code",
   "execution_count": 14,
   "id": "ef611115",
   "metadata": {},
   "outputs": [
    {
     "name": "stdout",
     "output_type": "stream",
     "text": [
      "[[ 0.   0.   0.  -4.  -9.   0. ]\n",
      " [ 1.   0.   0.   1.   4.  40. ]\n",
      " [ 0.   1.   0.   2.   1.  42. ]\n",
      " [ 0.   0.   1.   1.5  3.  36. ]]\n",
      "[[   0.     9.     0.    14.     0.   378. ]\n",
      " [   1.    -4.     0.    -7.     0.  -128. ]\n",
      " [   0.     1.     0.     2.     1.    42. ]\n",
      " [   0.    -3.     1.    -4.5    0.   -90. ]]\n"
     ]
    }
   ],
   "source": [
    "# Pivoting at (3,5) entry using the function you just implemented and compare your results\n",
    "print(T)\n",
    "\n",
    "T_test = pivot(T,2,4)\n",
    "print(T_test)"
   ]
  },
  {
   "cell_type": "markdown",
   "id": "285997da",
   "metadata": {},
   "source": [
    "You can compare your result above with what you got by solving by hands, or you can directly check it with the following matrix:\n",
    "\n",
    "$$\\begin{equation}\n",
    "\\begin{array}{l|rrrrr|r}\n",
    "  & y_1 & y_2 & y_3 & x_1 & x_2 & 1\\\\\n",
    "  \\hline\n",
    "z & 0 & 9 & 0 & 14 & 0 & 378\\\\\n",
    "\\hline\n",
    "  & 1 & -4 & 0 & -7 & 0 & -128\\\\\n",
    "  & 0 & 1 & 0 & 2 & 1 & 42\\\\\n",
    "  & 0 & -3 & 1 & -4.5 & 0 & -90\n",
    "\\end{array}\n",
    "\\end{equation}$$\n"
   ]
  },
  {
   "cell_type": "markdown",
   "id": "a4324e6a",
   "metadata": {},
   "source": [
    "To make our tableau easier to read, we can add a header `header1` and adjust the printing format using `np.set_printoptions()`."
   ]
  },
  {
   "cell_type": "code",
   "execution_count": 16,
   "id": "1c7ed391",
   "metadata": {},
   "outputs": [
    {
     "name": "stdout",
     "output_type": "stream",
     "text": [
      " [  y1      y2      y3      x1      x2       1   ]\n",
      "[[   0       9       0      14       0      378  ]\n",
      " [   1      -4       0      -7       0     -128  ]\n",
      " [   0       1       0       2       1      42   ]\n",
      " [   0      -3       1     -4.5      0      -90  ]]\n"
     ]
    }
   ],
   "source": [
    "# Adjust the printing format\n",
    "np.set_printoptions(\n",
    "    formatter={'str_kind': lambda x: '{:^7}'.format(x),\n",
    "               'float': lambda x: '{: ^7.3g}'.format(x)})\n",
    "\n",
    "# Add a header\n",
    "header1 = np.array(['y1','y2','y3','x1','x2','1'])\n",
    "print(\"\", header1)\n",
    "print(T_test)"
   ]
  },
  {
   "cell_type": "markdown",
   "id": "cc4c5b06",
   "metadata": {},
   "source": [
    "## Task 2: Solving an LP using pivoting\n",
    "\n",
    "You can solve a linear program by pivoting multiple times until there are no negative values on the first row. You can follow the steps below to obtain and verify the optimal solution for the LP."
   ]
  },
  {
   "cell_type": "markdown",
   "id": "2e94cc56",
   "metadata": {},
   "source": [
    "### Step 1: Using the pivoting function you created to solve the LP\n",
    "\n",
    "In particular, you should first pivot on the $(2,5)$ entry, then on the $(4,4)$ entry."
   ]
  },
  {
   "cell_type": "code",
   "execution_count": 20,
   "id": "4be14f1d",
   "metadata": {},
   "outputs": [
    {
     "name": "stdout",
     "output_type": "stream",
     "text": [
      "Tableau after the first pivot:\n",
      " [  y1      y2      y3      x1      x2       1   ]\n",
      "[[ 2.25      0       0     -1.75     0      90   ]\n",
      " [ 0.25      0       0     0.25      1      10   ]\n",
      " [ -0.25     1       0     1.75      0      32   ]\n",
      " [ -0.75     0       1     0.75      0       6   ]]\n",
      "Tableau after the second pivot:\n",
      " [  y1      y2      y3      x1      x2       1   ]\n",
      "[[  0.5      0     2.33      0       0      104  ]\n",
      " [  0.5      0    -0.333     0       1       8   ]\n",
      " [  1.5      1     -2.33     0       0      18   ]\n",
      " [  -1       0     1.33      1       0       8   ]]\n",
      "Solution obtained manually:\n",
      "Objective: 104.0\n",
      "x1 = 8.0\n",
      "x2 = 8.0\n"
     ]
    }
   ],
   "source": [
    "# Pivot the tableau T twice using the given hint\n",
    "\n",
    "T_2 = pivot(T,1,4)\n",
    "\n",
    "print(\"Tableau after the first pivot:\")\n",
    "print(\"\", header1)\n",
    "print(T_2)\n",
    "\n",
    "T_3 = pivot(T_2,3,3)\n",
    "\n",
    "print(\"Tableau after the second pivot:\")\n",
    "print(\"\", header1)\n",
    "print(T_3)\n",
    "\n",
    "print(\"Solution obtained manually:\")\n",
    "print(\"Objective: \" + str(T_3[0,5]))\n",
    "print(\"x1 = \" + str(T_3[3,5]))\n",
    "print(\"x2 = \" + str(T_3[1,5]))"
   ]
  },
  {
   "cell_type": "markdown",
   "id": "742d0276",
   "metadata": {},
   "source": [
    "After the two steps, you should see that all values in the first row are non-negative. Therefore, any further exchange step would not increase the objective value. This indicates that you have already found the optimal solution and the optimal value of the LP.\n",
    "\n",
    "Next, let's check our solution by comparing it with the result solved by `PuLP`."
   ]
  },
  {
   "cell_type": "markdown",
   "id": "4f9cc344",
   "metadata": {},
   "source": [
    "### Step 2: Using `PuLP` to check your solutions"
   ]
  },
  {
   "cell_type": "code",
   "execution_count": null,
   "id": "6b43ba6e",
   "metadata": {},
   "outputs": [],
   "source": [
    "# Use PuLP to solve the same LP and compare the results\n",
    "\n",
    "import pulp\n",
    "\n",
    "# Create the LP\n",
    "Lp1 = '???'\n",
    "\n",
    "# Create the variables\n",
    "'???'\n",
    "\n",
    "# Add the objective function\n",
    "'???'\n",
    "\n",
    "# Add the constraints\n",
    "'???'\n",
    "\n",
    "Lp1.solve()\n",
    "print(\"Solution obtained with pulp:\")\n",
    "# Print out the optimal objective value of my_lp\n",
    "print(\"Objective: \" + str(Lp1.objective.value()))\n",
    "# Print out optimal vertex.\n",
    "for v in Lp1.variables():\n",
    "    print(str(v) + \" = \" + str(v.value()))"
   ]
  },
  {
   "cell_type": "markdown",
   "id": "aa9833fe",
   "metadata": {},
   "source": [
    "## Task 3: Visualizing pivoting in a 2D example\n",
    "\n",
    "Now that you have implemented a function that can automatically perform the pivoting step for you, it will be helpful to visualize the steps and understand the process better. Remember, pivoting is nothing but a tool to systematically explore the vertices of the feasible region, which is a polyhedron. \n",
    "\n",
    "Below is an example to illustrate how each step of pivoting takes you from one vertex to another. Consider the following LP:\n",
    "\n",
    "\n",
    "$$\\begin{equation}\n",
    "\\begin{array}{l@{}r@{}r@{}r@{}r@{}r@{}r@{}} \\\\\n",
    "\\text{max}    &z=  &x  &+ &y     &       &  \\\\\n",
    "\\text{subject  to:}\n",
    "                &  &x  &  &      & \\leq  &3 \\\\\n",
    "                &  &2x &+ &y     & \\leq  &7 \\\\\n",
    "                &  &x  &+ &2y    & \\leq  &8 \\\\\n",
    "                &  &x  &  &      & \\geq  &0 \\\\\n",
    "                &  &   &  &y     & \\geq  &0 \\\\\n",
    "\\end{array}\n",
    "\\end{equation}$$\n",
    "\n",
    "**In this example, we will ignore the objective function and only focus on the feasible region defined by the constraints.**"
   ]
  },
  {
   "cell_type": "code",
   "execution_count": 1,
   "id": "8478e7fc",
   "metadata": {},
   "outputs": [],
   "source": [
    "import pulp\n",
    "\n",
    "Lp2 = pulp.LpProblem(\"My_LP\", pulp.LpMaximize)\n",
    "\n",
    "x = pulp.LpVariable('x', lowBound=0, cat=pulp.LpContinuous)\n",
    "y = pulp.LpVariable('y', lowBound=0, cat=pulp.LpContinuous)\n",
    "\n",
    "Lp2 += x + y\n",
    "\n",
    "Lp2 += x <= 3\n",
    "Lp2 += 2*x + y <= 7\n",
    "Lp2 += x + 2*y <= 8"
   ]
  },
  {
   "cell_type": "markdown",
   "id": "b50c1387",
   "metadata": {},
   "source": [
    "You can view the feasible region of the above LP by running the following codes. It has 5 vertices, namely, $(0,0),(3,0),(3,1),(2,3),(0,4)$."
   ]
  },
  {
   "cell_type": "code",
   "execution_count": 2,
   "id": "49e3eea6",
   "metadata": {},
   "outputs": [
    {
     "data": {
      "image/png": "[encoded data removed]",
      "text/plain": [
       "<Figure size 432x432 with 1 Axes>"
      ]
     },
     "metadata": {
      "needs_background": "light"
     },
     "output_type": "display_data"
    }
   ],
   "source": [
    "%matplotlib inline\n",
    "from plotLP import *  \n",
    "plotLP(Lp2, x_lower=-1, x_upper=8, y_lower=-1, y_upper=8)"
   ]
  },
  {
   "cell_type": "markdown",
   "id": "63e3a247",
   "metadata": {},
   "source": [
    "### Step 1: Initializing\n",
    "\n",
    "The very first step is to write the LP in its standard form. The resulting tableau is:\n",
    "\n",
    "$$T_0=\\begin{equation}\n",
    "\\begin{array}{rrrrr|r}\n",
    "  x & y & s_1 & s_2 & s_3 & 1\\\\\n",
    " \\hline\n",
    "  1 & 0 & 1 & 0 & 0 & 3\\\\\n",
    "  2 & 1 & 0 & 1 & 0 & 7\\\\\n",
    "  1 & 2 & 0 & 0 & 1 & 8\n",
    "\\end{array}\n",
    "\\end{equation}$$\n",
    "\n",
    "Correspondingly, we initialize the tableau `T0` in Python in the code below."
   ]
  },
  {
   "cell_type": "code",
   "execution_count": 3,
   "id": "ddc4b7b0",
   "metadata": {},
   "outputs": [
    {
     "name": "stdout",
     "output_type": "stream",
     "text": [
      " [   x       y      s1      s2      s3       1   ]\n",
      "[[   1       0       1       0       0       3   ]\n",
      " [   2       1       0       1       0       7   ]\n",
      " [   1       2       0       0       1       8   ]]\n"
     ]
    }
   ],
   "source": [
    "# Add a header\n",
    "header2 = np.array(['x','y','s1','s2','s3','1']) \n",
    "\n",
    "# Intialize T0\n",
    "T0 = np.matrix([\n",
    "    [1., 0., 1.,  0.,  0.,  3.],\n",
    "    [2., 1., 0.,  1.,  0.,  7.],\n",
    "    [1., 2., 0.,  0.,  1.,  8.]\n",
    "])\n",
    "\n",
    "# Print the header and T0\n",
    "print(\"\", header2)\n",
    "print(T0)"
   ]
  },
  {
   "cell_type": "markdown",
   "id": "3365f7c0",
   "metadata": {},
   "source": [
    "Both $x,y$ are non-basic variables, so they have value 0. Hence, the initial tableau $T_0$ corresponds to the point $(0,0)$, which is the lower left vertex of the feasible region. We can use the function `plotVert(T)` imported from `plotLP.py` to show the vertex corresponding to the solution of the current tableau. It is shown as a red dot in the graph below."
   ]
  },
  {
   "cell_type": "code",
   "execution_count": 4,
   "id": "7322c762",
   "metadata": {},
   "outputs": [
    {
     "data": {
      "image/png": "[encoded data removed]",
      "text/plain": [
       "<Figure size 432x432 with 1 Axes>"
      ]
     },
     "metadata": {
      "needs_background": "light"
     },
     "output_type": "display_data"
    }
   ],
   "source": [
    "plotLP(Lp2, x_lower=-1, x_upper=8, y_lower=-1, y_upper=8)\n",
    "plotVert(T0)"
   ]
  },
  {
   "cell_type": "markdown",
   "id": "93b6a807",
   "metadata": {},
   "source": [
    "### Step 2: Pivoting\n",
    "Next, we perform a pivoting step at the $(1,1)$ entry using the pivoting function we just created."
   ]
  },
  {
   "cell_type": "code",
   "execution_count": null,
   "id": "c5974112",
   "metadata": {},
   "outputs": [],
   "source": [
    "T1 = pivot(T0,0,0)\n",
    "print(\"\", header2)\n",
    "print(T1)"
   ]
  },
  {
   "cell_type": "markdown",
   "id": "131d708a",
   "metadata": {},
   "source": [
    "We can now read off from the new tableau that after the first pivoting step, $x$ becomes a basic variable, which has value 3; while $y$ is still non-basic, so $y=0$. Hence, we arrive at the vertex $(3,0)$, as shown in the graph below. Again, we use `plotVert(T)` to visualize the vertex. The optional argument `past_T` takes in a list of tableaus that we have created in the past, and their corresponding vertices are shown as blue dots in the graph."
   ]
  },
  {
   "cell_type": "code",
   "execution_count": null,
   "id": "1af86a9c",
   "metadata": {},
   "outputs": [],
   "source": [
    "plotLP(Lp2, x_lower=-1, x_upper=8, y_lower=-1, y_upper=8)\n",
    "plotVert(T1, past_T=[T0])"
   ]
  },
  {
   "cell_type": "markdown",
   "id": "d9dcffec",
   "metadata": {},
   "source": [
    "### Step 3: Pivoting continued\n",
    "In the next step, we continue pivoting at the $(2,2)$ entry."
   ]
  },
  {
   "cell_type": "code",
   "execution_count": null,
   "id": "b126cd1b",
   "metadata": {},
   "outputs": [],
   "source": [
    "T2 = pivot(T1,1,1)\n",
    "print(\"\", header2)\n",
    "print(T2)"
   ]
  },
  {
   "cell_type": "markdown",
   "id": "60ddb2bf",
   "metadata": {},
   "source": [
    "From this tableau, we can see that now both $x,y$ are basic variables, so we can read off their values directly from the tableau, which are 3 and 1 respectively. Hence, we've moved to the vertex $(3,1)$."
   ]
  },
  {
   "cell_type": "code",
   "execution_count": null,
   "id": "1069c70e",
   "metadata": {},
   "outputs": [],
   "source": [
    "plotLP(Lp2, x_lower=-1, x_upper=8, y_lower=-1, y_upper=8)\n",
    "plotVert(T2, past_T=[T0,T1])"
   ]
  },
  {
   "cell_type": "markdown",
   "id": "f0dfa5ef",
   "metadata": {},
   "source": [
    "We continue with pivoting at the $(3,3)$ entry to explore further:"
   ]
  },
  {
   "cell_type": "code",
   "execution_count": null,
   "id": "b6d487ef",
   "metadata": {},
   "outputs": [],
   "source": [
    "T3 = pivot(T2,2,2)\n",
    "print(\"\", header2)\n",
    "print(T3)"
   ]
  },
  {
   "cell_type": "markdown",
   "id": "c0a6d30a",
   "metadata": {},
   "source": [
    "After this pivoting step, $x,y$ are still basic variables, but their value changes as one can read from the right hand side of the tableau. It now takes us to the $(2,3)$ vertex. We almost finish exploring all the vertices."
   ]
  },
  {
   "cell_type": "code",
   "execution_count": null,
   "id": "d3833734",
   "metadata": {},
   "outputs": [],
   "source": [
    "plotLP(Lp2, x_lower=-1, x_upper=8, y_lower=-1, y_upper=8)\n",
    "plotVert(T3, past_T=[T0,T1,T2])"
   ]
  },
  {
   "cell_type": "markdown",
   "id": "b60556f6",
   "metadata": {},
   "source": [
    "At this step, one can check that we have already arrived at the optimal solution $(2,3)$. So if we aim at optimizing the objective function $x+y$, we can stop here. \n",
    "\n",
    "Nonetheless, we can still perform further pivoting steps just to explore all the possible vertices. So we pivot one last time at $(1,4)$ entry:"
   ]
  },
  {
   "cell_type": "code",
   "execution_count": null,
   "id": "c5e57b59",
   "metadata": {},
   "outputs": [],
   "source": [
    "T4 = pivot(T3,0,3)\n",
    "print(\"\", header2)\n",
    "print(T4)"
   ]
  },
  {
   "cell_type": "markdown",
   "id": "044545f3",
   "metadata": {},
   "source": [
    "We can see that by pivoting at the $(1,4)$ entry, $x$ is no longer a basic variable, while $y$ remains. The current tableau corresponds to the vertex $(0,4)$. So we have successfully explored all the five vertices of the polygon using our pivoting function."
   ]
  },
  {
   "cell_type": "code",
   "execution_count": null,
   "id": "0bf7f95a",
   "metadata": {},
   "outputs": [],
   "source": [
    "plotLP(Lp2, x_lower=-1, x_upper=8, y_lower=-1, y_upper=8)\n",
    "plotVert(T4, past_T=[T0, T1, T2, T3])"
   ]
  },
  {
   "cell_type": "markdown",
   "id": "1ff7d0e6",
   "metadata": {},
   "source": [
    "### Step 4: Trying it yourself\n",
    "\n",
    "There are many ways other than what we have shown above to pivot the tableau. We leave the opportunity for you to play around and see how different pivot choices bring you to different vertices of the polygon. \n",
    "\n",
    "*Note: Though there are many ways to choose your pivots, you should bear in mind that not all entries can be chosen as pivots, as some will take you out of the feasible region. Nonetheless, try experimenting with some 'bad' choices and see where they lead you.*"
   ]
  },
  {
   "cell_type": "code",
   "execution_count": null,
   "id": "b2e11643",
   "metadata": {},
   "outputs": [],
   "source": [
    "# Try pivoting around to understand the exchange step better\n",
    "\n"
   ]
  }
 ],
 "metadata": {
  "kernelspec": {
   "display_name": "Python 3 (ipykernel)",
   "language": "python",
   "name": "python3"
  },
  "language_info": {
   "codemirror_mode": {
    "name": "ipython",
    "version": 3
   },
   "file_extension": ".py",
   "mimetype": "text/x-python",
   "name": "python",
   "nbconvert_exporter": "python",
   "pygments_lexer": "ipython3",
   "version": "3.9.13"
  }
 },
 "nbformat": 4,
 "nbformat_minor": 5
}
