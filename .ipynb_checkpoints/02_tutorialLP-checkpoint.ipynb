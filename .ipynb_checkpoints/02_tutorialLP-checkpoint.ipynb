{
 "cells": [
  {
   "cell_type": "markdown",
   "metadata": {},
   "source": [
    "# Week 2A: Introduction to PuLP\n",
    "## Solving a Linear Program (LP) in Python with PuLP"
   ]
  },
  {
   "cell_type": "markdown",
   "metadata": {},
   "source": [
    "<font color='blue'><b>Goals of this notebook:</b></font>\n",
    "Learn the basic commands to solve an LP with Python, including `LpProblem` and `LpVariable`.\n",
    "\n",
    "<font color='blue'><b>Python packages required:</b></font>\n",
    "PuLP\n",
    "\n",
    "<font color='blue'><b>Additional resources:</b></font> \n",
    "More on PuLP: https://pypi.org/project/PuLP/#description. <br> Additional examples: https://coin-or.github.io/pulp/CaseStudies/a_blending_problem.html.\n"
   ]
  },
  {
   "cell_type": "markdown",
   "metadata": {
    "slideshow": {
     "slide_type": "-"
    }
   },
   "source": [
    "In its most general form, a linear program looks like\n",
    "\n",
    "$$\n",
    "\\begin{array}{rcl}\n",
    "    \\max & c^\\intercal x\\\\\n",
    "    \\text{s.t.}& Ax &\\le& b\\\\\n",
    "                     & Bx &=& d\\\\\n",
    "                     & Cx &\\ge& f\\\\\n",
    "                     & x & \\in & \\mathbb{R}^n.\n",
    "\\end{array}\n",
    "$$\n",
    "\n",
    "There are three components to an LP: the variables $x$, the objective $\\max ~ c^\\intercal x$, and the constraints $Ax \\le b$, $Bx = d$, and $Cx \\ge f$.\n",
    "In order to code these using Python, we can follow the following six steps:\n",
    "\n",
    "<b>Step 1: Load PuLP.</b> Import Python's toolbox PuLP for solving LPs.\n",
    "\n",
    "<b>Step 2: Initialize an \"empty\" linear program.</b>\n",
    "Intuitively, an empty linear program is Python's version of a sheet of paper on which we write the variables, the objective, and the constraints.\n",
    "\n",
    "<b>Step 3: Add the variables $x$.</b>\n",
    "We add the three components of an LP (the variable, the objective function, and the constraints) to the empty linear program created in the last step.\n",
    "\n",
    "<b>Step 4: Add the objective function </b> $\\max ~ c^\\intercal x$.\n",
    "\n",
    "<b>Step 5: Add the constraints </b> $Ax \\le b, ~Bx = d$, and $Cx \\ge f$.\n",
    "\n",
    "<b>Step 6: Solve the LP and print the results.</b>\n",
    "\n",
    "The following example will introduce the basic Python commands needed in <b>Steps 1-6</b>."
   ]
  },
  {
   "cell_type": "markdown",
   "metadata": {},
   "source": [
    "## Example: Alice's Farm\n",
    "Alice wants to build a farm to produce corn. She can spend CHF 1000.\n",
    "It costs Alice CHF 3 to produce one kilogram of corn, and she can sell it for CHF 7.\n",
    "Alice can also buy additional farmland at a cost of CHF 100 per acre, and each acre can only grow 30 kilograms of corn.\n",
    "How many acres and kgs of corn should she buy to maximize profit?\n",
    "\n",
    "Here is a model of Alice's problem.\n",
    "    \n",
    "$$\n",
    "\\begin{array}{rlcl}\n",
    "\\max & 7 \\times (\\text{corn produced})\t\\\\\n",
    "\\text{s.t.} &  \\text{corn produced} &\\le& 30 \\times (\\text{acres purchased})\\\\\n",
    "         & 3 \\times (\\text{corn produced}) + 100 \\times (\\text{acres purchased}) &\\le& 1000\\\\\n",
    "         &0 \\le \\text{corn produced}\\\\\n",
    "         &0 \\le \\text{acres purchased}.\n",
    "\\end{array}\n",
    "$$"
   ]
  },
  {
   "cell_type": "markdown",
   "metadata": {},
   "source": [
    "#### Step 1: Loading PuLP"
   ]
  },
  {
   "cell_type": "markdown",
   "metadata": {},
   "source": [
    "Run the following code block to import PuLP (you do not need to know how this code block works). \n",
    "\n",
    "*Note: One way to run the code is to click in the box below and press the 'Run' button. \n",
    "Another way is to click in the box and press 'Shift + Enter'.*"
   ]
  },
  {
   "cell_type": "code",
   "execution_count": 1,
   "metadata": {},
   "outputs": [],
   "source": [
    "# Import the necessary LP toolbox from Python\n",
    "from pulp import *"
   ]
  },
  {
   "cell_type": "markdown",
   "metadata": {},
   "source": [
    "#### Step 2: Creating an empty linear program"
   ]
  },
  {
   "cell_type": "markdown",
   "metadata": {},
   "source": [
    "The function `LpProblem` creates an empty linear program, and it has three parts:\n",
    "   \n",
    "* `\"Alice's_Farm\"` - This is the name displayed when we print the linear program. You can choose any other name you like. \n",
    "   \n",
    "* `LpMaximize` - This makes the linear program a maximization problem.\n",
    "\n",
    "* `my_LP` - This is the name that the code uses to identify our LP. You can choose any other name you like. \n",
    "\n",
    "Run the following code block to create our linear program."
   ]
  },
  {
   "cell_type": "code",
   "execution_count": 2,
   "metadata": {},
   "outputs": [],
   "source": [
    "# Create an empty linear program\n",
    "my_LP = LpProblem(\"Alice's_Farm\", LpMaximize)"
   ]
  },
  {
   "cell_type": "markdown",
   "metadata": {},
   "source": [
    "#### Step 3: Adding the variables"
   ]
  },
  {
   "cell_type": "markdown",
   "metadata": {},
   "source": [
    "We need to create two variables: one for the amount of corn produced and one for the number of acres purchased. \n",
    "Consider the variable for the amount of corn produced. \n",
    "The function to create this variable is `LpVariable` and it has three components:\n",
    "\n",
    "* `\"Corn_produced\"` - This is the name displayed when we print the LP. You can choose any other name you like. \n",
    "\n",
    "* `\"corn\"` - This is the name that the code uses to identify this variable. You can choose any other name you like. \n",
    "\n",
    "* `lowBound = 0` - This guarantees that the variable is lower bounded by 0 (i.e., that is it nonnegative). \n",
    "\n",
    "*Note: The command `lowBound = 0` creates the inequality $\\text{corn} \\ge 0$. \n",
    "Alternatively, we can add this as a constraint in <b>Step 5</b>. \n",
    "This type of constraint is very common, so PuLP has commands to add them quickly.*\n",
    "\n",
    "The `LpVariable` function can also be used to create a variable for the number of acres purchased.\n",
    "\n",
    "Run the following code block to add our variables."
   ]
  },
  {
   "cell_type": "code",
   "execution_count": 3,
   "metadata": {},
   "outputs": [],
   "source": [
    "# Create the variables\n",
    "corn = LpVariable(\"Corn_produced\", lowBound=0)\n",
    "acres = LpVariable(\"Acres_purchased\", lowBound=0)"
   ]
  },
  {
   "cell_type": "markdown",
   "metadata": {},
   "source": [
    "#### Step 4: Adding the objective function"
   ]
  },
  {
   "cell_type": "markdown",
   "metadata": {},
   "source": [
    "In <b>Step 2</b> that we created `my_LP` to be a maximization problem. \n",
    "Therefore, we only need to add the objective function $c^\\intercal x$.\n",
    "The objective function for our problem is $7 \\times \\text{(corn produced)}$.\n",
    "Using our variables from <b>Step 3</b>, the objective function becomes `7*corn`.\n",
    "We use the command `+=` to add this to `my_LP`.\n",
    "\n",
    "Run the following code block to add this objective to `my_LP`.   \n",
    "    "
   ]
  },
  {
   "cell_type": "code",
   "execution_count": 4,
   "metadata": {},
   "outputs": [],
   "source": [
    "# Add the objective function\n",
    "my_LP += 7*corn"
   ]
  },
  {
   "cell_type": "markdown",
   "metadata": {},
   "source": [
    "#### Step 5: Adding the constraints"
   ]
  },
  {
   "cell_type": "markdown",
   "metadata": {},
   "source": [
    "The first constraint is $\\text{corn produced} \\le 30 \\times (\\text{acres purchased})$.\n",
    "Using our variables this becomes `corn <= 30* acres`.\n",
    "We use the command `+=` to add this to `my_LP`.\n",
    "\n",
    "Run the following code block to create this constraint and add it to the `my_LP`. "
   ]
  },
  {
   "cell_type": "code",
   "execution_count": 5,
   "metadata": {},
   "outputs": [],
   "source": [
    "# Add the first constraint\n",
    "my_LP += corn <= 30*acres"
   ]
  },
  {
   "cell_type": "markdown",
   "metadata": {},
   "source": [
    "The second constraint is $3 \\times (\\text{corn produced}) + 100 \\times (\\text{acres purchased}) \\le 1000$.\n",
    "\n",
    "Add this to our LP by running the following code block."
   ]
  },
  {
   "cell_type": "code",
   "execution_count": 6,
   "metadata": {},
   "outputs": [],
   "source": [
    "# Add the second constraint\n",
    "my_LP += 3*corn + 100*acres <= 1000"
   ]
  },
  {
   "cell_type": "markdown",
   "metadata": {},
   "source": [
    "#### Step 6: Solving the LP and print the results"
   ]
  },
  {
   "cell_type": "markdown",
   "metadata": {},
   "source": [
    "Now our linear program is completely built!\n",
    "The following code block will display the linear program so that you can check it."
   ]
  },
  {
   "cell_type": "code",
   "execution_count": 7,
   "metadata": {},
   "outputs": [
    {
     "name": "stdout",
     "output_type": "stream",
     "text": [
      "Alice's_Farm:\n",
      "MAXIMIZE\n",
      "7*Corn_produced + 0\n",
      "SUBJECT TO\n",
      "_C1: - 30 Acres_purchased + Corn_produced <= 0\n",
      "\n",
      "_C2: 100 Acres_purchased + 3 Corn_produced <= 1000\n",
      "\n",
      "VARIABLES\n",
      "Acres_purchased Continuous\n",
      "Corn_produced Continuous\n",
      "\n"
     ]
    }
   ],
   "source": [
    "# Display our linear program\n",
    "print(my_LP)"
   ]
  },
  {
   "cell_type": "markdown",
   "metadata": {},
   "source": [
    "*Note: After running the `print(my_LP)` command, the variables displayed will not explicitly state that the variables are lower bounded by zero. Also, the variables will be displayed as `Continuous`. This can be ignored for now, but we will return to this when we consider discrete decision problems.*\n",
    "\n",
    "The following code block solves our linear program."
   ]
  },
  {
   "cell_type": "code",
   "execution_count": 9,
   "metadata": {},
   "outputs": [
    {
     "name": "stdout",
     "output_type": "stream",
     "text": [
      "Welcome to the CBC MILP Solver \n",
      "Version: 2.10.8 \n",
      "Build Date: May  6 2022 \n",
      "\n",
      "command line - cbc /var/folders/wb/nsj1jwbn6pg7v8z5l7scpkw80000gn/T/f1b4edd691584505ba5e22aa2390464a-pulp.mps max timeMode elapsed branch printingOptions all solution /var/folders/wb/nsj1jwbn6pg7v8z5l7scpkw80000gn/T/f1b4edd691584505ba5e22aa2390464a-pulp.sol (default strategy 1)\n",
      "At line 2 NAME          MODEL\n",
      "At line 3 ROWS\n",
      "At line 7 COLUMNS\n",
      "At line 13 RHS\n",
      "At line 16 BOUNDS\n",
      "At line 17 ENDATA\n",
      "Problem MODEL has 2 rows, 2 columns and 4 elements\n",
      "Coin0008I MODEL read with 0 errors\n",
      "Option for timeMode changed from cpu to elapsed\n",
      "Presolve 0 (-2) rows, 0 (-2) columns and 0 (-4) elements\n",
      "Empty problem - 0 rows, 0 columns and 0 elements\n",
      "Optimal - objective value 1105.2632\n",
      "After Postsolve, objective 1105.2632, infeasibilities - dual 0 (0), primal 0 (0)\n",
      "Optimal objective 1105.263158 - 0 iterations time 0.002, Presolve 0.00\n",
      "Option for printingOptions changed from normal to all\n",
      "Total time (CPU seconds):       0.00   (Wallclock seconds):       0.00\n",
      "\n"
     ]
    },
    {
     "data": {
      "text/plain": [
       "1"
      ]
     },
     "execution_count": 9,
     "metadata": {},
     "output_type": "execute_result"
    }
   ],
   "source": [
    "# Solve the linear program\n",
    "my_LP.solve()"
   ]
  },
  {
   "cell_type": "markdown",
   "metadata": {},
   "source": [
    "If everything went well, then the output should be `1`. \n",
    "It does not mean that the solution to `my_LP` equals 1. Instead, the output indicates that the program was executed successfully without any errors. \n",
    "However, we (Alice and us) would like to know the optimal objective value and the optimal values of `corn` and `acres`.\n",
    "\n",
    "*Note: The possible output values are `-3,-2,-1,0` or `1`, indicating e.g. if the problem was solved to optimality (`0`), found to be infeasible (`-1`) or unbounded (`-2`). You my check the documentation for details: https://coin-or.github.io/pulp/technical/constants.html?highlight=constants#pulp.constants.LpStatus.*\n",
    "\n",
    "\n",
    "The optimal value of `corn` can be accessed using `corn.value()`.\n",
    "Similarly, the optimal value of `acres` can be accessed using `acres.value()`.\n",
    "The optimal objective value of `my_LP` can be accessed using `value(my_LP.objective)`.\n",
    "\n",
    "*Note: The character `%.2f` in the code below is a formatting tool for rounding a decimal to two places. It is not important for this tutorial to know how this formatting works. For more details, see https://docs.python.org/2/library/string.html.*\n",
    "\n",
    "Run the following code block to display the optimal values from `my_LP`. "
   ]
  },
  {
   "cell_type": "code",
   "execution_count": 10,
   "metadata": {},
   "outputs": [
    {
     "name": "stdout",
     "output_type": "stream",
     "text": [
      "Alice should produce 157.89 kilograms of corn.\n",
      "Alice should purchase 5.26 acres of land.\n",
      "Alice will have a profit of CHF 1105.26.\n"
     ]
    }
   ],
   "source": [
    "# Print the optimal value and the variables values\n",
    "\n",
    "opt_corn = corn.value()\n",
    "print(f'Alice should produce {opt_corn:.2f} kilograms of corn.')\n",
    "\n",
    "opt_acres = acres.value()\n",
    "print(f'Alice should purchase {opt_acres:.2f} acres of land.')\n",
    "\n",
    "opt_val = value(my_LP.objective)\n",
    "print(f'Alice will have a profit of CHF {opt_val:.2f}.')"
   ]
  },
  {
   "cell_type": "markdown",
   "metadata": {},
   "source": [
    "Congratulations! We have successfully solved our first LP. If everything was run correctly, then the output should be\n",
    "\n",
    "    Alice should produce 157.89 kilograms of corn.\n",
    "    Alice should purchase 5.26 acres of land.\n",
    "    Alice will have a profit of CHF 1105.26."
   ]
  },
  {
   "cell_type": "markdown",
   "metadata": {},
   "source": [
    "#### Conclusions"
   ]
  },
  {
   "cell_type": "markdown",
   "metadata": {},
   "source": [
    "There are six main steps to solving a linear program. \n",
    "Moreover, the basic commands that we learned are already enough to solve many optimization problems. See https://coin-or.github.io/pulp/CaseStudies/a_blending_problem.html for another example."
   ]
  },
  {
   "cell_type": "code",
   "execution_count": null,
   "metadata": {},
   "outputs": [],
   "source": []
  },
  {
   "cell_type": "code",
   "execution_count": null,
   "metadata": {},
   "outputs": [],
   "source": []
  }
 ],
 "metadata": {
  "celltoolbar": "Raw Cell Format",
  "kernelspec": {
   "display_name": "Python 3 (ipykernel)",
   "language": "python",
   "name": "python3"
  },
  "language_info": {
   "codemirror_mode": {
    "name": "ipython",
    "version": 3
   },
   "file_extension": ".py",
   "mimetype": "text/x-python",
   "name": "python",
   "nbconvert_exporter": "python",
   "pygments_lexer": "ipython3",
   "version": "3.9.13"
  }
 },
 "nbformat": 4,
 "nbformat_minor": 4
}
