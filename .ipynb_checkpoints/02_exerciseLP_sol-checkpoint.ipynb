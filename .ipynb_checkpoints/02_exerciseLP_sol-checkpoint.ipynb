{
 "cells": [
  {
   "cell_type": "markdown",
   "id": "a2cad624",
   "metadata": {},
   "source": [
    "# Week 2B: Solution to Programming Exercise\n",
    "\n",
    "Now that you know the ABCs of using PuLP to solve linear programs, try it with the following two problems you have seen in the exercise class last week to practice even more.\n",
    "\n",
    "<font color='blue'><b>Goals of this notebook:</b></font>\n",
    "\n",
    "1. Work with a basic LP in PuLP: create a model, modify it, and determine if it is feasible.\n",
    "1. Plot the feasible region of an LP using `matplotlib`."
   ]
  },
  {
   "cell_type": "markdown",
   "id": "2d4014b1",
   "metadata": {},
   "source": [
    "## Exercise 1: The Easternmost Point of the House\n",
    "\n",
    "In problem set 1 exercise 2, we saw the optimization problem involving a house and a lodge. The goal was to minimize the Euclidean distance between them. However, that problem is **NOT** a linear program. Can you identify the nonlinear part in the solution of this exercise?\n",
    "\n",
    "<font color='blue'><b>Answer:</b></font> The Euclidean distance between two points $(x_1,y_1),(x_2,y_2)$ is $\\sqrt{(x_1-x_2)^2+(y_1-y_2)^2}$, which is not a linear function.\n",
    "\n",
    "We thus change the program to find the easternmost (rightmost) point in the house, which is a linear problem. Here is the model of our problem:\n",
    "\n",
    "$$\n",
    "\\begin{array}{rlcl}\n",
    "\\text{maximize:} & x\t\\\\\n",
    "\\text{subject to:} & 2x+5y &\\leq& 54, \\\\\n",
    "                   & 8x+y  &\\geq& 26,\\\\\n",
    "                   & y     &\\geq& 2,\\\\\n",
    "                   & 2x+y  &\\leq& 22.\n",
    "\\end{array}\n",
    "$$\n",
    "\n",
    "Let's solve it using PuLP following the steps in the introductory notebook. "
   ]
  },
  {
   "cell_type": "markdown",
   "id": "42f9f546",
   "metadata": {},
   "source": [
    "### Task 1: Write a linear program to represent the problem above.\n",
    "As this is your first time using PuLP, we have created a skeleton of the code for you. You only need to fill in the blanks marked with `'???'`."
   ]
  },
  {
   "cell_type": "markdown",
   "id": "2285fabf",
   "metadata": {},
   "source": [
    "#### Step 1: Importing PuLP"
   ]
  },
  {
   "cell_type": "code",
   "execution_count": 1,
   "id": "7c61e1fb",
   "metadata": {},
   "outputs": [],
   "source": [
    "# Import PuLP\n",
    "from pulp import *"
   ]
  },
  {
   "cell_type": "markdown",
   "id": "8f23429d",
   "metadata": {},
   "source": [
    "#### Step 2: Creating an empty linear program"
   ]
  },
  {
   "cell_type": "code",
   "execution_count": 2,
   "id": "75d7d00b",
   "metadata": {},
   "outputs": [],
   "source": [
    "# Create an empty linear program\n",
    "my_LP = LpProblem(\"House_LP\", LpMaximize)"
   ]
  },
  {
   "cell_type": "markdown",
   "id": "774b4c7a",
   "metadata": {},
   "source": [
    "#### Step 3: Adding the variables\n",
    "In this problem, we wish to represent the feasible region of the house. A natural way to do so is to assign two variables for the two coordinates of the x-y plane."
   ]
  },
  {
   "cell_type": "code",
   "execution_count": 3,
   "id": "d92e05eb",
   "metadata": {},
   "outputs": [],
   "source": [
    "# x: x-coordinate; y: y-coordinate\n",
    "x = LpVariable(\"x\", lowBound=0)\n",
    "y = LpVariable(\"y\", lowBound=0)"
   ]
  },
  {
   "cell_type": "markdown",
   "id": "e24268bb",
   "metadata": {},
   "source": [
    "#### Step 4: Adding the objective function"
   ]
  },
  {
   "cell_type": "code",
   "execution_count": 4,
   "id": "03c017e0",
   "metadata": {},
   "outputs": [],
   "source": [
    "# Find the right-most point of the house\n",
    "my_LP += x"
   ]
  },
  {
   "cell_type": "markdown",
   "id": "36a034bc",
   "metadata": {},
   "source": [
    "#### Step 5: Adding the constraints\n",
    "The feasible region of the linear program needs to represent the area of the house."
   ]
  },
  {
   "cell_type": "code",
   "execution_count": 5,
   "id": "266f6f88",
   "metadata": {},
   "outputs": [],
   "source": [
    "# Add each of the four walls of the house as a separate constraint\n",
    "my_LP += 2*x+5*y <= 54\n",
    "my_LP += y >= 2\n",
    "my_LP += 2*x+y <= 22\n",
    "my_LP += 8*x+y >= 26"
   ]
  },
  {
   "cell_type": "markdown",
   "id": "85e56122",
   "metadata": {},
   "source": [
    "#### Step 6: Printing out the linear program and check if it is as desired"
   ]
  },
  {
   "cell_type": "code",
   "execution_count": 6,
   "id": "d2eb7841",
   "metadata": {},
   "outputs": [
    {
     "name": "stdout",
     "output_type": "stream",
     "text": [
      "House_LP:\n",
      "MAXIMIZE\n",
      "1*x + 0\n",
      "SUBJECT TO\n",
      "_C1: 2 x + 5 y <= 54\n",
      "\n",
      "_C2: y >= 2\n",
      "\n",
      "_C3: 2 x + y <= 22\n",
      "\n",
      "_C4: 8 x + y >= 26\n",
      "\n",
      "VARIABLES\n",
      "x Continuous\n",
      "y Continuous\n",
      "\n"
     ]
    }
   ],
   "source": [
    "# Print your LP\n",
    "print(my_LP)"
   ]
  },
  {
   "cell_type": "markdown",
   "id": "28945f02",
   "metadata": {},
   "source": [
    "#### Step 7: Solving the linear program and inspecting the solution\n",
    "Does the result match with the graphical solution based on the drawing on the exercise sheet?"
   ]
  },
  {
   "cell_type": "code",
   "execution_count": 7,
   "id": "dd753cb4",
   "metadata": {},
   "outputs": [
    {
     "data": {
      "text/plain": [
       "1"
      ]
     },
     "execution_count": 7,
     "metadata": {},
     "output_type": "execute_result"
    }
   ],
   "source": [
    "# Solve the linear program\n",
    "my_LP.solve()"
   ]
  },
  {
   "cell_type": "code",
   "execution_count": 8,
   "id": "6c22bfe1",
   "metadata": {},
   "outputs": [
    {
     "name": "stdout",
     "output_type": "stream",
     "text": [
      "The easternmost point is located at (10.0, 2.0).\n"
     ]
    }
   ],
   "source": [
    "# Find the objective value and the variables values\n",
    "opt_x = x.value()\n",
    "opt_y = y.value()\n",
    "print(f'The easternmost point is located at ({opt_x:.1f}, {opt_y:.1f}).')"
   ]
  },
  {
   "cell_type": "markdown",
   "id": "9e194a3b",
   "metadata": {},
   "source": [
    "### Task 2: Visualize the feasible region of the linear program."
   ]
  },
  {
   "cell_type": "markdown",
   "id": "96b2d9ce",
   "metadata": {},
   "source": [
    "To create figures, we need two additional packages, both of which are included in Anaconda. If you don't use Anaconda, you might need to install them via the command line using `pip`.\n",
    "\n",
    "* `pip install numpy`\n",
    "* `pip install matplotlib`\n",
    "\n",
    "**Numpy** is a package for scientific computing with Python: https://numpy.org.\n",
    "\n",
    "**Matplotlip** is a Python library for plotting: https://matplotlib.org.\n",
    "\n",
    "As an example, suppose that we would like to plot the feasible region on ${(x,y) \\in [0,1]^2}$ with the following three constraints:\n",
    "\n",
    "$$\n",
    "\\begin{array}{rlcl}\n",
    "x+4y &\\leq& 3 \\\\\n",
    "x+y  &\\geq& 1\\\\\n",
    "3x+y &\\leq& 2\n",
    "\\end{array}\n",
    "$$"
   ]
  },
  {
   "cell_type": "markdown",
   "id": "c28112e6",
   "metadata": {},
   "source": [
    "First, we need to load the two packages and set up our environment. `%matplotlib inline` is a command used in Jupyter notebooks to have matplotlib plotting inline, i.e., inside the notebook and not in a new window."
   ]
  },
  {
   "cell_type": "code",
   "execution_count": 9,
   "id": "1362ad7d",
   "metadata": {},
   "outputs": [],
   "source": [
    "import numpy as np\n",
    "import matplotlib.pyplot as plt\n",
    "%matplotlib inline"
   ]
  },
  {
   "cell_type": "markdown",
   "id": "eb7c6e12",
   "metadata": {},
   "source": [
    "Then, we generate our figure in the code section below.\n",
    "\n",
    "*Note: To represent a line numerically, we need discretized points on both axes. For this, we can use `np.linspace(start, stop, num=50)`, which creates a list with evenly spaced numbers over the interval $[\\text{start, stop}]$. `num` represents the number of points between the two endpoints. Similarly, to represent an area numerically, we also need discretized points. This can be done through `np.meshgrid(a1,a2,...,ad)`, which creates a d-dimensional grid from one-dimensional lists `a1, a2, ..., ad`.*\n",
    "\n",
    "*Note: You can check out the details of `plt.plot` and `pyplot.imshow` in the [official documentation](https://matplotlib.org/stable/api/pyplot_summary.html).*"
   ]
  },
  {
   "cell_type": "code",
   "execution_count": 10,
   "id": "69853b14",
   "metadata": {},
   "outputs": [
    {
     "data": {
      "text/plain": [
       "<matplotlib.legend.Legend at 0x7f81da0370d0>"
      ]
     },
     "execution_count": 10,
     "metadata": {},
     "output_type": "execute_result"
    },
    {
     "data": {
      "image/png": "[encoded data removed]",
      "text/plain": [
       "<Figure size 432x432 with 1 Axes>"
      ]
     },
     "metadata": {
      "needs_background": "light"
     },
     "output_type": "display_data"
    }
   ],
   "source": [
    "### Initialize the plot\n",
    "plt.figure(figsize=(6, 6)) # create an empty figure\n",
    "\n",
    "\n",
    "### Plot the lines.\n",
    "# create an array of x values between 0 and 1\n",
    "x1 = np.linspace(0, 1, num=200) \n",
    "\n",
    "# create an array of y values for each of the lines defined by the constraints\n",
    "y1 = (1/4)*(3-x1)  # x + 4*y = 3\n",
    "y2 = 1-x1          # x + y = 1\n",
    "y3 = 2-3*x1        # 3*x + y = 2\n",
    "\n",
    "# plot all three lines using plt.plot(x,y)\n",
    "plt.plot(x1, y1, label='$x+4y \\leq 3$')\n",
    "plt.plot(x1, y2, label='$x+y \\geq 1$' )\n",
    "plt.plot(x1, y3, label='$3x+y \\leq 2$')\n",
    "\n",
    "\n",
    "### Plot the feasible region\n",
    "# create a grid of x and y values between 0 and 1\n",
    "x, y = np.meshgrid(x1, x1)\n",
    "\n",
    "# display data as an image using plt.imshow()\n",
    "plt.imshow(\n",
    "    ((x+4*y<=3) & (x+y>=1) & (3*x+y<=2)).astype(int),          # data points for the image\n",
    "    extent=(x.min(),x.max(),y.min(),y.max()), origin=\"lower\",  # controls the location of the image \n",
    "    cmap=\"Greys\", alpha = 0.3)                                 # controls the colour of the image\n",
    "\n",
    "\n",
    "### Format the graph\n",
    "# set the min and max values of x and y along the axes\n",
    "plt.xlim(0,1); plt.ylim(0,1)\n",
    "\n",
    "# add axis labels\n",
    "plt.xlabel('$x$'); plt.ylabel('$y$')\n",
    "\n",
    "# add the legend on the upper right corner of the graph\n",
    "plt.legend(loc='upper right')"
   ]
  },
  {
   "cell_type": "markdown",
   "id": "f7ba441f",
   "metadata": {},
   "source": [
    "Now, time to try it with the feasible region of the house. Recall that the equation of the four walls of the house is as follows: \n",
    "$$\n",
    "\\begin{array}{rlcl}\n",
    "2x+5y &\\leq& 54 \\\\\n",
    "8x+y  &\\geq& 26\\\\\n",
    "y     &\\geq& 2\\\\\n",
    "2x+y  &\\leq& 22\n",
    "\\end{array}\n",
    "$$\n",
    "\n",
    "*Hint: To plot the line $y=2$, commands like `y = 2` followed by `plt.plot(x,y)` will not work because `x` and `y` are not of the same length. You may use `y = 2 + 0 * x` instead.*\n",
    "\n",
    "*Hint: You can use the following maximum and minimum values for `x` and `y` along the axes: `plt.xlim(0,11); plt.ylim(0,11)`.*"
   ]
  },
  {
   "cell_type": "code",
   "execution_count": 11,
   "id": "ccc1ec58",
   "metadata": {},
   "outputs": [
    {
     "data": {
      "text/plain": [
       "<matplotlib.legend.Legend at 0x7f81da205af0>"
      ]
     },
     "execution_count": 11,
     "metadata": {},
     "output_type": "execute_result"
    },
    {
     "data": {
      "image/png": "[encoded data removed]",
      "text/plain": [
       "<Figure size 432x432 with 1 Axes>"
      ]
     },
     "metadata": {
      "needs_background": "light"
     },
     "output_type": "display_data"
    }
   ],
   "source": [
    "### Initialize the plot\n",
    "plt.figure(figsize=(6, 6)) # create an empty figure\n",
    "\n",
    "\n",
    "### Plot the lines\n",
    "# Create a list of x values between 0 and 11\n",
    "x1 = np.linspace(0, 11, num=200) \n",
    "\n",
    "# Create a list of y values for each of the lines defined by the constraints\n",
    "y1 = (1/5)*(54-2*x1)  # 2*x + 5*y = 54\n",
    "y2 = 26-8*x1          # 8*x +   y = 26\n",
    "y3 = 2+0*x1           #         y = 2\n",
    "y4 = 22-2*x1          # 2*x +   y = 22\n",
    "\n",
    "# Plot all three lines using plt.plot(x,y)\n",
    "plt.plot(x1, y1, label='$2x+5y \\leq 54$')\n",
    "plt.plot(x1, y2, label='$8x+y \\geq 26$' )\n",
    "plt.plot(x1, y3, label='$y \\geq 2$')\n",
    "plt.plot(x1, y4, label='$2x+y \\leq 22$')\n",
    "\n",
    "\n",
    "### Plot the feasible region\n",
    "# Create a grid of x and y values between 0 and 1\n",
    "x,y = np.meshgrid(x1,x1)\n",
    "\n",
    "# Display data as an image using plt.imshow()\n",
    "plt.imshow( ((y>=2) & (y<=(1/5)*(54-2*x)) & (y>=26-8*x) & (y<=22-2*x)).astype(int) , \n",
    "                extent=(x.min(),x.max(),y.min(),y.max()),origin=\"lower\",\n",
    "           cmap=\"Greys\", alpha = 0.3)\n",
    "\n",
    "\n",
    "### Format the graph\n",
    "# Set the min and max values of x and y along the axes\n",
    "plt.xlim(0,11); plt.ylim(0,11)\n",
    "\n",
    "# Add axis labels\n",
    "plt.xlabel('$x$'); plt.ylabel('$y$')\n",
    "\n",
    "# Add the legend on the upper right corner of the graph\n",
    "plt.legend(loc='upper right')"
   ]
  },
  {
   "cell_type": "markdown",
   "id": "82554e28",
   "metadata": {},
   "source": [
    "## Exercise 2: the Perfect Breakfast"
   ]
  },
  {
   "cell_type": "markdown",
   "id": "90115203",
   "metadata": {},
   "source": [
    "### Task 1: Model the problem in PuLP. \n",
    "\n",
    "Recall that we have modelled the exercise 1 in problem set 1 as:\n",
    "$$\n",
    "\\begin{array}{rrcrcl}\n",
    "\\text{maximize:}   &   9 x  +  12 y               \\\\\n",
    "\\text{subject to:} &     x          & \\leq & 5,   \\\\\n",
    "                   & 200 x  +  50 y & \\geq & 400, \\\\\n",
    "                   &   6 x  +   7 y & \\leq & 42,  \\\\\n",
    "                   &     x  ,     y & \\geq & 0.   \\\\\n",
    "\\end{array}\n",
    "$$\n",
    "\n",
    "Let's implement it in PuLP. You have already seen and experimented with LPs using PuLP, so we will not provide any code skeleton this time. What is the objective value (i.e., the optimal amount of protein)? What combination of cereals A and B do you need to reach the objective value?"
   ]
  },
  {
   "cell_type": "code",
   "execution_count": 12,
   "id": "6d447333",
   "metadata": {},
   "outputs": [
    {
     "name": "stdout",
     "output_type": "stream",
     "text": [
      "The maximum protein we can get is 71.18.\n",
      "We should eat 0.64 cups of A.\n",
      "We should eat 5.45 cups of B.\n"
     ]
    }
   ],
   "source": [
    "# Try to do it from scratch yourself\n",
    "\n",
    "import pulp \n",
    "\n",
    "bf = LpProblem(\"breakfast_lp\", LpMaximize)\n",
    "\n",
    "a = LpVariable(\"A\", lowBound=0)\n",
    "b = LpVariable(\"B\", lowBound=0)\n",
    "\n",
    "bf += 9*a+12*b\n",
    "\n",
    "bf += a <= 5\n",
    "bf += 200*a+50*b >= 400\n",
    "bf += 6*a+7*b <= 42\n",
    "\n",
    "bf.solve()\n",
    "\n",
    "opt_val = value(bf.objective)\n",
    "print(f'The maximum protein we can get is {opt_val:.2f}.')\n",
    "\n",
    "opt_a = a.value()\n",
    "print(f'We should eat {opt_a:.2f} cups of A.')\n",
    "\n",
    "opt_b = b.value()\n",
    "print(f'We should eat {opt_b:.2f} cups of B.')\n"
   ]
  },
  {
   "cell_type": "markdown",
   "id": "458dfc5a",
   "metadata": {},
   "source": [
    "### Task 2: Change a constraint.\n",
    "Now you already know the basics for solving a linear program in PuLP. It's time to take it to the next level. \n",
    "\n",
    "Suppose this morning, you feel that it's time to spoil yourself and don't want to care how much sugar you take. That is, you'd like to delete the constraint corresponding to the amount of sugar. Update your linear program accordingly. \n",
    "\n",
    "*Hint: It will be convenient if you don't have to rewrite everything. Fortunately, PuLP has a built-in function called `del` for you to delete certain constraints. It works as `del name_of_lp.constraints['name_of_constraint_to_delete']`.\n",
    "Try it!*\n"
   ]
  },
  {
   "cell_type": "code",
   "execution_count": 13,
   "id": "7125204a",
   "metadata": {},
   "outputs": [],
   "source": [
    "# Delete the constraint corresponding to sugar\n",
    "del bf.constraints['_C3']"
   ]
  },
  {
   "cell_type": "markdown",
   "id": "9d01adfe",
   "metadata": {},
   "source": [
    "Print your LP again to see whether you have succeeded."
   ]
  },
  {
   "cell_type": "code",
   "execution_count": 14,
   "id": "6b88e514",
   "metadata": {},
   "outputs": [
    {
     "name": "stdout",
     "output_type": "stream",
     "text": [
      "breakfast_lp:\n",
      "MAXIMIZE\n",
      "9*A + 12*B + 0\n",
      "SUBJECT TO\n",
      "_C1: A <= 5\n",
      "\n",
      "_C2: 200 A + 50 B >= 400\n",
      "\n",
      "VARIABLES\n",
      "A Continuous\n",
      "B Continuous\n",
      "\n"
     ]
    }
   ],
   "source": [
    "# Print your LP\n",
    "print(bf)"
   ]
  },
  {
   "cell_type": "markdown",
   "id": "5b9426ad",
   "metadata": {},
   "source": [
    "Solve the updated linear program. What is the status of the linear program now? Is it optimized, unbounded or infeasible?"
   ]
  },
  {
   "cell_type": "code",
   "execution_count": 15,
   "id": "46b46dc0",
   "metadata": {},
   "outputs": [
    {
     "data": {
      "text/plain": [
       "'Unbounded'"
      ]
     },
     "execution_count": 15,
     "metadata": {},
     "output_type": "execute_result"
    }
   ],
   "source": [
    "# Solve your LP\n",
    "bf.solve()\n",
    "LpStatus[bf.status]"
   ]
  },
  {
   "cell_type": "markdown",
   "id": "2328c1c2",
   "metadata": {},
   "source": [
    "<font color='blue'><b>Answer:</b></font> By deleting the sugar constraint, the feasible region became unbounded. We chose to optimize in the direction of maximal protein, which gives an unbounded LP. You can visualize this by drawing the feasible region, comparing to what you saw in exercise 1 of set 2."
   ]
  },
  {
   "cell_type": "markdown",
   "id": "86252691",
   "metadata": {},
   "source": [
    "What about other handy tools that you can think of? For example, you may want to change a constraint. Do you have to delete the constraint and then add it again? Are there easier ways? Play with PuLP and search the documentation to find it out! \n",
    "\n",
    "As a concrete example, you may want to increase your energy consumed to at least 1400 while still having the sugar constraint. How can you modify your linear program? Solve it and see what the status of this LP is."
   ]
  },
  {
   "cell_type": "code",
   "execution_count": 16,
   "id": "880bf6a5",
   "metadata": {},
   "outputs": [
    {
     "data": {
      "text/plain": [
       "'Infeasible'"
      ]
     },
     "execution_count": 16,
     "metadata": {},
     "output_type": "execute_result"
    }
   ],
   "source": [
    "# Change the constraint of energy from 400 to 1400, solve the LP and check the status\n",
    "bf += 6*a+7*b <= 42\n",
    "bf.constraints['_C2'] = 200*a+50*b >= 1400\n",
    "bf.solve()\n",
    "LpStatus[bf.status]"
   ]
  },
  {
   "cell_type": "markdown",
   "id": "aa4cbfc1",
   "metadata": {},
   "source": [
    "<font color='blue'><b>Answer:</b></font> After modifying the constraints, the LP becomes infeasible. As above, you can visualize this by drawing the feasible region."
   ]
  },
  {
   "cell_type": "code",
   "execution_count": 17,
   "id": "01e5e526",
   "metadata": {},
   "outputs": [],
   "source": [
    "# Now play in PuLP and explore different functions. Have fun!\n"
   ]
  }
 ],
 "metadata": {
  "kernelspec": {
   "display_name": "Python 3",
   "language": "python",
   "name": "python3"
  },
  "language_info": {
   "codemirror_mode": {
    "name": "ipython",
    "version": 3
   },
   "file_extension": ".py",
   "mimetype": "text/x-python",
   "name": "python",
   "nbconvert_exporter": "python",
   "pygments_lexer": "ipython3",
   "version": "3.8.8"
  }
 },
 "nbformat": 4,
 "nbformat_minor": 5
}
