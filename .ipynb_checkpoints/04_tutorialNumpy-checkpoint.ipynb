{
 "cells": [
  {
   "cell_type": "markdown",
   "metadata": {},
   "source": [
    "# Week 4A: Introduction to `numpy`\n",
    "\n",
    "<font color='blue'><b>Goals of this notebook:</b></font>\n",
    "Learn to use `numpy` (short for numeric python) to compute matrix multiplications in the optimization algorithms in our course.\n",
    "\n",
    "<font color='blue'><b>Python packages required:</b></font>\n",
    "`numpy` might have been already installed on your computer. You can try executing `import numpy as np` in the first code box; if it does not work, please install `numpy` using the following commands:\n",
    "- using `pip`: `pip install numpy` <br>\n",
    "- using `Anaconda`: `conda install numpy`\n",
    "\n",
    "<font color='blue'><b>Additional resources:</b></font> For us, `numpy` is mostly a tool to compute matrix multiplications. However, `numpy` allows for a wide range of scientific computations. For more information, please refer to its official user guide: https://numpy.org/doc/stable/user/.\n"
   ]
  },
  {
   "cell_type": "code",
   "execution_count": 1,
   "metadata": {},
   "outputs": [],
   "source": [
    "# Import the package\n",
    "import numpy as np"
   ]
  },
  {
   "cell_type": "markdown",
   "metadata": {},
   "source": [
    "### Feeding a matrix to `numpy`\n",
    "The following code shows how to store the matrix\n",
    "$$A:=\\begin{bmatrix}1&3\\\\4&5\\end{bmatrix}$$\n",
    "in `numpy`: as a list of lists which correspond to the row vectors of $A$."
   ]
  },
  {
   "cell_type": "code",
   "execution_count": 2,
   "metadata": {},
   "outputs": [
    {
     "data": {
      "text/plain": [
       "matrix([[1, 3],\n",
       "        [4, 5]])"
      ]
     },
     "execution_count": 2,
     "metadata": {},
     "output_type": "execute_result"
    }
   ],
   "source": [
    "A = np.matrix([\n",
    "    [1,3],\n",
    "    [4,5]\n",
    "])\n",
    "\n",
    "A"
   ]
  },
  {
   "cell_type": "markdown",
   "metadata": {},
   "source": [
    "### Matrix multiplication\n",
    "Consider $B:=\\begin{bmatrix}1&5&4\\\\6&9&0\\end{bmatrix}$. Then $A\\cdot B$ is computed in `numpy` via the `matmul` function:"
   ]
  },
  {
   "cell_type": "code",
   "execution_count": 3,
   "metadata": {},
   "outputs": [
    {
     "data": {
      "text/plain": [
       "matrix([[19, 32,  4],\n",
       "        [34, 65, 16]])"
      ]
     },
     "execution_count": 3,
     "metadata": {},
     "output_type": "execute_result"
    }
   ],
   "source": [
    "B = np.matrix([\n",
    "    [1,5,4],\n",
    "    [6,9,0]\n",
    "])\n",
    "\n",
    "np.matmul(A,B)"
   ]
  },
  {
   "cell_type": "markdown",
   "metadata": {},
   "source": [
    "### Matrix transposes\n",
    "To calculate $A^T$, use the `np.transpose` function:"
   ]
  },
  {
   "cell_type": "code",
   "execution_count": 4,
   "metadata": {},
   "outputs": [
    {
     "data": {
      "text/plain": [
       "matrix([[1, 4],\n",
       "        [3, 5]])"
      ]
     },
     "execution_count": 4,
     "metadata": {},
     "output_type": "execute_result"
    }
   ],
   "source": [
    "np.transpose(A)"
   ]
  },
  {
   "cell_type": "markdown",
   "metadata": {},
   "source": [
    "### Working with matrix inverses\n",
    "The inverse $A^{-1}$ of $A$ can be calculated using `linalg.inv`.\n",
    "\n",
    "*Note: Using the inverse explicitly can lead to numerical instabilities. We will try to avoid it if possible and use \"work-araounds\". For example, to get the solution for a system of form $A=xB$, we don't compute $x$ by $x = A^{-1}B$ but instead use the numpy function `linalg.solve`.*"
   ]
  },
  {
   "cell_type": "code",
   "execution_count": 5,
   "metadata": {},
   "outputs": [
    {
     "name": "stdout",
     "output_type": "stream",
     "text": [
      "Inverse of A:\n",
      "[[-0.71428571  0.42857143]\n",
      " [ 0.57142857 -0.14285714]] \n",
      "\n",
      "inv(A)⋅B:\n",
      "[[ 1.85714286  0.28571429 -2.85714286]\n",
      " [-0.28571429  1.57142857  2.28571429]] \n",
      "\n",
      "Solve for x in A = xB:\n",
      "[[ 1.85714286  0.28571429 -2.85714286]\n",
      " [-0.28571429  1.57142857  2.28571429]]\n"
     ]
    }
   ],
   "source": [
    "A_inv = np.linalg.inv(A)\n",
    "\n",
    "print(\"Inverse of A:\")\n",
    "print(A_inv, \"\\n\")\n",
    "\n",
    "print(\"inv(A)⋅B:\")\n",
    "print(np.matmul(A_inv, B), \"\\n\")\n",
    "\n",
    "print(\"Solve for x in A = xB:\")\n",
    "print(np.linalg.solve(A,B))"
   ]
  },
  {
   "cell_type": "markdown",
   "metadata": {},
   "source": [
    "Here we don't see a difference, as $A$ isn't ill-condidioned. You can try to find an ill-conditioned $A$ where using the direct inverse gives you a different solution to $x$ as using `linalg.solve`. "
   ]
  },
  {
   "cell_type": "markdown",
   "metadata": {},
   "source": [
    "### Row/column manipulation using `numpy`\n",
    "\n",
    "Note that the index in Python starts from 0. <br>\n",
    "To access the $i$-th row in the matrix $A$, we use the following command: `A[i-1,:]`. <br>\n",
    "Similarly, to access the $j$-th column, we use: `A[:,j-1]`."
   ]
  },
  {
   "cell_type": "code",
   "execution_count": 6,
   "metadata": {},
   "outputs": [
    {
     "name": "stdout",
     "output_type": "stream",
     "text": [
      "First row of A:\n",
      "[[1 3]] \n",
      "\n",
      "Second column of A:\n",
      "[[3]\n",
      " [5]]\n"
     ]
    }
   ],
   "source": [
    "# First row of A\n",
    "print(\"First row of A:\")\n",
    "print(A[0,:], \"\\n\")\n",
    "\n",
    "# Second column of A\n",
    "print(\"Second column of A:\")\n",
    "print(A[:,1])"
   ]
  },
  {
   "cell_type": "markdown",
   "metadata": {},
   "source": [
    "### Number of rows and columns in a matrix\n",
    "To get the number of **rows** in a matrix, use: `A.shape[0]`.<br>\n",
    "To get the number of **columns** in a matrix, use: `A.shape[1]`.<br>\n",
    "Here we use matrix $B$ as an example."
   ]
  },
  {
   "cell_type": "code",
   "execution_count": 7,
   "metadata": {},
   "outputs": [
    {
     "name": "stdout",
     "output_type": "stream",
     "text": [
      "Rows: 2\n",
      "Columns: 3\n"
     ]
    }
   ],
   "source": [
    "# Rows and columns\n",
    "print(\"Rows: \" + str(B.shape[0]))\n",
    "print(\"Columns: \" + str(B.shape[1]))"
   ]
  },
  {
   "cell_type": "markdown",
   "metadata": {},
   "source": [
    "### Accessing elements of the matrix\n",
    "To get the element $a_{i,j}$ in the matrix $A$, we use: `A[i-1,j-1]`. "
   ]
  },
  {
   "cell_type": "code",
   "execution_count": 8,
   "metadata": {},
   "outputs": [
    {
     "name": "stdout",
     "output_type": "stream",
     "text": [
      "3\n"
     ]
    }
   ],
   "source": [
    "# Element in first row, second column\n",
    "a_12 = A[0,1]\n",
    "print(a_12)"
   ]
  },
  {
   "cell_type": "code",
   "execution_count": null,
   "metadata": {},
   "outputs": [],
   "source": []
  }
 ],
 "metadata": {
  "kernelspec": {
   "display_name": "Python 3",
   "language": "python",
   "name": "python3"
  },
  "language_info": {
   "codemirror_mode": {
    "name": "ipython",
    "version": 3
   },
   "file_extension": ".py",
   "mimetype": "text/x-python",
   "name": "python",
   "nbconvert_exporter": "python",
   "pygments_lexer": "ipython3",
   "version": "3.8.8"
  }
 },
 "nbformat": 4,
 "nbformat_minor": 4
}
