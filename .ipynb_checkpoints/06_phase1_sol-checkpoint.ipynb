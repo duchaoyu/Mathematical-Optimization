{
 "cells": [
  {
   "cell_type": "markdown",
   "id": "728208b2-fca4-42bd-b614-014a0f5909af",
   "metadata": {},
   "source": [
    "# Week 6: Solution to Simplex Method Phase I\n",
    "\n",
    "<font color=\"blue\"><b>Goal:</b></font> Implementing the first phase of the simplex method.\n"
   ]
  },
  {
   "cell_type": "markdown",
   "id": "a4369109-a066-4ef5-9225-cdedb6542fef",
   "metadata": {},
   "source": [
    "## Task 1: Deciding whether the LP is feasible\n",
    "\n",
    "You are given the following LP in canonical form:\n",
    "\n",
    "$$\\begin{equation}\n",
    "\\begin{array}{lrrrrrrr}\n",
    "  \\text{max} \\  &&2x_1 &+ &x_2 &       &  \\\\\n",
    "  \\text{s.t. }   & &x_1     &+ &3x_2   & \\leq  &15\\\\\n",
    "        & &3x_1   &-&x_2 & \\leq &-6\\\\\n",
    "        & &x_1    & &    & \\leq  &4\\\\\n",
    "        & &2x_1  &+ &x_2    & \\leq  &10\\\\\n",
    "        &-&x_1  &- &x_2    & \\leq  &-3\\\\\n",
    "        & &x_1     &  &        & \\geq  &0 \\\\\n",
    "        & &        &  &x_2     & \\geq  &0 \n",
    "\\end{array}\n",
    "\\end{equation}$$\n",
    "\n",
    "You want to determine whether the LP is feasible or not.\n",
    "\n",
    "First, let us transform it into the tableau form (by, as always, introducing slack variables $y_1, y_2, y_3, y_4, y_5$):\n",
    "\n",
    "$$\\begin{equation}\n",
    "\\begin{array}{l|rrrrrrr|r}\n",
    "  & y_1 & y_2 & y_3 & y_4 & y_5 & x_1 & x_2 & 1\\\\\n",
    "  \\hline\n",
    " z & 0 & 0 & 0 & 0 & 0 & -2 & -1 & 0\\\\\n",
    " \\hline\n",
    "  & 1 & 0 & 0 & 0 & 0 & 1 & 3 & 15 \\\\\n",
    "  & 0 & 1 & 0 & 0 & 0 & 3 & -1 & -6\\\\\n",
    "  & 0 & 0 & 1 & 0 & 0 & 1 & 0 & 4\\\\\n",
    "  & 0 & 0 & 0 & 1 & 0 & 2 & 1 & 10\\\\\n",
    "  & 0 & 0 & 0 & 0 & 1 & -1 & -1 & -3\n",
    "\\end{array}\n",
    "\\end{equation}$$\n"
   ]
  },
  {
   "cell_type": "markdown",
   "id": "48acb8e4-0643-427c-b120-e6959adb99ca",
   "metadata": {},
   "source": [
    "In phase I of the simplex method, we look at the corresponding auxiliary LP:\n",
    "\n",
    "$$\\begin{equation}\n",
    "\\begin{array}{lrrrrrrrr}\n",
    "\\text{max} \\  && &    &&-&x_0    & &&  \\\\\n",
    "  \\text{s.t. }   & &x_1 &+&3x_2 &-&x_0  & \\leq  &15\\\\\n",
    "        & &3x_1 &-&x_2 &-&x_0  & \\leq  &-6\\\\\n",
    "        & &x_1    & &  &-&x_0 & \\leq  &4\\\\\n",
    "        & &2x_1  &+ &x_2  &-&x_0  & \\leq  &10\\\\\n",
    "        &-&x_1  &- &x_2  &-&x_0  & \\leq  &-3\\\\\n",
    "        & &x_1     &  &     &&   & \\geq  &0 \\\\\n",
    "        & &        &  &x_2  &&   & \\geq  &0 \\\\\n",
    "        & &        &  &  &&x_0   & \\geq  &0 \n",
    "\\end{array}\n",
    "\\end{equation}$$\n",
    "\n",
    "The tableau corresponding to the auxiliary LP is:\n",
    "\n",
    "$$\\begin{equation}\n",
    "\\begin{array}{l|rrrrrrrr|r}\n",
    "  & y_1 & y_2 & y_3 & y_4 & y_5 & x_1 & x_2 & x_0 & 1\\\\\n",
    "  \\hline\n",
    " \\tilde{z} & 0 & 0 & 0 & 0 & 0 & 0 & 0 & 1 & 0\\\\\n",
    " \\hline\n",
    "  & 1 & 0 & 0 & 0 & 0 & 1 & 3 & -1 & 15\\\\\n",
    "  & 0 & 1 & 0 & 0 & 0 & 3 & -1 & -1 & -6\\\\\n",
    "  & 0 & 0 & 1 & 0 & 0 & 1 & 0 & -1 & 4\\\\\n",
    "  & 0 & 0 & 0 & 1 & 0 & 2 & 1 & -1 & 10\\\\\n",
    "  & 0 & 0 & 0 & 0 & 1 & -1 & -1 & -1 & -3\n",
    "\\end{array}\n",
    "\\end{equation}$$\n",
    "\n",
    "\n",
    "### Step 1: Finding a feasible tableau for the auxiliary LP\n",
    "\n",
    "**Your task:** Perform an exchange step on the tableau of the auxiliary LP, such that the resulting tableau is feasible. You may use the pivoting function given below from week 4's programming exercise."
   ]
  },
  {
   "cell_type": "code",
   "execution_count": 1,
   "id": "fba64dd1-0c90-4983-a1c7-58a754dca941",
   "metadata": {},
   "outputs": [],
   "source": [
    "# Here's the pivoting function from week 4\n",
    "\n",
    "import numpy as np\n",
    "\n",
    "def pivot(T,i,k):\n",
    "    # Create a copy of the tableau\n",
    "    T_pivot = np.zeros_like(T, dtype=float)  # initialize the output\n",
    "    \n",
    "    # Step (i)\n",
    "    # We divide the i-th row elementwise by the value of a_ik\n",
    "    T_pivot[i,:] = T[i,:] / T[i,k]\n",
    "    \n",
    "    # Step (ii)\n",
    "    # Note: for-loops can be interchanged\n",
    "    # We iterate through each column (l = 1, ..., n+m)\n",
    "    for l in range(0, T.shape[1]):\n",
    "        # In each column, we iterate through each row, but skip row i (j=/=i, j = 1, ..., m)\n",
    "        for j in range(0, T.shape[0]):\n",
    "            if(j != i):\n",
    "                # We compute the new value\n",
    "                T_pivot[j,l] = T[j,l] - T[j,k] * T[i,l] / T[i,k]\n",
    "    \n",
    "    return T_pivot\n"
   ]
  },
  {
   "cell_type": "code",
   "execution_count": 2,
   "id": "f24221cc-f5b6-4d5b-b550-01e39d7f6924",
   "metadata": {},
   "outputs": [
    {
     "name": "stdout",
     "output_type": "stream",
     "text": [
      " [ y1    y2    y3    y4    y5    x1    x2    x0     1  ]\n",
      "[[  0     0     0     0     0     0     0     1     0  ]\n",
      " [  1     0     0     0     0     1     3    -1    15  ]\n",
      " [  0     1     0     0     0     3    -1    -1    -6  ]\n",
      " [  0     0     1     0     0     1     0    -1     4  ]\n",
      " [  0     0     0     1     0     2     1    -1    10  ]\n",
      " [  0     0     0     0     1    -1    -1    -1    -3  ]]\n"
     ]
    }
   ],
   "source": [
    "# First, we write down the tableau of the auxiliary LP and print it out\n",
    "\n",
    "T1Aux0 = np.array([\n",
    "    [0, 0, 0, 0, 0, 0, 0, 1, 0],\n",
    "    [1, 0, 0, 0, 0, 1, 3,-1,15],\n",
    "    [0, 1, 0, 0, 0, 3,-1,-1,-6],\n",
    "    [0, 0, 1, 0, 0, 1, 0,-1, 4],\n",
    "    [0, 0, 0, 1, 0, 2, 1,-1,10],\n",
    "    [0, 0, 0, 0, 1,-1,-1,-1,-3]\n",
    "], dtype=float)\n",
    "\n",
    "np.set_printoptions(\n",
    "    formatter={'str_kind': lambda x: '{:^5}'.format(x),\n",
    "               'float': lambda x: '{: ^5.3g}'.format(x)})\n",
    "header_T1Aux = np.array(['y1','y2','y3','y4','y5','x1','x2','x0','1'])\n",
    "print(\"\", header_T1Aux)\n",
    "print(T1Aux0)\n"
   ]
  },
  {
   "cell_type": "markdown",
   "id": "90d3cd0d-4041-43c6-bf9c-50d9bee369f1",
   "metadata": {},
   "source": [
    "Now, please perform one exchange step on the tableau so that the resulting tableau is feasible.\n",
    "\n",
    "<font color=\"blue\"><b>Answer:</b></font> To do so, we need to pick the column corresponding to $x_0$. As for the row, we need to choose the row $r$ such that $b_r$ is the minimum, that is, choose $r=\\arg\\min_{i\\in [m]}b_i$. So in this case, we choose the third row as $-6$ is the minimum. Therefore, we pivot at the $(3,8)$ entry to obtain the following feasible tableau of the auxiliary LP."
   ]
  },
  {
   "cell_type": "code",
   "execution_count": 3,
   "id": "51206b25-66da-43ae-ab69-eef7a277c525",
   "metadata": {},
   "outputs": [
    {
     "name": "stdout",
     "output_type": "stream",
     "text": [
      " [ y1    y2    y3    y4    y5    x1    x2    x0     1  ]\n",
      "[[  0     1     0     0     0     3    -1     0    -6  ]\n",
      " [  1    -1     0     0     0    -2     4     0    21  ]\n",
      " [ -0    -1    -0    -0    -0    -3     1     1     6  ]\n",
      " [  0    -1     1     0     0    -2     1     0    10  ]\n",
      " [  0    -1     0     1     0    -1     2     0    16  ]\n",
      " [  0    -1     0     0     1    -4     0     0     3  ]]\n"
     ]
    }
   ],
   "source": [
    "# Pivot at the (3,8) entry\n",
    "\n",
    "T1Aux1 = pivot(T1Aux0,2,7)\n",
    "\n",
    "print(\"\", header_T1Aux)\n",
    "print(T1Aux1)\n"
   ]
  },
  {
   "cell_type": "markdown",
   "id": "295697b5-de42-423b-bb94-24f6445e2682",
   "metadata": {},
   "source": [
    "### Step 2: Solving the auxiliary LP to decide whether the original LP is feasible or not\n",
    "\n",
    "**Your task**: Solve the auxiliary LP and answer the following: is the original LP feasible or infeasible? Why?\n",
    "\n",
    "Now that we have a feasible tableau, we can follow the Simplex Phase 2 algorithm to solve it. Feel free to do it by pivoting manually, using your own phase 2 function, or using the function we provided below. The function below performs Simplex Phase II automatically; please note that it can only take a *feasible* tableau $T$ as the input."
   ]
  },
  {
   "cell_type": "code",
   "execution_count": 4,
   "id": "de5a3201-0505-4350-b174-f48001a28ce2",
   "metadata": {},
   "outputs": [],
   "source": [
    "# Implement the second phase of the simplex method as a function\n",
    "\n",
    "def simplexphase2(T, header=None, verbose=True, orig_obj=False):\n",
    "    \n",
    "    \"\"\"Perform the phase 2 of simplex algorithm given a FEASIBLE tableau T.\n",
    "\n",
    "    Args:\n",
    "      - T: A numpy matrix or array representing the starting feasible tableau.\n",
    "      - header: A numpy array representing the column names of the tableau. \n",
    "        Used for printing only. The default value is None.\n",
    "      - verbose: A boolean indicating whether to print the details.\n",
    "        The default value is True (print all output).\n",
    "      - orig_obj: A boolean indicating whether we have kept the extra line for\n",
    "        the original objective function in the LP. Applicable to Phase 1 only.\n",
    "\n",
    "    Returns:\n",
    "      - T: A numpy matrix or array representing the results from the simplex algorithm.\n",
    "      - status: A string indicating whether the resulting tableau is unbounded or optimal.\n",
    "      \n",
    "    \"\"\"\n",
    "    \n",
    "    num_col = T.shape[1]\n",
    "    num_row = T.shape[0]\n",
    "    \n",
    "    step_counter = 0 # to count the steps in our simplex algorithm; for printing only\n",
    "    \n",
    "    offset = 1 if orig_obj else 0\n",
    "    \n",
    "    if verbose:\n",
    "        print(\"Input:\")\n",
    "        if header is not None:\n",
    "            print(\"\", header)\n",
    "        print(T, \"\\n\")\n",
    "        \n",
    "    while True:\n",
    "    \n",
    "        # If all numbers (except the last column) in the objective row >=0,\n",
    "        # then we have found an optimal solution and will end the algorithm.\n",
    "        if (T[0,:-1] >= 0).all():\n",
    "            status = \"optimal\"\n",
    "            if verbose: print(\"We found an optimal solution!\")\n",
    "            return T, status \n",
    "\n",
    "        # If any column has an entry <0 in the objective row, and all other entries are <= 0,\n",
    "        # then it means the tableau (and the LP) is unbounded, and we will end the algorithm.\n",
    "        for j in range(0, num_col-1):\n",
    "            if (T[0,j] < 0) and (T[1+offset:,j] <= 0).all():\n",
    "                status = \"unbounded\"\n",
    "                if verbose: print(\"The LP is unbounded.\")\n",
    "                return T, status\n",
    " \n",
    "        # If the tableau is neither unbounded nor optimal, then we can continue\n",
    "        # with the second phase of the simplex algorithm.\n",
    "        step_counter += 1\n",
    "        if verbose:\n",
    "            print(f\"****** Step {step_counter} ******\")\n",
    "\n",
    "        # determine the pivot column (choose the most negative entry)\n",
    "        min_obj = np.inf\n",
    "        pivot_col = np.inf\n",
    "        for j in range(0, num_col-1):\n",
    "            if T[0,j] < min_obj:\n",
    "                min_obj = T[0,j]\n",
    "                pivot_col = j\n",
    "        if verbose:\n",
    "            if header is None:\n",
    "                pivot_col_name = \"#\" + str(pivot_col+1)\n",
    "            else:\n",
    "                pivot_col_name = header[pivot_col] \n",
    "            print(f\"Pivot col: column {pivot_col_name} \"  + \n",
    "                  f\"as it has the most negative value \" +\n",
    "                  f\"{min_obj:.2f} in the obj row.\")\n",
    "\n",
    "        # determine the pivot row (use the quotient rule)\n",
    "        min_ratio = np.inf\n",
    "        pivot_row = np.inf\n",
    "        for i in range(1+offset, num_row):\n",
    "            if T[i,pivot_col] > 0:\n",
    "                ratio = T[i,-1] / T[i,pivot_col]\n",
    "                if ratio < min_ratio:\n",
    "                    min_ratio = ratio\n",
    "                    pivot_row = i   \n",
    "        if verbose:\n",
    "            print(f\"Pivot row: constraint #{pivot_row-offset} \" + \n",
    "                  f\"based on the quotient rule as it has \" +\n",
    "                  f\"the smallest ratio {min_ratio:.2f}.\")\n",
    "\n",
    "        # perform the pivoting step\n",
    "        T = pivot(T, pivot_row, pivot_col)\n",
    "        if verbose:\n",
    "            if header is not None: \n",
    "                print(\"\", header)\n",
    "            print(T, \"\\n\")\n"
   ]
  },
  {
   "cell_type": "markdown",
   "id": "dc4b3dea-764e-44af-8b48-83ab860a983a",
   "metadata": {},
   "source": [
    "Using the function above, we can solve the auxiliary LP easily as follows:"
   ]
  },
  {
   "cell_type": "code",
   "execution_count": 5,
   "id": "b9b1cd96-c29d-4c3e-bbab-12be1ee504bf",
   "metadata": {},
   "outputs": [
    {
     "name": "stdout",
     "output_type": "stream",
     "text": [
      " [ y1    y2    y3    y4    y5    x1    x2    x0     1  ]\n",
      "[[0.25  0.75    0     0     0    2.5    0     0   -0.75]\n",
      " [0.25  -0.25   0     0     0   -0.5    1     0   5.25 ]\n",
      " [-0.25 -0.75  -0    -0    -0   -2.5    0     1   0.75 ]\n",
      " [-0.25 -0.75   1     0     0   -1.5    0     0   4.75 ]\n",
      " [-0.5  -0.5    0     1     0     0     0     0    5.5 ]\n",
      " [  0    -1     0     0     1    -4     0     0     3  ]] optimal\n"
     ]
    }
   ],
   "source": [
    "# Solve the auxiliary LP using the second phase of the simplex method\n",
    "\n",
    "T1AuxFinal, status = simplexphase2(T1Aux1, header=header_T1Aux, verbose=False)\n",
    "\n",
    "print(\"\", header_T1Aux)\n",
    "print(T1AuxFinal, status)\n"
   ]
  },
  {
   "cell_type": "markdown",
   "id": "d74cde1b-e651-42dc-bab5-0057a5d81df3",
   "metadata": {},
   "source": [
    "Alternatively, you can also do it manually by pivoting at the $(2,7)$ entry by the quotient rule, which should give you the same result as above."
   ]
  },
  {
   "cell_type": "code",
   "execution_count": 6,
   "id": "5a0b2de2-4fdf-46a8-9254-115122f570c0",
   "metadata": {},
   "outputs": [
    {
     "name": "stdout",
     "output_type": "stream",
     "text": [
      " [ y1    y2    y3    y4    y5    x1    x2    x0     1  ]\n",
      "[[0.25  0.75    0     0     0    2.5    0     0   -0.75]\n",
      " [0.25  -0.25   0     0     0   -0.5    1     0   5.25 ]\n",
      " [-0.25 -0.75  -0    -0    -0   -2.5    0     1   0.75 ]\n",
      " [-0.25 -0.75   1     0     0   -1.5    0     0   4.75 ]\n",
      " [-0.5  -0.5    0     1     0     0     0     0    5.5 ]\n",
      " [  0    -1     0     0     1    -4     0     0     3  ]]\n"
     ]
    }
   ],
   "source": [
    "# Solve the auxiliary LP manually\n",
    "\n",
    "T1AuxFinal = pivot(T1Aux1,1,6) \n",
    "\n",
    "print(\"\", header_T1Aux)\n",
    "print(T1AuxFinal)\n"
   ]
  },
  {
   "cell_type": "markdown",
   "id": "1f69d19d-ac3c-46f0-b519-a47b23b95d1e",
   "metadata": {},
   "source": [
    "Notice that the above tableau is optimal, with an optimal value of $-0.75$, which is negative. Hence, we conclude that the original LP is infeasible."
   ]
  },
  {
   "cell_type": "markdown",
   "id": "3c42a2f8-e4e5-4f97-91cd-669cdf4913b1",
   "metadata": {},
   "source": [
    "## Task 2: Performing the first phase of the simplex method on a feasible LP\n",
    "\n",
    "We sligthly change the LP from above by removing the second constraint $3x_1-x_2 \\leq -6$. This gives the LP in canonical form:\n",
    "\n",
    "$$\\begin{equation}\n",
    "\\begin{array}{lrrrrrrr}\n",
    "\\text{max} \\  &&2x_1 &+ &x_2 &       &  \\\\\n",
    "  \\text{s.t. }   & &x_1     &+ &3x_2   & \\leq  &15\\\\\n",
    "        & &x_1    & &    & \\leq  &4\\\\\n",
    "        & &2x_1  &+ &x_2    & \\leq  &10\\\\\n",
    "        &-&x_1  &- &x_2    & \\leq  &-3\\\\\n",
    "        & &x_1     &  &        & \\geq  &0 \\\\\n",
    "        & &        &  &x_2     & \\geq  &0 \n",
    "\\end{array}\n",
    "\\end{equation}$$\n",
    "\n",
    "Or in tableau form:\n",
    "\n",
    "$$\\begin{equation}\n",
    "\\begin{array}{l|rrrrrr|r}\n",
    "  & y_1 & y_2 & y_3 & y_4 & x_1 & x_2 & 1\\\\\n",
    "  \\hline\n",
    " z & 0 & 0 & 0 & 0 & -2 & -1 & 0\\\\\n",
    " \\hline\n",
    "  & 1 & 0 & 0 & 0 & 1 & 3 & 15 \\\\\n",
    "  & 0 & 1 & 0 & 0 & 1 & 0 & 4\\\\\n",
    "  & 0 & 0 & 1 & 0 & 2 & 1 & 10\\\\\n",
    "  & 0 & 0 & 0 & 1 & -1 & -1 & -3\n",
    "\\end{array}\n",
    "\\end{equation}$$\n"
   ]
  },
  {
   "cell_type": "markdown",
   "id": "8433c0d1-ca57-494b-b1ca-4fc71d26447d",
   "metadata": {},
   "source": [
    "### Step 1: Finding the feasible tableau of the auxiliary LP\n",
    "\n",
    "**Your task:** Similarly to task 1, write down the tableau for the auxiliary LP, then perform a pivoting step to make the tableau feasible."
   ]
  },
  {
   "cell_type": "code",
   "execution_count": 7,
   "id": "0208e4a3-23ff-4192-a41a-7ec16362b620",
   "metadata": {},
   "outputs": [
    {
     "name": "stdout",
     "output_type": "stream",
     "text": [
      " [ y1    y2    y3    y4    x1    x2    x0     1  ]\n",
      "[[  0     0     0     0     0     0     1     0  ]\n",
      " [  1     0     0     0     1     3    -1    15  ]\n",
      " [  0     1     0     0     1     0    -1     4  ]\n",
      " [  0     0     1     0     2     1    -1    10  ]\n",
      " [  0     0     0     1    -1    -1    -1    -3  ]]\n"
     ]
    }
   ],
   "source": [
    "# Write down the tableau of the auxiliary LP\n",
    "\n",
    "T2Aux0 = np.array([\n",
    "    [0, 0, 0, 0, 0, 0, 1, 0],\n",
    "    [1, 0, 0, 0, 1, 3,-1,15],\n",
    "    [0, 1, 0, 0, 1, 0,-1, 4],\n",
    "    [0, 0, 1, 0, 2, 1,-1,10],\n",
    "    [0, 0, 0, 1,-1,-1,-1,-3]\n",
    "], dtype=float)\n",
    "\n",
    "header_T2Aux = np.array(['y1','y2','y3','y4','x1','x2','x0','1'])\n",
    "print(\"\", header_T2Aux)\n",
    "print(T2Aux0)\n"
   ]
  },
  {
   "cell_type": "code",
   "execution_count": 8,
   "id": "8962be9c-4bf8-40df-b512-b650e596947a",
   "metadata": {},
   "outputs": [
    {
     "name": "stdout",
     "output_type": "stream",
     "text": [
      " [ y1    y2    y3    y4    x1    x2    x0     1  ]\n",
      "[[  0     0     0     1    -1    -1     0    -3  ]\n",
      " [  1     0     0    -1     2     4     0    18  ]\n",
      " [  0     1     0    -1     2     1     0     7  ]\n",
      " [  0     0     1    -1     3     2     0    13  ]\n",
      " [ -0    -0    -0    -1     1     1     1     3  ]]\n"
     ]
    }
   ],
   "source": [
    "# Perform an exchange step on the tableau, such that the resulting tableau is feasible\n",
    "# -3 is the smallest among all b_i's, so we pick the row corresponding to -3\n",
    "\n",
    "T2Aux1 = pivot(T2Aux0,4,6)\n",
    "\n",
    "print(\"\", header_T2Aux)\n",
    "print(T2Aux1)\n"
   ]
  },
  {
   "cell_type": "markdown",
   "id": "56c91f91-b1cc-45f0-95dc-5730b561a315",
   "metadata": {},
   "source": [
    "### Step 2: Solving the auxiliary LP to decide whether the original LP is feasible or not\n",
    "\n",
    "**Your task**: Solve the auxiliary LP and answer the following: is the original LP feasible or infeasible? Why?"
   ]
  },
  {
   "cell_type": "markdown",
   "id": "28160203-ae77-48af-88fc-3226bac2f43d",
   "metadata": {},
   "source": [
    "<font color=\"blue\"><b>Answer:</b></font> Using the function of phase 2 of the simplex method, we obtain the following result:"
   ]
  },
  {
   "cell_type": "code",
   "execution_count": 9,
   "id": "192f73dc-e703-4f75-a26c-5d7ad2c57a1f",
   "metadata": {},
   "outputs": [
    {
     "name": "stdout",
     "output_type": "stream",
     "text": [
      " [ y1    y2    y3    y4    x1    x2    x0     1  ]\n",
      "[[  0     0     0     0     0     0     1     0  ]\n",
      " [  1     0     0     1     0     2    -2    12  ]\n",
      " [  0     1     0     1     0    -1    -2     1  ]\n",
      " [  0     0     1     2     0    -1    -3     4  ]\n",
      " [ -0    -0    -0    -1     1     1     1     3  ]] optimal\n"
     ]
    }
   ],
   "source": [
    "T2AuxFinal, status = simplexphase2(T2Aux1, verbose=False)\n",
    "\n",
    "print(\"\", header_T2Aux)\n",
    "print(T2AuxFinal, status)\n"
   ]
  },
  {
   "cell_type": "markdown",
   "id": "4e73dace-7e00-4a95-ab4e-98f1f459a1c9",
   "metadata": {},
   "source": [
    "Since the above tableau has an optimal value $0$, then we can conclude that the original LP is feasible."
   ]
  },
  {
   "cell_type": "markdown",
   "id": "123a458d-d437-42a6-a956-a69e55cdb9ee",
   "metadata": {},
   "source": [
    "### Step 3: Writing down the feasible starting tableau\n",
    "\n",
    "**Your task:** Set up the feasible starting tableau for phase II by modifying the final tableau from phase I. More specifically, delete the column corresponding to $x_0$ and replace the objective row $\\tilde{z}$ by the actual objective $z$ expressed in terms of the two non-basic variables."
   ]
  },
  {
   "cell_type": "code",
   "execution_count": 10,
   "id": "04d7ecb8-d731-4afd-81c3-fe75f93a785a",
   "metadata": {},
   "outputs": [
    {
     "name": "stdout",
     "output_type": "stream",
     "text": [
      " [ y1    y2    y3    y4    x1    x2     1  ]\n",
      "[[  0     0     0     0     0     0     0  ]\n",
      " [  1     0     0     1     0     2    12  ]\n",
      " [  0     1     0     1     0    -1     1  ]\n",
      " [  0     0     1     2     0    -1     4  ]\n",
      " [ -0    -0    -0    -1     1     1     3  ]]\n"
     ]
    }
   ],
   "source": [
    "# Delete column corresponding to x0\n",
    "\n",
    "header_T2 = np.array(['y1','y2','y3','y4','x1','x2','1'])\n",
    "T2 = np.delete(T2AuxFinal,6,1)\n",
    "\n",
    "print(\"\", header_T2)\n",
    "print(T2)\n"
   ]
  },
  {
   "cell_type": "code",
   "execution_count": 11,
   "id": "3d58e539-1982-4fbe-8587-49bb20362859",
   "metadata": {},
   "outputs": [
    {
     "name": "stdout",
     "output_type": "stream",
     "text": [
      " [ y1    y2    y3    y4    x1    x2     1  ]\n",
      "[[  0     0     0    -2     0     1     6  ]\n",
      " [  1     0     0     1     0     2    12  ]\n",
      " [  0     1     0     1     0    -1     1  ]\n",
      " [  0     0     1     2     0    -1     4  ]\n",
      " [ -0    -0    -0    -1     1     1     3  ]]\n"
     ]
    }
   ],
   "source": [
    "# Replace objective row\n",
    "\n",
    "z = [0, 0, 0, 0, -2, -1, 0]   # Our objective is z = 2*x1 + x2\n",
    "T2[0,:] = z + 2*T2[4,:]       # Transform it in terms of y4 and x2 (current non-basic variables)\n",
    "\n",
    "print(\"\", header_T2)\n",
    "print(T2)\n"
   ]
  },
  {
   "cell_type": "markdown",
   "id": "85312c3d-36df-47d8-b9cf-4cb41e926253",
   "metadata": {},
   "source": [
    "**Optional task:** Think of a way to keep track of the original objective function during phase I."
   ]
  },
  {
   "cell_type": "code",
   "execution_count": 12,
   "id": "7626d6c0-c750-4ba6-96aa-870ecbfc47ec",
   "metadata": {},
   "outputs": [
    {
     "name": "stdout",
     "output_type": "stream",
     "text": [
      " [ y1    y2    y3    y4    x1    x2     1  ]\n",
      "[[  0     0     0    -1    -1     0     3  ]\n",
      " [  1     0     0     3    -2     0     6  ]\n",
      " [  0     1     0     0     1     0     4  ]\n",
      " [  0     0     1     1     1     0     7  ]\n",
      " [ -0    -0    -0    -1     1     1     3  ]]\n"
     ]
    }
   ],
   "source": [
    "# Redo phase I, but keep track of the original objective this time \n",
    "\n",
    "T2V2Aux0 = np.array([\n",
    "    [0, 0, 0, 0, 0, 0, 1, 0],\n",
    "    [0, 0, 0, 0,-2,-1, 0, 0], # Simply add the original objective row from the beginning\n",
    "    [1, 0, 0, 0, 1, 3,-1,15],\n",
    "    [0, 1, 0, 0, 1, 0,-1, 4],\n",
    "    [0, 0, 1, 0, 2, 1,-1,10],\n",
    "    [0, 0, 0, 1,-1,-1,-1,-3]\n",
    "], dtype=float)\n",
    "\n",
    "\n",
    "# Make the auxiliary tableau feasible\n",
    "T2V2Aux1 = pivot(T2V2Aux0,5,6)\n",
    "\n",
    "# Solve the auxiliary tableau by pivoting manually\n",
    "# Note that we don't want to pivot at any entry on the second row\n",
    "T2V2Aux2 = pivot(T2V2Aux1,5,5)\n",
    "\n",
    "# Delete column corresponding to x0\n",
    "T2V2 = np.delete(T2V2Aux2,6,1) \n",
    "\n",
    "# Delete auxiliary objective row\n",
    "T2V2 = np.delete(T2V2,0,0) \n",
    "\n",
    "print(\"\", header_T2)\n",
    "print(T2V2)\n"
   ]
  },
  {
   "cell_type": "markdown",
   "id": "9c26d9ca-85f5-4028-916f-d660a5b5eaef",
   "metadata": {},
   "source": [
    "*Remark: These two approaches to obtain a feasible starting tableau for phase II of the simplex method are both ok, though their results are different. Both resulting tableaus are feasible starting tableaus for the second phase. You can check this by applying simplex phase 2 to T and T1, and see if the results are the same. You can also check the solution for the first problem on Problem Set 6 for more detailed discussions.*"
   ]
  },
  {
   "cell_type": "markdown",
   "id": "d9c2bbec-e710-4782-a903-6026d1e8c8e7",
   "metadata": {},
   "source": [
    "## Task 3 (Optional): Implementing a function performing phase I"
   ]
  },
  {
   "cell_type": "markdown",
   "id": "79d5493a-3293-4d90-b3c8-6b3cd873a420",
   "metadata": {},
   "source": [
    "**Your task**: Write a function that perform phase I of the simplex method. More specifically, the input is an auxiliary tableau, but with the original objective on the second row, and your function should output a feasible tableau of the original LP, or print 'the orginal LP is infeasible' according to the feasibility of the original LP that you check using this function.\n",
    "\n",
    "As an example, the input of the auxiliary tableau of task 2 would be the following:\n",
    "\n",
    "$$\\begin{equation}\n",
    "\\begin{array}{l|rrrrrrr|r}\n",
    "  & y_1 & y_2 & y_3 & y_4 & x_1 & x_2 & x_0 & 1\\\\\n",
    "  \\hline\n",
    "  \\tilde{z} & 0 & 0 & 0 & 0 & 0 & 0 & 1 & 0\\\\\n",
    "  \\hline\n",
    "  z & 0 & 0& 0 & 0& -2 &-1 & 0 &0\\\\\n",
    "  \\hline\n",
    "  & 1 & 0 & 0 & 0 & 1 & 3 &-1& 15 \\\\\n",
    "  & 0 & 1 & 0 & 0 & 1 & 0 &-1& 4\\\\\n",
    "  & 0 & 0 & 1 & 0 & 2 & 1 &-1& 10\\\\\n",
    "  & 0 & 0 & 0 & 1 & -1 & -1 &-1& -3\n",
    "\\end{array}\n",
    "\\end{equation}$$\n",
    "with the first row corresponding to the auxiliary objective function, and the second row corresponding to the original objective function, and the second last column corresponding to the auxiliary variable $x_0$.\n",
    "\n",
    "And your output would be \n",
    "\n",
    "$$\\begin{equation}\n",
    "\\begin{array}{l|rrrrrr|r}\n",
    "  & y_1 & y_2 & y_3 & y_4 & x_1 & x_2 & 1\\\\\n",
    "  \\hline\n",
    " z & 0 & 0 & 0 & -2 & 0 & 1 & 6\\\\\n",
    " \\hline\n",
    "  & 1 & 0 & 0 & 0 & 0 & 2 & 12 \\\\\n",
    "  & 0 & 1 & 0 & 0 & 0 & -1 & 1\\\\\n",
    "  & 0 & 0 & 1 & 0 & 0 & -2 & 4\\\\\n",
    "  & 0 & 0 & 0 & 1 & 1 & 1  & 3\n",
    "\\end{array}\n",
    "\\end{equation}$$\n",
    "which is a feasible starting tableau of the second phase."
   ]
  },
  {
   "cell_type": "code",
   "execution_count": 13,
   "id": "a395ed60",
   "metadata": {},
   "outputs": [],
   "source": [
    "# Implement the phase 1 function here\n",
    "def simplexphase1(T_aux):\n",
    "\n",
    "    \"\"\"Perform the phase 1 of simplex algorithm given an auxiliary tableau T_aux.\n",
    "\n",
    "    Args:\n",
    "      - T_aux: A numpy matrix or array representing the auxiliary tableau.\n",
    "\n",
    "    Returns:\n",
    "      - T_aux: A numpy matrix or array representing the results from simplex phase 1.\n",
    "      - status: A string indicating whether the original LP is feasible or infeasible.\n",
    "      \n",
    "    \"\"\"\n",
    "    \n",
    "    num_col = T_aux.shape[1]\n",
    "    num_row = T_aux.shape[0]\n",
    "    \n",
    "    # find the row with the most negative number in the last column\n",
    "    col_b = T_aux[:,-1]\n",
    "    min_b = np.amin(col_b)\n",
    "    pivot_row = np.where(col_b==min_b)[0]\n",
    "    \n",
    "    # pivot on that row and x0 column\n",
    "    T_aux = pivot(T_aux, pivot_row, num_col-2)\n",
    "    T_aux, _ = simplexphase2(T_aux, verbose=False, orig_obj=False)\n",
    "    \n",
    "    # the original LP is feasible if the optimal value is 0; otherwise it is infeasible\n",
    "    if T_aux[0,-1] == 0:\n",
    "        # delete the row of the auxiliary objective and the column of x0             \n",
    "        T_aux = np.delete(T_aux,  0, 0)\n",
    "        T_aux = np.delete(T_aux, -2, 1)\n",
    "        status = \"feasible\"\n",
    "    else:\n",
    "        status = \"infeasible\"\n",
    "    return T_aux, status\n"
   ]
  },
  {
   "cell_type": "markdown",
   "id": "a11dff5b-b76d-474f-a7f0-c313f3ceeb7a",
   "metadata": {},
   "source": [
    "You can test your function using the following examples: run your function on the tableaus `test_i` for $i=1,\\cdots,7$, then compare your result with `test_i_output_1`."
   ]
  },
  {
   "cell_type": "code",
   "execution_count": 14,
   "id": "35a7a177-bb6a-4636-921e-2fcbdfde716a",
   "metadata": {},
   "outputs": [
    {
     "name": "stdout",
     "output_type": "stream",
     "text": [
      "Test 1 Phase I Expected: The original LP is infeasible. \n",
      "\n",
      "Your Result:\n",
      "[[  1     0     0     0    -3  ]\n",
      " [  0    -1    -2     0     4  ]\n",
      " [ -1     1     2     0     8  ]\n",
      " [ -1    -0    -0     1     3  ]] infeasible\n"
     ]
    }
   ],
   "source": [
    "test_1 = np.matrix([\n",
    "    [0, 0, 0, 1, 0],\n",
    "    [0,-1,-2, 0, 4],\n",
    "    [0, 1, 2,-1, 5],\n",
    "    [1, 0, 0,-1,-3]\n",
    "], dtype=float)\n",
    "\n",
    "test_1_output_1 = \"The original LP is infeasible.\"\n",
    "print(\"Test 1 Phase I Expected:\", test_1_output_1, \"\\n\")\n",
    "\n",
    "print(\"Your Result:\")\n",
    "matrix_out, status_out = simplexphase1(test_1)\n",
    "print(matrix_out, status_out)"
   ]
  },
  {
   "cell_type": "code",
   "execution_count": 15,
   "id": "6d48f993-d292-413e-8808-a2303ba19336",
   "metadata": {},
   "outputs": [
    {
     "name": "stdout",
     "output_type": "stream",
     "text": [
      "Test 2 Phase I Expected: The original LP is infeasible. \n",
      "\n",
      "Your Result:\n",
      "[[  0     2     1     0    -5  ]\n",
      " [  0    -1    -2     0     4  ]\n",
      " [ -0    -2    -1     1     5  ]\n",
      " [  1    -2    -1     0     2  ]] infeasible\n"
     ]
    }
   ],
   "source": [
    "test_2 = np.matrix([\n",
    "    [0, 0, 0, 1, 0],\n",
    "    [0,-1,-2, 0, 4],\n",
    "    [0, 2, 1,-1,-5],\n",
    "    [1, 0, 0,-1,-3]\n",
    "], dtype=float)\n",
    "\n",
    "test_2_output_1 = \"The original LP is infeasible.\"\n",
    "print(\"Test 2 Phase I Expected:\", test_2_output_1, \"\\n\")\n",
    "\n",
    "print(\"Your Result:\")\n",
    "matrix_out, status_out = simplexphase1(test_2)\n",
    "print(matrix_out, status_out)"
   ]
  },
  {
   "cell_type": "code",
   "execution_count": 16,
   "id": "c926fb95-300d-4387-a068-24c0e89090c2",
   "metadata": {},
   "outputs": [
    {
     "name": "stdout",
     "output_type": "stream",
     "text": [
      "Test 3 Phase I Expected: The original LP is infeasible. \n",
      "\n",
      "Your Result:\n",
      "[[  0     0     1     0    -3  ]\n",
      " [-0.5    0   -1.5    0     5  ]\n",
      " [  0     0    -1     1     3  ]\n",
      " [-0.5    1    0.5    0     1  ]] infeasible\n"
     ]
    }
   ],
   "source": [
    "test_3 = np.matrix([\n",
    "    [0, 0, 0, 1, 0],\n",
    "    [0,-1,-2, 0, 4],\n",
    "    [1,-2, 0,-1,-5],\n",
    "    [0, 0, 1,-1,-3]\n",
    "], dtype=float)\n",
    "\n",
    "test_3_output_1 = \"The original LP is infeasible.\"\n",
    "print(\"Test 3 Phase I Expected:\", test_3_output_1, \"\\n\")\n",
    "\n",
    "print(\"Your Result:\")\n",
    "matrix_out, status_out = simplexphase1(test_3)\n",
    "print(matrix_out, status_out)"
   ]
  },
  {
   "cell_type": "code",
   "execution_count": 17,
   "id": "e420bb5f-a51d-4332-b9b4-af94fe659336",
   "metadata": {},
   "outputs": [
    {
     "name": "stdout",
     "output_type": "stream",
     "text": [
      "Test 4 Phase I Expected: The original LP is infeasible. \n",
      "\n",
      "Your Result:\n",
      "[[  1     0     0     0    -3  ]\n",
      " [ 0.5    0   -2.5    0     5  ]\n",
      " [ -1     0     0     1     3  ]\n",
      " [ 0.5    1   -0.5    0     1  ]] infeasible\n"
     ]
    }
   ],
   "source": [
    "test_4 = np.matrix([\n",
    "    [0, 0, 0, 1, 0],\n",
    "    [0,-1,-2, 0, 4],\n",
    "    [0,-2, 1,-1,-5],\n",
    "    [1, 0, 0,-1,-3]\n",
    "], dtype=float)\n",
    "\n",
    "test_4_output_1 = \"The original LP is infeasible.\"\n",
    "print(\"Test 4 Phase I Expected:\", test_4_output_1, \"\\n\")\n",
    "\n",
    "print(\"Your Result:\")\n",
    "matrix_out, status_out = simplexphase1(test_4)\n",
    "print(matrix_out, status_out)"
   ]
  },
  {
   "cell_type": "code",
   "execution_count": 18,
   "id": "17d8078a-3133-455f-b1ed-e563fa65c6bd",
   "metadata": {},
   "outputs": [
    {
     "name": "stdout",
     "output_type": "stream",
     "text": [
      "Test 5 Phase I Expected: Feasible starting tableau:\n",
      "[[  0    -1    -2     4  ]\n",
      " [  0    -2     1     7  ]\n",
      " [  1    -1     0     6  ]] \n",
      "\n",
      "Your Result:\n",
      "[[  0    -1    -2     4  ]\n",
      " [  0    -2     1     7  ]\n",
      " [  1    -1    -0     6  ]] feasible\n"
     ]
    }
   ],
   "source": [
    "test_5 = np.matrix([\n",
    "    [ 0, 0, 0, 1, 0],\n",
    "    [ 0,-1,-2, 0, 4],\n",
    "    [-2, 0, 1,-1,-5],\n",
    "    [-1, 1, 0,-1,-6]\n",
    "], dtype=float)\n",
    "\n",
    "test_5_output_1 = np.matrix([\n",
    "    [0,-1,-2, 4],\n",
    "    [0,-2, 1, 7],\n",
    "    [1,-1, 0, 6]\n",
    "], dtype=float)\n",
    "print(\"Test 5 Phase I Expected: Feasible starting tableau:\")\n",
    "print(test_5_output_1, \"\\n\")\n",
    "\n",
    "print(\"Your Result:\")\n",
    "matrix_out, status_out = simplexphase1(test_5)\n",
    "print(matrix_out, status_out)"
   ]
  },
  {
   "cell_type": "code",
   "execution_count": 19,
   "id": "623cf0b2-1d59-4aaf-ac3b-fafcccc4db74",
   "metadata": {},
   "outputs": [
    {
     "name": "stdout",
     "output_type": "stream",
     "text": [
      "Test 6 Phase I Expected: Feasible starting tableau:\n",
      "[[0.67   -1     0     6  ]\n",
      " [  0     1     0     5  ]\n",
      " [-0.33   0     1     2  ]] \n",
      "\n",
      "Your Result:\n",
      "[[0.667  -1     0     6  ]\n",
      " [  0     1     0     5  ]\n",
      " [-0.333  -0     1     2  ]] feasible\n"
     ]
    }
   ],
   "source": [
    "test_6 = np.matrix([\n",
    "    [0, 0, 0, 1, 0],\n",
    "    [0,-1, 2, 0,10],\n",
    "    [0, 1, 0,-1, 5],\n",
    "    [1, 0,-3,-1,-6]\n",
    "], dtype=float)\n",
    "\n",
    "test_6_output_1 = np.matrix([\n",
    "    [ 0.67,-1, 0, 6],\n",
    "    [    0, 1, 0, 5],\n",
    "    [-0.33, 0, 1, 2]\n",
    "], dtype=float)\n",
    "\n",
    "print(\"Test 6 Phase I Expected: Feasible starting tableau:\")\n",
    "print(test_6_output_1, \"\\n\")\n",
    "\n",
    "print(\"Your Result:\")\n",
    "matrix_out, status_out = simplexphase1(test_6)\n",
    "print(matrix_out, status_out)"
   ]
  },
  {
   "cell_type": "code",
   "execution_count": 20,
   "id": "02d428e8-8963-4471-a804-9ea4cdbe1f00",
   "metadata": {},
   "outputs": [
    {
     "name": "stdout",
     "output_type": "stream",
     "text": [
      "Test 7 Phase I Expected: Feasible starting tableau\n",
      "[[-0.67   1     0    14  ]\n",
      " [  0     1     0     5  ]\n",
      " [-0.33   0     1     2  ]] \n",
      "\n",
      "Your Result:\n",
      "[[-0.667   1     0    14  ]\n",
      " [  0     1     0     5  ]\n",
      " [-0.333  -0     1     2  ]] feasible\n"
     ]
    }
   ],
   "source": [
    "test_7 = np.matrix([\n",
    "    [0, 0, 0, 1, 0],\n",
    "    [0, 1,-2, 0,10],\n",
    "    [0, 1, 0,-1, 5],\n",
    "    [1, 0,-3,-1,-6]\n",
    "], dtype=float)\n",
    "\n",
    "test_7_output_1 = np.matrix([\n",
    "    [-0.67, 1, 0,14],\n",
    "    [    0, 1, 0, 5],\n",
    "    [-0.33, 0, 1, 2]\n",
    "], dtype=float)\n",
    "print(\"Test 7 Phase I Expected: Feasible starting tableau\")\n",
    "print(test_7_output_1, \"\\n\")\n",
    "\n",
    "print(\"Your Result:\")\n",
    "matrix_out, status_out = simplexphase1(test_7)\n",
    "print(matrix_out, status_out)"
   ]
  },
  {
   "cell_type": "markdown",
   "id": "7774fab5-530d-4e3d-9604-da8d38651a5d",
   "metadata": {},
   "source": [
    "Then, you can merge this function with the phase 2 function to obtain a complete function for the 2-phase simplex method."
   ]
  },
  {
   "cell_type": "code",
   "execution_count": 21,
   "id": "e4c3d28a-a9c6-4654-b5c1-603cac0d6387",
   "metadata": {},
   "outputs": [],
   "source": [
    "# Merge the two phases together\n",
    "\n",
    "def simplex1and2(T_aux, verbose=False):\n",
    "    \n",
    "    \"\"\"Perform simplex phase 1 and 2 given an auxiliary tableau T_aux.\n",
    "\n",
    "    Args:\n",
    "      - T_aux: A numpy matrix or array representing the auxiliary tableau.\n",
    "      - verbose: A boolean indicating whether to print the details in phase 2.\n",
    "        The default value is False (do not print anything).\n",
    "\n",
    "    Returns:\n",
    "      - T: A numpy matrix or array representing the results from simplex phase 1 and 2.\n",
    "      - status: A string indicating whether the original LP is infeasible, optimal or unbounded.\n",
    "      \n",
    "    \"\"\"\n",
    "    \n",
    "    num_col = T_aux.shape[1]\n",
    "    num_row = T_aux.shape[0]\n",
    "        \n",
    "    T, status = simplexphase1(T_aux)\n",
    "\n",
    "    if status == 'infeasible':\n",
    "        return T, status\n",
    "\n",
    "    T, status = simplexphase2(T, verbose=verbose)\n",
    "\n",
    "    return T, status\n"
   ]
  },
  {
   "cell_type": "markdown",
   "id": "e21fd609-7708-4cd1-a8b6-7e03c8fdd59d",
   "metadata": {},
   "source": [
    "Again, below are several test cases for your function: run your function on the tableaus `test_i`, then compare your result with `test_i_output_2`."
   ]
  },
  {
   "cell_type": "code",
   "execution_count": 22,
   "id": "73564f71-0990-42c8-bb32-c93089ac570b",
   "metadata": {},
   "outputs": [
    {
     "name": "stdout",
     "output_type": "stream",
     "text": [
      "Test 6 Phase II Expected: The LP is unbounded. \n",
      "\n",
      "Your Result:\n",
      "[[  0    -1    -2     4  ]\n",
      " [  0    -2     1     7  ]\n",
      " [  1    -1    -0     6  ]] unbounded\n"
     ]
    }
   ],
   "source": [
    "test_6 = np.matrix([\n",
    "    [ 0, 0, 0, 1, 0],\n",
    "    [ 0,-1,-2, 0, 4],\n",
    "    [-2, 0, 1,-1,-5],\n",
    "    [-1, 1, 0,-1,-6]\n",
    "], dtype=float)\n",
    "\n",
    "test_6_output_2 = \"The LP is unbounded.\"\n",
    "print(\"Test 6 Phase II Expected:\", test_6_output_2, \"\\n\")\n",
    "\n",
    "print(\"Your Result:\")\n",
    "matrix_out, status_out = simplex1and2(test_6)\n",
    "print(matrix_out, status_out)"
   ]
  },
  {
   "cell_type": "code",
   "execution_count": 23,
   "id": "fa7f40be-212d-461c-865d-708c994dcc89",
   "metadata": {},
   "outputs": [
    {
     "name": "stdout",
     "output_type": "stream",
     "text": [
      "Test 7 Phase II Expected: The LP has an optimal solution.\n",
      "[[0.67    0     0    11  ]\n",
      " [  0     1     0     5  ]\n",
      " [-0.33   0     1     2  ]] \n",
      "\n",
      "Your Result:\n",
      "[[0.667   0     0    11  ]\n",
      " [  0     1     0     5  ]\n",
      " [-0.333   0     1     2  ]] optimal\n"
     ]
    }
   ],
   "source": [
    "test_7 = np.matrix([\n",
    "    [0, 0, 0, 1, 0],\n",
    "    [0,-1, 2, 0,10],\n",
    "    [0, 1, 0,-1, 5],\n",
    "    [1, 0,-3,-1,-6]\n",
    "], dtype=float)\n",
    "\n",
    "test_7_output_2 = \"The LP has an optimal solution.\"\n",
    "test_7_output_2_matrix = np.matrix([\n",
    "    [ 0.67, 0, 0, 11],\n",
    "    [    0, 1, 0,  5],\n",
    "    [-0.33, 0, 1,  2]\n",
    "], dtype=float)\n",
    "print(\"Test 7 Phase II Expected:\", test_7_output_2)\n",
    "print(test_7_output_2_matrix, \"\\n\")\n",
    "\n",
    "print(\"Your Result:\")\n",
    "matrix_out, status_out = simplex1and2(test_7)\n",
    "print(matrix_out, status_out)"
   ]
  },
  {
   "cell_type": "code",
   "execution_count": 24,
   "id": "9c828d94-98dd-4904-9486-8965141b4a01",
   "metadata": {},
   "outputs": [
    {
     "name": "stdout",
     "output_type": "stream",
     "text": [
      "Test 8 Phase II Expected: The LP is unbounded. \n",
      "\n",
      "Your Result:\n",
      "[[-0.667   1     0    14  ]\n",
      " [  0     1     0     5  ]\n",
      " [-0.333  -0     1     2  ]] unbounded\n"
     ]
    }
   ],
   "source": [
    "test_8 = np.matrix([\n",
    "    [0, 0, 0, 1, 0],\n",
    "    [0, 1,-2, 0,10],\n",
    "    [0, 1, 0,-1, 5],\n",
    "    [1, 0,-3,-1,-6]\n",
    "], dtype=float)\n",
    "\n",
    "test_8_output_2 = \"The LP is unbounded.\"\n",
    "print(\"Test 8 Phase II Expected:\", test_8_output_2, \"\\n\")\n",
    "\n",
    "print(\"Your Result:\")\n",
    "matrix_out, status_out = simplex1and2(test_8)\n",
    "print(matrix_out, status_out)"
   ]
  },
  {
   "cell_type": "code",
   "execution_count": null,
   "id": "17438ca2",
   "metadata": {},
   "outputs": [],
   "source": []
  }
 ],
 "metadata": {
  "kernelspec": {
   "display_name": "Python 3 (ipykernel)",
   "language": "python",
   "name": "python3"
  },
  "language_info": {
   "codemirror_mode": {
    "name": "ipython",
    "version": 3
   },
   "file_extension": ".py",
   "mimetype": "text/x-python",
   "name": "python",
   "nbconvert_exporter": "python",
   "pygments_lexer": "ipython3",
   "version": "3.8.13"
  }
 },
 "nbformat": 4,
 "nbformat_minor": 5
}
