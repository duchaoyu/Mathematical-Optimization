{
 "cells": [
  {
   "cell_type": "markdown",
   "id": "d6157f24-1ef8-49cd-a200-61b586716c5f",
   "metadata": {},
   "source": [
    "# Week 5B: Solution to Simplex Method Phase II"
   ]
  },
  {
   "cell_type": "markdown",
   "id": "eb0dfd0b-4723-40b0-928f-40a46adb4ede",
   "metadata": {},
   "source": [
    "<font color=\"blue\"><b>Goal:</b></font> Solve an LP by implementing the second phase of the simplex method.\n",
    "\n",
    "In this notebook, you will implement the second phase of the simplex method. You will need the pivoting function you implemented last week, which is also given below:"
   ]
  },
  {
   "cell_type": "code",
   "execution_count": 1,
   "id": "a44bcd61-1ad7-406f-b468-59c0ca74c20e",
   "metadata": {},
   "outputs": [],
   "source": [
    "# Here's the pivoting function from last week\n",
    "\n",
    "import numpy as np\n",
    "\n",
    "def pivot(T,i,k):\n",
    "    # Create a copy of the tableau\n",
    "    T_pivot = np.zeros_like(T, dtype=float)  # initialize the output\n",
    "    \n",
    "    # Step (i)\n",
    "    # We divide the i-th row elementwise by the value of a_ik\n",
    "    T_pivot[i,:] = T[i,:] / T[i,k]\n",
    "    \n",
    "    # Step (ii)\n",
    "    # Note: for-loops can be interchanged\n",
    "    # We iterate through each column (l = 1, ..., n+m)\n",
    "    for l in range(0, T.shape[1]):\n",
    "        # In each column, we iterate through each row, but skip row i (j=/=i, j = 1, ..., m)\n",
    "        for j in range(0, T.shape[0]):\n",
    "            if(j != i):\n",
    "                # We compute the new value\n",
    "                T_pivot[j,l] = T[j,l] - T[j,k] * T[i,l] / T[i,k]\n",
    "    \n",
    "    return T_pivot"
   ]
  },
  {
   "cell_type": "markdown",
   "id": "0e9d4f26-7a73-4024-ab2c-4f3e170601aa",
   "metadata": {},
   "source": [
    "### Step 1: Solving a feasible LP\n",
    "\n",
    "You are given an LP in the following canonical form. The goal is to apply the second phase of the simplex method to solve this LP.\n",
    "\n",
    "$$\\begin{equation}\n",
    "\\begin{array}{lrrrrrr}\n",
    "\\max    &&2x_1 &+ &x_2 &       &  \\\\\n",
    "  \\text{s.t. }   & &x_1     &+ &3x_2   & \\leq  &15\\\\\n",
    "        & &x_1    & &    & \\leq  &4\\\\\n",
    "        & &2x_1  &+ &x_2    & \\leq  &10\\\\\n",
    "        &-&x_1  &- &x_2    & \\leq  &-3\\\\\n",
    "        & &x_1     &  &        & \\geq  &0 \\\\\n",
    "        & &        &  &x_2     & \\geq  &0 \n",
    "\\end{array}\n",
    "\\end{equation}$$\n",
    "\n",
    "To do so, one first needs to start from a feasible tableau, which is given below, where the variables $y_1,y_2,y_3,y_4$ correspond to the slack variables for constraints $1-4$ respectively.\n",
    "\n",
    "$$\\begin{equation}\n",
    "\\begin{array}{l|rrrrrr|r}\n",
    "  & y_1 & y_2 & y_3 & y_4 & x_1 & x_2 & 1\\\\\n",
    "  \\hline\n",
    " z & 0 & 0 & 0 & -1 & -1 & 0 & 3\\\\\n",
    " \\hline\n",
    "  & 1 & 0 & 0 & 3 & -2 & 0 & 6 \\\\\n",
    "  & 0 & 1 & 0 & 0 & 1  & 0 & 4 \\\\\n",
    "  & 0 & 0 & 1 & 1 & 1  & 0 & 7 \\\\\n",
    "  & 0 & 0 & 0 &-1 & 1  & 1 & 3\n",
    "\\end{array}\n",
    "\\end{equation}$$\n",
    "\n",
    "\n"
   ]
  },
  {
   "cell_type": "markdown",
   "id": "72d23d23-5ff3-481f-9c30-a18adc454d5a",
   "metadata": {},
   "source": [
    "**Your task**: Solve the LP by performing as many exchange steps on the above tableau as necessary, that is, apply phase 2 of the simplex method by manually choosing pivots according to the quotient rule and calling the pivot function. Then extract the basic solution from the resulting tableau."
   ]
  },
  {
   "cell_type": "code",
   "execution_count": 2,
   "id": "89278a26-35d8-4784-a4f9-7834b547ce95",
   "metadata": {},
   "outputs": [
    {
     "name": "stdout",
     "output_type": "stream",
     "text": [
      " [  y1      y2      y3      y4      x1      x2       1   ]\n",
      "[[   0       0       0      -1      -1       0       3   ]\n",
      " [   1       0       0       3      -2       0       6   ]\n",
      " [   0       1       0       0       1       0       4   ]\n",
      " [   0       0       1       1       1       0       7   ]\n",
      " [   0       0       0      -1       1       1       3   ]]\n"
     ]
    }
   ],
   "source": [
    "# First, we need to record the tableau\n",
    "T0 = np.matrix([\n",
    "    [ 0, 0, 0,-1,-1, 0, 3],\n",
    "    [ 1, 0, 0, 3,-2, 0, 6],\n",
    "    [ 0, 1, 0, 0, 1, 0, 4],\n",
    "    [ 0, 0, 1, 1, 1, 0, 7],\n",
    "    [ 0, 0, 0,-1, 1, 1, 3]\n",
    "], dtype=float)\n",
    "\n",
    "# We can also adjust the printing format and add a header\n",
    "np.set_printoptions(\n",
    "    formatter={'str_kind': lambda x: '{:^7}'.format(x),\n",
    "               'float': lambda x: '{: ^7.3g}'.format(x)})\n",
    "header_T = np.array(['y1','y2','y3','y4','x1','x2','1'])\n",
    "\n",
    "# Print T0\n",
    "print(\"\", header_T)\n",
    "print(T0)"
   ]
  },
  {
   "cell_type": "markdown",
   "id": "e2a2f168-be13-4be4-a4b0-e45ca3d94a30",
   "metadata": {},
   "source": [
    "<font color=\"blue\"><b>Solution:</b></font> Now, we solve the LP using the second phase of the simplex method. To determine the pivot column, we choose the column with the most negative entry on the first row. Both $y_4$ and $x_1$ have $-1$ in the first row. Here we choose the column $y_4$, although you can also choose $x_1$ if you like.\n",
    "\n",
    "To determine the pivot row, according to the quotient rule, we calculate $\\frac{b_j'}{\\alpha_{j4}}$ for each $\\alpha_{j4}>0$ in the constraints and pick the row corresponding to the smallest ratio. \n",
    "\n",
    "As a result, the entry $(2,4)$ in the matrix, or the entry `(1,3)` using Python's indexing system, will become our pivot. "
   ]
  },
  {
   "cell_type": "code",
   "execution_count": 3,
   "id": "a82d7eca-651b-4791-b8f8-120df52b7ce4",
   "metadata": {},
   "outputs": [
    {
     "name": "stdout",
     "output_type": "stream",
     "text": [
      " [  y1      y2      y3      y4      x1      x2       1   ]\n",
      "[[ 0.333     0       0       0     -1.67     0       5   ]\n",
      " [ 0.333     0       0       1    -0.667     0       2   ]\n",
      " [   0       1       0       0       1       0       4   ]\n",
      " [-0.333     0       1       0     1.67      0       5   ]\n",
      " [ 0.333     0       0       0     0.333     1       5   ]]\n"
     ]
    }
   ],
   "source": [
    "# Perform a pivoting step on the (2,4) entry\n",
    "\n",
    "T1 = pivot(T0, 1, 3)\n",
    "print(\"\", header_T)\n",
    "print(T1)"
   ]
  },
  {
   "cell_type": "markdown",
   "id": "cdfa3f57-2bef-4fa8-bfdd-34b2738c098f",
   "metadata": {},
   "source": [
    "We continue with the 5<sup>th</sup> column $x_1$ as it is now the only column with a negative entry on the first row. By the quotient rule, we pick the $(4,5)$ entry as our next pivot."
   ]
  },
  {
   "cell_type": "code",
   "execution_count": 4,
   "id": "84ac6175-2387-4a5b-bda6-3efc71471b05",
   "metadata": {},
   "outputs": [
    {
     "name": "stdout",
     "output_type": "stream",
     "text": [
      " [  y1      y2      y3      y4      x1      x2       1   ]\n",
      "[[   0       0       1       0       0       0      10   ]\n",
      " [  0.2      0      0.4      1       0       0       4   ]\n",
      " [  0.2      1     -0.6      0       0       0       1   ]\n",
      " [ -0.2      0      0.6      0       1       0       3   ]\n",
      " [  0.4      0     -0.2      0       0       1       4   ]]\n"
     ]
    }
   ],
   "source": [
    "# Perform the next pivoting step on the (4,5) entry\n",
    "\n",
    "T2 = pivot(T1, 3, 4)\n",
    "print(\"\", header_T)\n",
    "print(T2)"
   ]
  },
  {
   "cell_type": "markdown",
   "id": "c4891486-0e79-4b3f-b2a0-bb6dfed08e9e",
   "metadata": {},
   "source": [
    "The first row now contains no negative entries, which indicates that we have obtained an optimal solution. In this tableau, $x_1,x_2$ are basic variables, so their values can be read off directly from the right-most entry on the corresponding row: $x_1=3$ and $x_2=4$. "
   ]
  },
  {
   "cell_type": "code",
   "execution_count": 5,
   "id": "5edd2775-b501-4ef3-b423-9e4f7da8783f",
   "metadata": {},
   "outputs": [
    {
     "name": "stdout",
     "output_type": "stream",
     "text": [
      "An optimal solution to the LP is (3.00, 4.00) with objective value 10.00.\n"
     ]
    }
   ],
   "source": [
    "# Extract the basic solution\n",
    "\n",
    "x_1 = T2[3,6]\n",
    "x_2 = T2[4,6]\n",
    "z = T2[0,6]\n",
    "print(f\"An optimal solution to the LP is ({x_1:.2f}, {x_2:.2f}) \" + \n",
    "      f\"with objective value {z:.2f}.\")"
   ]
  },
  {
   "cell_type": "markdown",
   "id": "55c7f555-eaaa-4a40-8ff5-07eb7714296c",
   "metadata": {},
   "source": [
    "### Step 2: Checking the uniqueness of the optimal solutions manually\n",
    "\n",
    "**Your task**: Determine whether the optimal solution is unique by exploring the properties of the optimal tableau you found above.\n",
    "\n",
    "_Hint_: In order to answer this, you may wish to do one more pivoting step to get a different optimal solution. Look at the tableau and try to see where can you pivot at."
   ]
  },
  {
   "cell_type": "markdown",
   "id": "b5554773-d6a4-4e48-9994-8c44f2800e28",
   "metadata": {},
   "source": [
    "<font color=\"blue\"><b>Solution:</b></font> The tableau above has the following form:\n",
    "\n",
    "$$\\begin{equation}\n",
    "\\begin{array}{l|rrrrrr|r}\n",
    "  & y_1 & y_2 & y_3 & y_4 & x_1 & x_2 & 1\\\\\n",
    "  \\hline\n",
    " z & 0 & 0 & 1 & 0 & 0 & 0 & 10\\\\\n",
    " \\hline\n",
    "  & 0.2 & 0 & 0.4 & 1 & 0 & 0 & 4 \\\\\n",
    "  & 0.2 & 1 & -0.6 & 0 & 0 & 0 & 1 \\\\\n",
    "  & -0.2 & 0 & 0.6 & 0 & 1 & 0 & 3 \\\\\n",
    "  & 0.4 & 0 & -0.2 & 0 & 0 & 1 & 4\n",
    "\\end{array}\n",
    "\\end{equation}$$\n",
    "\n",
    "Notice that $y_2$ is a basic variable, but the corresponding $(1,2)$-entry is 0, which means $y_2$ does not contribute to the optimal value. Therefore, we can pivot once more at the $(3,2)$-entry without changing the optimal value. This will lead to the following tableau."
   ]
  },
  {
   "cell_type": "code",
   "execution_count": 6,
   "id": "efb5c2a9-d9bd-44a8-8f0b-67e060bd28ac",
   "metadata": {},
   "outputs": [
    {
     "name": "stdout",
     "output_type": "stream",
     "text": [
      "Another optimal solution to the LP is (4.00, 2.00) with objective value 10.00.\n"
     ]
    }
   ],
   "source": [
    "# Perform one more pivoting step at (3,2) entry\n",
    "\n",
    "T3 = pivot(T2,2,0)\n",
    "\n",
    "# To output the optimal solution, we can use the same command\n",
    "\n",
    "x_1 = T3[3,6]\n",
    "x_2 = T3[4,6]\n",
    "z = T3[0,6]\n",
    "\n",
    "print(f\"Another optimal solution to the LP is ({x_1:.2f}, {x_2:.2f}) \" + \n",
    "      f\"with objective value {z:.2f}.\")"
   ]
  },
  {
   "cell_type": "markdown",
   "id": "d9f11564-eb8e-4e0c-8eab-799495700a21",
   "metadata": {},
   "source": [
    "From the process above, we can see that $(4,2)$ is another optimal solution to the above LP. Therefore, any point on the segment between $(4,2)$ and $(3,4)$ is also an optimal solution."
   ]
  },
  {
   "cell_type": "markdown",
   "id": "78b35582-c108-4970-af0e-d8dff96105a0",
   "metadata": {},
   "source": [
    "### Step 3: Double checking your solutions\n",
    "\n",
    "**Your Task:** Double-check your solutions with `PuLP`by running the code below. Does it correspond to one of the solutions you found using the pivoting steps above?"
   ]
  },
  {
   "cell_type": "code",
   "execution_count": 7,
   "id": "f049e722-cdfb-427c-991f-f315fa6fede6",
   "metadata": {},
   "outputs": [
    {
     "name": "stdout",
     "output_type": "stream",
     "text": [
      "An optimal solution to the LP is (3.00, 4.00) with objective value 10.00.\n"
     ]
    }
   ],
   "source": [
    "# Check using PuLP\n",
    "\n",
    "import pulp\n",
    "\n",
    "mylp = pulp.LpProblem(\"My_LP\", pulp.LpMaximize)\n",
    "\n",
    "x1 = pulp.LpVariable('x1', lowBound=0, cat=pulp.LpContinuous)\n",
    "x2 = pulp.LpVariable('x2', lowBound=0, cat=pulp.LpContinuous)\n",
    "\n",
    "mylp += 2*x1 + x2\n",
    "\n",
    "mylp += x1 + 3*x2 <= 15\n",
    "mylp += x1 <= 4\n",
    "mylp += 2*x1 + x2 <= 10\n",
    "mylp += -x1 - x2 <= -3\n",
    "\n",
    "mylp.solve()\n",
    "\n",
    "print(f\"An optimal solution to the LP is ({x1.value():.2f}, {x2.value():.2f}) \" + \n",
    "      f\"with objective value {mylp.objective.value():.2f}.\")"
   ]
  },
  {
   "cell_type": "markdown",
   "id": "669d7a65-11ec-49d0-a5b3-cf04a78a2fe8",
   "metadata": {},
   "source": [
    "*Remark: Note that `PuLP` only returns one optimal solution, even if it is not unique. To explore other solutions with `PuLP`, further modifications are necessary.*"
   ]
  },
  {
   "cell_type": "markdown",
   "id": "9dcf7170-2af3-4945-838c-f71b57016739",
   "metadata": {},
   "source": [
    "### Step 4 (Optional): Implementing a function that perform the second phase automatically"
   ]
  },
  {
   "cell_type": "markdown",
   "id": "6e6abad2-0d5b-4720-ab81-946a8e75bbd7",
   "metadata": {},
   "source": [
    "Note that we already implemented the pivoting function last week. The second phase of the simplex method is about a systematic way of choosing your pivots, i.e., choosing the pivots according to the quotient rule.\n",
    "\n",
    "**Your task**: Write a function that perform the second phase automatically. The input should be a feasible tableau T."
   ]
  },
  {
   "cell_type": "code",
   "execution_count": 8,
   "id": "2371445c-90d4-49bd-bf8e-8dfd762ac8f6",
   "metadata": {},
   "outputs": [],
   "source": [
    "# Implement the second phase of the simplex method as a function\n",
    "\n",
    "# Note: \n",
    "#  1. This is only one of the possible ways to implement the algorithm.\n",
    "#  2. Anything under verbose is for printing only. We print out the header\n",
    "#     and the indices for each pivoting step so that it is easier to read.\n",
    "#  3. Below, we have changed the rule for choosing the pivoting column: \n",
    "#     instead of picking the first negative entry in the objective row, \n",
    "#     we pick the column with the most negative entry instead.  \n",
    "\n",
    "def simplexphase2(T, header=None, verbose=True):\n",
    "    \n",
    "    \"\"\"Perform the phase 2 of simplex algorithm given a FEASIBLE tableau T.\n",
    "\n",
    "    Args:\n",
    "      - T: A numpy matrix representing the starting feasible tableau.\n",
    "      - header: A numpy array representing the column names of the tableau. \n",
    "        Used for printing only. The default value is None.\n",
    "      - verbose: A boolean indicating whether to print the details.\n",
    "        The default value is True (print all output).\n",
    "\n",
    "    Returns:\n",
    "      T: A numpy array representing the resulting matrix from the simplex algorithm.\n",
    "    \"\"\"\n",
    "    \n",
    "    num_col = T.shape[1]\n",
    "    num_row = T.shape[0]\n",
    "    \n",
    "    step_counter = 0 # to count the steps in our simplex algorithm; for printing only\n",
    "    \n",
    "    if verbose:\n",
    "        print(\"Input:\")\n",
    "        if header is not None:\n",
    "            print(\"\", header)\n",
    "        print(T, \"\\n\")\n",
    "        \n",
    "    while True:\n",
    "    \n",
    "        # If all numbers (except the last column) in the objective row >=0,\n",
    "        # then we have found an optimal solution and will end the algorithm.\n",
    "        if (T[0,:-1] >= 0).all():\n",
    "            print(\"We found an optimal solution!\")\n",
    "            return T   \n",
    "\n",
    "        # If any column has an entry <0 in the objective row, and all other entries are <= 0,\n",
    "        # then it means the tableau (and the LP) is unbounded, and we will end the algorithm.\n",
    "        for j in range(0, num_col-1):\n",
    "            if (T[0,j] < 0) and (T[1:,j] <= 0).all():\n",
    "                print(\"The LP is unbounded.\")\n",
    "                return T\n",
    " \n",
    "        # If the tableau is neither unbounded nor optimal, then we can continue\n",
    "        # with the second phase of the simplex algorithm.\n",
    "        step_counter += 1\n",
    "        if verbose:\n",
    "            print(f\"****** Step {step_counter} ******\")\n",
    "\n",
    "        # determine the pivot column (choose the most negative entry)\n",
    "        min_obj = np.inf\n",
    "        pivot_col = np.inf\n",
    "        for j in range(0, num_col-1):\n",
    "            if T[0,j] < min_obj:\n",
    "                min_obj = T[0,j]\n",
    "                pivot_col = j\n",
    "        if verbose:\n",
    "            if header is None:\n",
    "                pivot_col_name = \"#\" + str(pivot_col+1)\n",
    "            else:\n",
    "                pivot_col_name = header[pivot_col] \n",
    "            print(f\"Pivot col: column {pivot_col_name} \"  + \n",
    "                  f\"as it has the most negative value \" +\n",
    "                  f\"{min_obj:.2f} in the obj row.\")\n",
    "\n",
    "        # determine the pivot row (use the quotient rule)\n",
    "        min_ratio = np.inf\n",
    "        pivot_row = np.inf\n",
    "        for i in range(1, num_row):\n",
    "            if T[i,pivot_col] > 0:\n",
    "                ratio = T[i,-1] / T[i,pivot_col]\n",
    "                if ratio < min_ratio:\n",
    "                    min_ratio = ratio\n",
    "                    pivot_row = i   \n",
    "        if verbose:\n",
    "            print(f\"Pivot row: constraint #{pivot_row} \" + \n",
    "                  f\"based on the quotient rule as it has \" +\n",
    "                  f\"the smallest ratio {min_ratio:.2f}.\")\n",
    "\n",
    "        # perform the pivoting step\n",
    "        T = pivot(T, pivot_row, pivot_col)\n",
    "        if verbose:\n",
    "            if header is not None: \n",
    "                print(\"\", header)\n",
    "            print(T, \"\\n\")\n"
   ]
  },
  {
   "cell_type": "markdown",
   "id": "6744e4f6-2aef-46a6-a58b-38a02378a8b8",
   "metadata": {},
   "source": [
    "You may check your function by solving the previous example."
   ]
  },
  {
   "cell_type": "code",
   "execution_count": 9,
   "id": "900feb5b-2ae0-488e-9bc5-ad303174b35e",
   "metadata": {},
   "outputs": [
    {
     "name": "stdout",
     "output_type": "stream",
     "text": [
      "Input:\n",
      " [  y1      y2      y3      y4      x1      x2       1   ]\n",
      "[[   0       0       0      -1      -1       0       3   ]\n",
      " [   1       0       0       3      -2       0       6   ]\n",
      " [   0       1       0       0       1       0       4   ]\n",
      " [   0       0       1       1       1       0       7   ]\n",
      " [   0       0       0      -1       1       1       3   ]] \n",
      "\n",
      "****** Step 1 ******\n",
      "Pivot col: column y4 as it has the most negative value -1.00 in the obj row.\n",
      "Pivot row: constraint #1 based on the quotient rule as it has the smallest ratio 2.00.\n",
      " [  y1      y2      y3      y4      x1      x2       1   ]\n",
      "[[ 0.333     0       0       0     -1.67     0       5   ]\n",
      " [ 0.333     0       0       1    -0.667     0       2   ]\n",
      " [   0       1       0       0       1       0       4   ]\n",
      " [-0.333     0       1       0     1.67      0       5   ]\n",
      " [ 0.333     0       0       0     0.333     1       5   ]] \n",
      "\n",
      "****** Step 2 ******\n",
      "Pivot col: column x1 as it has the most negative value -1.67 in the obj row.\n",
      "Pivot row: constraint #3 based on the quotient rule as it has the smallest ratio 3.00.\n",
      " [  y1      y2      y3      y4      x1      x2       1   ]\n",
      "[[   0       0       1       0       0       0      10   ]\n",
      " [  0.2      0      0.4      1       0       0       4   ]\n",
      " [  0.2      1     -0.6      0       0       0       1   ]\n",
      " [ -0.2      0      0.6      0       1       0       3   ]\n",
      " [  0.4      0     -0.2      0       0       1       4   ]] \n",
      "\n",
      "We found an optimal solution!\n"
     ]
    }
   ],
   "source": [
    "# Check your function by running it on the previous tableau T0\n",
    "T_final = simplexphase2(T0, header=header_T, verbose=True)"
   ]
  }
 ],
 "metadata": {
  "kernelspec": {
   "display_name": "Python 3",
   "language": "python",
   "name": "python3"
  },
  "language_info": {
   "codemirror_mode": {
    "name": "ipython",
    "version": 3
   },
   "file_extension": ".py",
   "mimetype": "text/x-python",
   "name": "python",
   "nbconvert_exporter": "python",
   "pygments_lexer": "ipython3",
   "version": "3.8.8"
  }
 },
 "nbformat": 4,
 "nbformat_minor": 5
}
