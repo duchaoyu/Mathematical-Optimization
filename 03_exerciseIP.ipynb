{
 "cells": [
  {
   "cell_type": "markdown",
   "id": "d34adc99",
   "metadata": {},
   "source": [
    "# Week 3: Factory Product Planning\n",
    "### Programming Exercise for IP\n",
    "\n",
    "<font color='blue'><b>Goals of this notebook:</b></font>\n",
    "Set up, solve and visualize an integer linear program with `PuLP`.\n",
    "\n",
    "Problem description: A factory with 100 engineers and 180 technicians make products <b>A</b>, <b>B</b>, and <b>C</b>. The value of product <b>A</b> is 10'000 CHF, the value of product <b>B</b> is 12'000 CHF, and the value of product <b>C</b> is 9'000 CHF. In order to make a certain product, the factory must assign personnel to operate a workstation that produces that specific product. The following shows how many personnel of each type are required to operate a single workstation:\n",
    "\n",
    "- workstation for product <b>A</b>: 3 engineers and 10 technicians,\n",
    "- workstation for product <b>B</b>: 5 engineers and 7 technicians,\n",
    "- workstation for product <b>C</b>: 2 engineers and 17 technicians.\n",
    "\n",
    "The number of workstations of each kind are considered unlimited. Each employee can be assigned to operate at most one workstation per day, and each workstation produces exactly one product per day. As an example, if the factory wants to produce two units of product <b>A</b> on a single day, then it must assign two separate sets of personnel to two workstations for product <b>A</b>."
   ]
  },
  {
   "cell_type": "markdown",
   "id": "e33b0a30",
   "metadata": {},
   "source": [
    "## Task 1: Solving the IP: Assigning Workstations\n",
    "\n",
    "Determine how many workstations of each type the factory should operate if they want to maximize the total value of produced products in one day. To do this, write down an <b>Integer Linear Program</b>, then set it up and solve it with `PuLP`."
   ]
  },
  {
   "cell_type": "code",
   "execution_count": 1,
   "id": "7f748fbf",
   "metadata": {},
   "outputs": [],
   "source": [
    "# Set up the optimization program\n",
    "from pulp import *\n",
    "factory_ip = LpProblem(\"The_Easternmost_Point_of_the_House\", LpMaximize)"
   ]
  },
  {
   "cell_type": "markdown",
   "id": "6ec10a0b",
   "metadata": {},
   "source": [
    "*Note: Recall that an integer linear program is obtained by adding integrality constraints of the form “$x \\in \\mathbb{Z}$” to a linear program. In `PuLP`, this is done when setting up variables. In particular, the category of your variables should be `pulp.LpInteger` in this problem.*"
   ]
  },
  {
   "cell_type": "code",
   "execution_count": 2,
   "id": "26cf37c6",
   "metadata": {},
   "outputs": [],
   "source": [
    "# Create the variables\n",
    "a = LpVariable(\"setA\", lowBound=0, cat='Integer')\n",
    "b = LpVariable(\"setB\", lowBound=0, cat='Integer')\n",
    "c = LpVariable(\"setC\", lowBound=0, cat='Integer')"
   ]
  },
  {
   "cell_type": "code",
   "execution_count": 3,
   "id": "d806d5c0",
   "metadata": {},
   "outputs": [],
   "source": [
    "# Add the objective function\n",
    "factory_ip += 10000 * a + 12000 * b + 9000 * c"
   ]
  },
  {
   "cell_type": "code",
   "execution_count": 4,
   "id": "a480539f",
   "metadata": {},
   "outputs": [],
   "source": [
    "# Add the constraints\n",
    "factory_ip += 3 * a + 5 * b + 2 * c <= 100\n",
    "factory_ip += 10 * a + 7 * b + 17 * c <=180"
   ]
  },
  {
   "cell_type": "code",
   "execution_count": 5,
   "id": "7bb27aab-a5c0-40c4-be9b-6956294a5178",
   "metadata": {},
   "outputs": [
    {
     "name": "stdout",
     "output_type": "stream",
     "text": [
      "The_Easternmost_Point_of_the_House:\n",
      "MAXIMIZE\n",
      "10000*setA + 12000*setB + 9000*setC + 0\n",
      "SUBJECT TO\n",
      "_C1: 3 setA + 5 setB + 2 setC <= 100\n",
      "\n",
      "_C2: 10 setA + 7 setB + 17 setC <= 180\n",
      "\n",
      "VARIABLES\n",
      "0 <= setA Integer\n",
      "0 <= setB Integer\n",
      "0 <= setC Integer\n",
      "\n"
     ]
    }
   ],
   "source": [
    "print(factory_ip)"
   ]
  },
  {
   "cell_type": "markdown",
   "id": "b170c1a7",
   "metadata": {},
   "source": [
    "*Note: Although the algorithm to solve IPs is very different from LPs, you can still use the same command in `PuLP` to solve them.*"
   ]
  },
  {
   "cell_type": "code",
   "execution_count": 8,
   "id": "8052fdfc",
   "metadata": {},
   "outputs": [
    {
     "name": "stdout",
     "output_type": "stream",
     "text": [
      "Welcome to the CBC MILP Solver \n",
      "Version: 2.10.8 \n",
      "Build Date: May  6 2022 \n",
      "\n",
      "command line - cbc /var/folders/wb/nsj1jwbn6pg7v8z5l7scpkw80000gn/T/1f9afbdd119a494694970905658ddf21-pulp.mps max timeMode elapsed branch printingOptions all solution /var/folders/wb/nsj1jwbn6pg7v8z5l7scpkw80000gn/T/1f9afbdd119a494694970905658ddf21-pulp.sol (default strategy 1)\n",
      "At line 2 NAME          MODEL\n",
      "At line 3 ROWS\n",
      "At line 7 COLUMNS\n",
      "At line 23 RHS\n",
      "At line 26 BOUNDS\n",
      "At line 30 ENDATA\n",
      "Problem MODEL has 2 rows, 3 columns and 6 elements\n",
      "Coin0008I MODEL read with 0 errors\n",
      "Option for timeMode changed from cpu to elapsed\n",
      "Continuous objective value is 259310 - 0.00 seconds\n",
      "Cgl0004I processed model has 2 rows, 3 columns (3 integer (0 of which binary)) and 6 elements\n",
      "Cutoff increment increased from 1e-05 to 1000\n",
      "Cbc0012I Integer solution of -240000 found by DiveCoefficient after 0 iterations and 0 nodes (0.03 seconds)\n",
      "Cbc0038I Full problem 2 rows 3 columns, reduced to 2 rows 2 columns\n",
      "Cbc0012I Integer solution of -254000 found by DiveCoefficient after 5 iterations and 0 nodes (0.04 seconds)\n",
      "Cbc0031I 1 added rows had average density of 3\n",
      "Cbc0013I At root node, 1 cuts changed objective from -259310.34 to -254000 in 4 passes\n",
      "Cbc0014I Cut generator 0 (Probing) - 0 row cuts average 0.0 elements, 3 column cuts (3 active)  in 0.002 seconds - new frequency is 1\n",
      "Cbc0014I Cut generator 1 (Gomory) - 4 row cuts average 3.0 elements, 0 column cuts (0 active)  in 0.003 seconds - new frequency is 1\n",
      "Cbc0014I Cut generator 2 (Knapsack) - 0 row cuts average 0.0 elements, 0 column cuts (0 active)  in 0.001 seconds - new frequency is -100\n",
      "Cbc0014I Cut generator 3 (Clique) - 0 row cuts average 0.0 elements, 0 column cuts (0 active)  in 0.001 seconds - new frequency is -100\n",
      "Cbc0014I Cut generator 4 (MixedIntegerRounding2) - 0 row cuts average 0.0 elements, 0 column cuts (0 active)  in 0.001 seconds - new frequency is -100\n",
      "Cbc0014I Cut generator 5 (FlowCover) - 0 row cuts average 0.0 elements, 0 column cuts (0 active)  in 0.000 seconds - new frequency is -100\n",
      "Cbc0001I Search completed - best objective -254000, took 5 iterations and 0 nodes (0.04 seconds)\n",
      "Cbc0035I Maximum depth 0, 0 variables fixed on reduced cost\n",
      "Cuts at root node changed objective from -259310 to -254000\n",
      "Probing was tried 4 times and created 3 cuts of which 0 were active after adding rounds of cuts (0.002 seconds)\n",
      "Gomory was tried 4 times and created 4 cuts of which 0 were active after adding rounds of cuts (0.003 seconds)\n",
      "Knapsack was tried 4 times and created 0 cuts of which 0 were active after adding rounds of cuts (0.001 seconds)\n",
      "Clique was tried 4 times and created 0 cuts of which 0 were active after adding rounds of cuts (0.001 seconds)\n",
      "MixedIntegerRounding2 was tried 4 times and created 0 cuts of which 0 were active after adding rounds of cuts (0.001 seconds)\n",
      "FlowCover was tried 4 times and created 0 cuts of which 0 were active after adding rounds of cuts (0.000 seconds)\n",
      "TwoMirCuts was tried 1 times and created 0 cuts of which 0 were active after adding rounds of cuts (0.001 seconds)\n",
      "ZeroHalf was tried 1 times and created 0 cuts of which 0 were active after adding rounds of cuts (0.000 seconds)\n",
      "\n",
      "Result - Optimal solution found\n",
      "\n",
      "Objective value:                254000.00000000\n",
      "Enumerated nodes:               0\n",
      "Total iterations:               5\n",
      "Time (CPU seconds):             0.05\n",
      "Time (Wallclock seconds):       0.04\n",
      "\n",
      "Option for printingOptions changed from normal to all\n",
      "Total time (CPU seconds):       0.06   (Wallclock seconds):       0.05\n",
      "\n"
     ]
    },
    {
     "data": {
      "text/plain": [
       "1"
      ]
     },
     "execution_count": 8,
     "metadata": {},
     "output_type": "execute_result"
    }
   ],
   "source": [
    "# Solve the IP\n",
    "factory_ip.solve()"
   ]
  },
  {
   "cell_type": "code",
   "execution_count": 9,
   "id": "948e6e83",
   "metadata": {},
   "outputs": [
    {
     "name": "stdout",
     "output_type": "stream",
     "text": [
      "The factory should operate:\n",
      "  - 5.00 workstation setA\n",
      "  - 17.00 workstation setB\n",
      "  - 0.00 workstation setC\n",
      "The maximized value of all products is 254000.00.\n"
     ]
    }
   ],
   "source": [
    "# Print the optimal value and an optimal solution\n",
    "print(\"The factory should operate:\")\n",
    "for v in factory_ip.variables():\n",
    "    print(f\"  - {v.value():.2f} workstation {v}\")\n",
    "print(f\"The maximized value of all products is {factory_ip.objective.value():.2f}.\")"
   ]
  },
  {
   "cell_type": "markdown",
   "id": "c0f68907",
   "metadata": {},
   "source": [
    "## Task 2: Testing the Integrality Condition\n",
    "\n",
    "Will the optimal solution change if the integrality condition is removed? <br>\n",
    "Please change the category of the variables to continuous, and solve the problem again."
   ]
  },
  {
   "cell_type": "code",
   "execution_count": 10,
   "id": "4b98059d",
   "metadata": {},
   "outputs": [
    {
     "name": "stdout",
     "output_type": "stream",
     "text": [
      "Welcome to the CBC MILP Solver \n",
      "Version: 2.10.8 \n",
      "Build Date: May  6 2022 \n",
      "\n",
      "command line - cbc /var/folders/wb/nsj1jwbn6pg7v8z5l7scpkw80000gn/T/c6d37a2a67454aa695fc6e3b7586108e-pulp.mps max timeMode elapsed branch printingOptions all solution /var/folders/wb/nsj1jwbn6pg7v8z5l7scpkw80000gn/T/c6d37a2a67454aa695fc6e3b7586108e-pulp.sol (default strategy 1)\n",
      "At line 2 NAME          MODEL\n",
      "At line 3 ROWS\n",
      "At line 7 COLUMNS\n",
      "At line 17 RHS\n",
      "At line 20 BOUNDS\n",
      "At line 21 ENDATA\n",
      "Problem MODEL has 2 rows, 3 columns and 6 elements\n",
      "Coin0008I MODEL read with 0 errors\n",
      "Option for timeMode changed from cpu to elapsed\n",
      "Presolve 2 (0) rows, 3 (0) columns and 6 (0) elements\n",
      "0  Obj -0 Dual inf 37666.667 (3)\n",
      "0  Obj -0 Dual inf 37666.667 (3)\n",
      "2  Obj 259310.34\n",
      "Optimal - objective value 259310.34\n",
      "Optimal objective 259310.3448 - 2 iterations time 0.002\n",
      "Option for printingOptions changed from normal to all\n",
      "Total time (CPU seconds):       0.00   (Wallclock seconds):       0.01\n",
      "\n",
      "The factory should operate:\n",
      "  - 6.90 workstation setA\n",
      "  - 15.86 workstation setB\n",
      "  - 0.00 workstation setC\n",
      "The maximized value of all products is 254000.00.\n"
     ]
    }
   ],
   "source": [
    "# Change the category of the variables to continuous, and solve the problem again\n",
    "factory_lp = LpProblem(\"The_Easternmost_Point_of_the_House\", LpMaximize)\n",
    "a = LpVariable(\"setA\", lowBound=0)\n",
    "b = LpVariable(\"setB\", lowBound=0)\n",
    "c = LpVariable(\"setC\", lowBound=0)\n",
    "\n",
    "factory_lp += 10000 * a + 12000 * b + 9000 * c\n",
    "\n",
    "factory_lp += 3 * a + 5 * b + 2 * c <= 100\n",
    "factory_lp += 10 * a + 7 * b + 17 * c <=180\n",
    "\n",
    "factory_lp.solve()\n",
    "\n",
    "print(\"The factory should operate:\")\n",
    "for v in factory_lp.variables():\n",
    "    print(f\"  - {v.value():.2f} workstation {v}\")\n",
    "print(f\"The maximized value of all products is {factory_ip.objective.value():.2f}.\")"
   ]
  },
  {
   "cell_type": "markdown",
   "id": "9bd0b9c6",
   "metadata": {},
   "source": [
    "## Task 3: Solving the IP: Additional Workers\n",
    "\n",
    "Now, we consider a new problem based on the optimal amount of workstations you found above. The factory owner needs to hire another group of engineers and technicians to perform maintenance work, and they ask us again for our help. Here is what they need:\n",
    "\n",
    "- Each workstation needs at least 1 **engineer** and 1 **technician** to maintain. \n",
    "- Each **technician** can work on 3 workstations of any type at the same time.\n",
    "- Each **engineer** can work on 1 workstation A, 2 workstation B, and 3 workstation C simultaneously.\n",
    "- The salary of an **engineer** is 8'000 CHF, while that of a **technician** is 6'000 CHF. \n",
    "\n",
    "Your task is to write an integer linear program to determine how many engineers and technicians to hire so that they can service all the workstations from Task 1 and that the total salary is minimized. Note that the optimal solution from Task 1 is to operate 5 workstation A, 17 workstation B, and no workstation C."
   ]
  },
  {
   "cell_type": "code",
   "execution_count": 11,
   "id": "0f93d7fa",
   "metadata": {},
   "outputs": [
    {
     "name": "stdout",
     "output_type": "stream",
     "text": [
      "Welcome to the CBC MILP Solver \n",
      "Version: 2.10.8 \n",
      "Build Date: May  6 2022 \n",
      "\n",
      "command line - cbc /var/folders/wb/nsj1jwbn6pg7v8z5l7scpkw80000gn/T/3d8461e94c1c41658baf7c2e28792e51-pulp.mps timeMode elapsed branch printingOptions all solution /var/folders/wb/nsj1jwbn6pg7v8z5l7scpkw80000gn/T/3d8461e94c1c41658baf7c2e28792e51-pulp.sol (default strategy 1)\n",
      "At line 2 NAME          MODEL\n",
      "At line 3 ROWS\n",
      "At line 8 COLUMNS\n",
      "At line 18 RHS\n",
      "At line 22 BOUNDS\n",
      "At line 25 ENDATA\n",
      "Problem MODEL has 3 rows, 2 columns and 3 elements\n",
      "Coin0008I MODEL read with 0 errors\n",
      "Option for timeMode changed from cpu to elapsed\n",
      "Continuous objective value is 170000 - 0.00 seconds\n",
      "Cgl0004I processed model has 0 rows, 0 columns (0 integer (0 of which binary)) and 0 elements\n",
      "Cbc3007W No integer variables - nothing to do\n",
      "Cuts at root node changed objective from 174000 to -1.79769e+308\n",
      "Probing was tried 0 times and created 0 cuts of which 0 were active after adding rounds of cuts (0.000 seconds)\n",
      "Gomory was tried 0 times and created 0 cuts of which 0 were active after adding rounds of cuts (0.000 seconds)\n",
      "Knapsack was tried 0 times and created 0 cuts of which 0 were active after adding rounds of cuts (0.000 seconds)\n",
      "Clique was tried 0 times and created 0 cuts of which 0 were active after adding rounds of cuts (0.000 seconds)\n",
      "MixedIntegerRounding2 was tried 0 times and created 0 cuts of which 0 were active after adding rounds of cuts (0.000 seconds)\n",
      "FlowCover was tried 0 times and created 0 cuts of which 0 were active after adding rounds of cuts (0.000 seconds)\n",
      "TwoMirCuts was tried 0 times and created 0 cuts of which 0 were active after adding rounds of cuts (0.000 seconds)\n",
      "ZeroHalf was tried 0 times and created 0 cuts of which 0 were active after adding rounds of cuts (0.000 seconds)\n",
      "\n",
      "Result - Optimal solution found\n",
      "\n",
      "Objective value:                174000.00000000\n",
      "Enumerated nodes:               0\n",
      "Total iterations:               1\n",
      "Time (CPU seconds):             0.00\n",
      "Time (Wallclock seconds):       0.02\n",
      "\n",
      "Option for printingOptions changed from normal to all\n",
      "Total time (CPU seconds):       0.00   (Wallclock seconds):       0.02\n",
      "\n",
      "The factory should operate:\n",
      "  - 9.00 workstation engineer_number\n",
      "  - 17.00 workstation technician_number\n",
      "The minimize value of all products is 174000.00.\n"
     ]
    }
   ],
   "source": [
    "# Write an IP to model and solve this problem\n",
    "worker_ip = LpProblem(\"Additional_Workers\", LpMinimize)\n",
    "num_t = LpVariable(\"technician number\", lowBound=0, cat='Integer')\n",
    "num_e = LpVariable(\"engineer number\", lowBound=0, cat='Integer')\n",
    "\n",
    "worker_ip += 8000 * num_e + 6000 * num_t\n",
    "\n",
    "worker_ip += num_t >= 17\n",
    "worker_ip += num_e >= 5\n",
    "worker_ip += num_e * 2 >= 17\n",
    "\n",
    "worker_ip.solve()\n",
    "\n",
    "print(\"The factory should operate:\")\n",
    "for v in worker_ip.variables():\n",
    "    print(f\"  - {v.value():.2f} workstation {v}\")\n",
    "print(f\"The minimize value of all products is {worker_ip.objective.value():.2f}.\")\n"
   ]
  },
  {
   "cell_type": "markdown",
   "id": "db3e2312",
   "metadata": {},
   "source": [
    "Sketching out the feasible region is often helpful when solving a mathematical program. To improve our efficiency, we have built a function in `plotLP.py` that can generate such plots automatically. Please download the file from Moodle and save it in the same directory of this workbook. Once you have set up the LP or the IP in PuLP, you can visualize it using the code below."
   ]
  },
  {
   "cell_type": "code",
   "execution_count": 14,
   "id": "fe2980ee",
   "metadata": {},
   "outputs": [
    {
     "data": {
      "image/png": "[encoded data removed]",
      "text/plain": [
       "<Figure size 600x600 with 1 Axes>"
      ]
     },
     "metadata": {},
     "output_type": "display_data"
    }
   ],
   "source": [
    "# Draw the feasible region of the above program\n",
    "# make sure you have saved plotLP.py in the same directory on your computer\n",
    "%matplotlib inline\n",
    "from plotLP import plotLP  \n",
    "plotLP(worker_ip, x_lower=0, x_upper=20, y_lower=0, y_upper=20,\n",
    "       draw_obj=True, show_feasible=True, int_prog=True, \n",
    "       grid_pts=200, fig_size=(6,6))"
   ]
  },
  {
   "cell_type": "markdown",
   "id": "974f3241",
   "metadata": {},
   "source": [
    "Below is a description of all arguments in the function `plotLP`:\n",
    "- `LP`: An LP object from PuLP that you would like to visualize.\n",
    "- `x_lower`: The lowest value of x to show in the graph.\n",
    "- `x_upper`: The highest value of x to show in the graph.\n",
    "- `y_lower`: The lowest value of y to show in the graph.\n",
    "- `y_upper`: The highest value of y to show in the graph.\n",
    "- `draw_obj`: A boolean indicating whether to draw the objective function. The default value is `True`.\n",
    "- `show_feasible`: A boolean indicating whether to show the feasible region. The default value is `True`.\n",
    "- `int_prog`: A boolean indicating whether to treat the LP as an integer LP. The default value is `False`.\n",
    "- `grid_pts`: An integer representing the discretized number of points in the xy-grid for continuous variables. The default value is `200`.\n",
    "- `fig_size`: A tuple of integers specifying the size of the plot. The default value is `(6,6)`.\n",
    "\n",
    "You can play around with these arguments, use the function to visualize other LPs, or even check your homework by graphing it out. Have fun!"
   ]
  },
  {
   "cell_type": "code",
   "execution_count": null,
   "id": "b74424e6-dbdb-4eae-851d-50501ea31cb7",
   "metadata": {},
   "outputs": [],
   "source": []
  }
 ],
 "metadata": {
  "kernelspec": {
   "display_name": "Python 3 (ipykernel)",
   "language": "python",
   "name": "python3"
  },
  "language_info": {
   "codemirror_mode": {
    "name": "ipython",
    "version": 3
   },
   "file_extension": ".py",
   "mimetype": "text/x-python",
   "name": "python",
   "nbconvert_exporter": "python",
   "pygments_lexer": "ipython3",
   "version": "3.9.13"
  }
 },
 "nbformat": 4,
 "nbformat_minor": 5
}
