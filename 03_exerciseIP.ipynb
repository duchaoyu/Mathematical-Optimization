{
 "cells": [
  {
   "cell_type": "markdown",
   "id": "d34adc99",
   "metadata": {},
   "source": [
    "# Week 3: Factory Product Planning\n",
    "### Programming Exercise for IP\n",
    "\n",
    "<font color='blue'><b>Goals of this notebook:</b></font>\n",
    "Set up, solve and visualize an integer linear program with `PuLP`.\n",
    "\n",
    "Problem description: A factory with 100 engineers and 180 technicians make products <b>A</b>, <b>B</b>, and <b>C</b>. The value of product <b>A</b> is 10'000 CHF, the value of product <b>B</b> is 12'000 CHF, and the value of product <b>C</b> is 9'000 CHF. In order to make a certain product, the factory must assign personnel to operate a workstation that produces that specific product. The following shows how many personnel of each type are required to operate a single workstation:\n",
    "\n",
    "- workstation for product <b>A</b>: 3 engineers and 10 technicians,\n",
    "- workstation for product <b>B</b>: 5 engineers and 7 technicians,\n",
    "- workstation for product <b>C</b>: 2 engineers and 17 technicians.\n",
    "\n",
    "The number of workstations of each kind are considered unlimited. Each employee can be assigned to operate at most one workstation per day, and each workstation produces exactly one product per day. As an example, if the factory wants to produce two units of product <b>A</b> on a single day, then it must assign two separate sets of personnel to two workstations for product <b>A</b>."
   ]
  },
  {
   "cell_type": "markdown",
   "id": "e33b0a30",
   "metadata": {},
   "source": [
    "## Task 1: Solving the IP: Assigning Workstations\n",
    "\n",
    "Determine how many workstations of each type the factory should operate if they want to maximize the total value of produced products in one day. To do this, write down an <b>Integer Linear Program</b>, then set it up and solve it with `PuLP`."
   ]
  },
  {
   "cell_type": "code",
   "execution_count": null,
   "id": "7f748fbf",
   "metadata": {},
   "outputs": [],
   "source": [
    "# Set up the optimization program\n",
    "import pulp\n",
    "factory_ip = LpProblem(\"The_Easternmost_Point_of_the_House\", LpMaximize)"
   ]
  },
  {
   "cell_type": "markdown",
   "id": "6ec10a0b",
   "metadata": {},
   "source": [
    "*Note: Recall that an integer linear program is obtained by adding integrality constraints of the form “$x \\in \\mathbb{Z}$” to a linear program. In `PuLP`, this is done when setting up variables. In particular, the category of your variables should be `pulp.LpInteger` in this problem.*"
   ]
  },
  {
   "cell_type": "code",
   "execution_count": null,
   "id": "26cf37c6",
   "metadata": {},
   "outputs": [],
   "source": [
    "# Create the variables\n"
   ]
  },
  {
   "cell_type": "code",
   "execution_count": null,
   "id": "d806d5c0",
   "metadata": {},
   "outputs": [],
   "source": [
    "# Add the objective function\n"
   ]
  },
  {
   "cell_type": "code",
   "execution_count": null,
   "id": "a480539f",
   "metadata": {},
   "outputs": [],
   "source": [
    "# Add the constraints\n"
   ]
  },
  {
   "cell_type": "markdown",
   "id": "b170c1a7",
   "metadata": {},
   "source": [
    "*Note: Although the algorithm to solve IPs is very different from LPs, you can still use the same command in `PuLP` to solve them.*"
   ]
  },
  {
   "cell_type": "code",
   "execution_count": null,
   "id": "8052fdfc",
   "metadata": {},
   "outputs": [],
   "source": [
    "# Solve the IP\n"
   ]
  },
  {
   "cell_type": "code",
   "execution_count": null,
   "id": "948e6e83",
   "metadata": {},
   "outputs": [],
   "source": [
    "# Print the optimal value and an optimal solution\n",
    "print(\"The factory should operate:\")\n",
    "for v in factory_ip.variables():\n",
    "    print(f\"  - {v.value():.2f} workstation {v}\")\n",
    "print(f\"The maximized value of all products is {factory_ip.objective.value():.2f}.\")"
   ]
  },
  {
   "cell_type": "markdown",
   "id": "c0f68907",
   "metadata": {},
   "source": [
    "## Task 2: Testing the Integrality Condition\n",
    "\n",
    "Will the optimal solution change if the integrality condition is removed? <br>\n",
    "Please change the category of the variables to continuous, and solve the problem again."
   ]
  },
  {
   "cell_type": "code",
   "execution_count": null,
   "id": "4b98059d",
   "metadata": {},
   "outputs": [],
   "source": [
    "# Change the category of the variables to continuous, and solve the problem again\n",
    "factory_lp = '???'\n",
    "\n"
   ]
  },
  {
   "cell_type": "markdown",
   "id": "9bd0b9c6",
   "metadata": {},
   "source": [
    "## Task 3: Solving the IP: Additional Workers\n",
    "\n",
    "Now, we consider a new problem based on the optimal amount of workstations you found above. The factory owner needs to hire another group of engineers and technicians to perform maintenance work, and they ask us again for our help. Here is what they need:\n",
    "\n",
    "- Each workstation needs at least 1 **engineer** and 1 **technician** to maintain. \n",
    "- Each **technician** can work on 3 workstations of any type at the same time.\n",
    "- Each **engineer** can work on 1 workstation A, 2 workstation B, and 3 workstation C simultaneously.\n",
    "- The salary of an **engineer** is 8'000 CHF, while that of a **technician** is 6'000 CHF. \n",
    "\n",
    "Your task is to write an integer linear program to determine how many engineers and technicians to hire so that they can service all the workstations from Task 1 and that the total salary is minimized. Note that the optimal solution from Task 1 is to operate 5 workstation A, 17 workstation B, and no workstation C."
   ]
  },
  {
   "cell_type": "code",
   "execution_count": null,
   "id": "0f93d7fa",
   "metadata": {},
   "outputs": [],
   "source": [
    "# Write an IP to model and solve this problem\n",
    "worker_ip = '???'\n",
    "\n"
   ]
  },
  {
   "cell_type": "markdown",
   "id": "db3e2312",
   "metadata": {},
   "source": [
    "Sketching out the feasible region is often helpful when solving a mathematical program. To improve our efficiency, we have built a function in `plotLP.py` that can generate such plots automatically. Please download the file from Moodle and save it in the same directory of this workbook. Once you have set up the LP or the IP in PuLP, you can visualize it using the code below."
   ]
  },
  {
   "cell_type": "code",
   "execution_count": null,
   "id": "fe2980ee",
   "metadata": {},
   "outputs": [],
   "source": [
    "# Draw the feasible region of the above program\n",
    "# make sure you have saved plotLP.py in the same directory on your computer\n",
    "%matplotlib inline\n",
    "from plotLP import plotLP  \n",
    "plotLP(worker_ip, x_lower=0, x_upper=20, y_lower=0, y_upper=20,\n",
    "       draw_obj=True, show_feasible=True, int_prog=True, \n",
    "       grid_pts=200, fig_size=(6,6))"
   ]
  },
  {
   "cell_type": "markdown",
   "id": "974f3241",
   "metadata": {},
   "source": [
    "Below is a description of all arguments in the function `plotLP`:\n",
    "- `LP`: An LP object from PuLP that you would like to visualize.\n",
    "- `x_lower`: The lowest value of x to show in the graph.\n",
    "- `x_upper`: The highest value of x to show in the graph.\n",
    "- `y_lower`: The lowest value of y to show in the graph.\n",
    "- `y_upper`: The highest value of y to show in the graph.\n",
    "- `draw_obj`: A boolean indicating whether to draw the objective function. The default value is `True`.\n",
    "- `show_feasible`: A boolean indicating whether to show the feasible region. The default value is `True`.\n",
    "- `int_prog`: A boolean indicating whether to treat the LP as an integer LP. The default value is `False`.\n",
    "- `grid_pts`: An integer representing the discretized number of points in the xy-grid for continuous variables. The default value is `200`.\n",
    "- `fig_size`: A tuple of integers specifying the size of the plot. The default value is `(6,6)`.\n",
    "\n",
    "You can play around with these arguments, use the function to visualize other LPs, or even check your homework by graphing it out. Have fun!"
   ]
  },
  {
   "cell_type": "code",
   "execution_count": null,
   "id": "b74424e6-dbdb-4eae-851d-50501ea31cb7",
   "metadata": {},
   "outputs": [],
   "source": []
  }
 ],
 "metadata": {
  "kernelspec": {
   "display_name": "Python 3 (ipykernel)",
   "language": "python",
   "name": "python3"
  },
  "language_info": {
   "codemirror_mode": {
    "name": "ipython",
    "version": 3
   },
   "file_extension": ".py",
   "mimetype": "text/x-python",
   "name": "python",
   "nbconvert_exporter": "python",
   "pygments_lexer": "ipython3",
   "version": "3.9.13"
  }
 },
 "nbformat": 4,
 "nbformat_minor": 5
}
