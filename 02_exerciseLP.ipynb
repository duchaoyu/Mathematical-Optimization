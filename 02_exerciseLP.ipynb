{
 "cells": [
  {
   "cell_type": "markdown",
   "id": "a2cad624",
   "metadata": {},
   "source": [
    "# Week 2B: Programming Exercise\n",
    "\n",
    "Now that you know the ABCs of using PuLP to solve linear programs, try it with the following two problems you have seen in the exercise class last week to practice even more.\n",
    "\n",
    "<font color='blue'><b>Goals of this notebook:</b></font>\n",
    "\n",
    "1. Work with a basic LP in PuLP: create a model, modify it, and determine if it is feasible.\n",
    "1. Plot the feasible region of an LP using `matplotlib`."
   ]
  },
  {
   "cell_type": "markdown",
   "id": "2d4014b1",
   "metadata": {},
   "source": [
    "## Exercise 1: The Easternmost Point of the House\n",
    "\n",
    "In problem set 1 exercise 2, we saw the optimization problem involving a house and a lodge. The goal was to minimize the Euclidean distance between them. However, that problem is **NOT** a linear program. Can you identify the nonlinear part in the solution of this exercise?\n",
    "\n",
    "We thus change the program to find the easternmost (rightmost) point in the house, which is a linear problem. Here is the model of our problem:\n",
    "\n",
    "$$\n",
    "\\begin{array}{rlcl}\n",
    "\\text{maximize:} & x\t\\\\\n",
    "\\text{subject to:} & 2x+5y &\\leq& 54, \\\\\n",
    "                   & 8x+y  &\\geq& 26,\\\\\n",
    "                   & y     &\\geq& 2,\\\\\n",
    "                   & 2x+y  &\\leq& 22.\n",
    "\\end{array}\n",
    "$$\n",
    "\n",
    "Let's solve it using PuLP following the steps in the introductory notebook. "
   ]
  },
  {
   "cell_type": "markdown",
   "id": "42f9f546",
   "metadata": {},
   "source": [
    "### Task 1: Write a linear program to represent the problem above.\n",
    "As this is your first time using PuLP, we have created a skeleton of the code for you. You only need to fill in the blanks marked with `'???'`."
   ]
  },
  {
   "cell_type": "markdown",
   "id": "2285fabf",
   "metadata": {},
   "source": [
    "#### Step 1: Importing PuLP"
   ]
  },
  {
   "cell_type": "code",
   "execution_count": 1,
   "id": "7c61e1fb",
   "metadata": {},
   "outputs": [],
   "source": [
    "# Import PuLP\n",
    "from pulp import *"
   ]
  },
  {
   "cell_type": "markdown",
   "id": "8f23429d",
   "metadata": {},
   "source": [
    "#### Step 2: Creating an empty linear program"
   ]
  },
  {
   "cell_type": "code",
   "execution_count": 2,
   "id": "75d7d00b",
   "metadata": {},
   "outputs": [],
   "source": [
    "# Create an empty linear program\n",
    "my_LP = LpProblem(\"The_Easternmost_Point_of_the_House\", LpMaximize)"
   ]
  },
  {
   "cell_type": "markdown",
   "id": "774b4c7a",
   "metadata": {},
   "source": [
    "#### Step 3: Adding the variables\n",
    "In this problem, we wish to represent the feasible region of the house. A natural way to do so is to assign two variables for the two coordinates of the x-y plane."
   ]
  },
  {
   "cell_type": "code",
   "execution_count": 3,
   "id": "d92e05eb",
   "metadata": {},
   "outputs": [],
   "source": [
    "# x: x-coordinate; y: y-coordinate\n",
    "x = LpVariable(\"x-coordinate\", lowBound=0)\n",
    "y = LpVariable(\"y-coordinate\", lowBound=0)"
   ]
  },
  {
   "cell_type": "markdown",
   "id": "e24268bb",
   "metadata": {},
   "source": [
    "#### Step 4: Adding the objective function"
   ]
  },
  {
   "cell_type": "code",
   "execution_count": 4,
   "id": "03c017e0",
   "metadata": {},
   "outputs": [],
   "source": [
    "# Find the right-most point of the house\n",
    "my_LP += x"
   ]
  },
  {
   "cell_type": "markdown",
   "id": "36a034bc",
   "metadata": {},
   "source": [
    "#### Step 5: Adding the constraints\n",
    "The feasible region of the linear program needs to represent the area of the house."
   ]
  },
  {
   "cell_type": "code",
   "execution_count": 5,
   "id": "266f6f88",
   "metadata": {},
   "outputs": [],
   "source": [
    "# Add each of the four walls of the house as a separate constraint\n",
    "my_LP += 2 * x + 5 * y <= 54\n",
    "my_LP += 8 * x + y >= 26\n",
    "my_LP += y >= 2\n",
    "my_LP += 2 * x + y <= 22"
   ]
  },
  {
   "cell_type": "markdown",
   "id": "85e56122",
   "metadata": {},
   "source": [
    "#### Step 6: Printing out the linear program and check if it is as desired"
   ]
  },
  {
   "cell_type": "code",
   "execution_count": 6,
   "id": "d2eb7841",
   "metadata": {},
   "outputs": [
    {
     "name": "stdout",
     "output_type": "stream",
     "text": [
      "The_Easternmost_Point_of_the_House:\n",
      "MAXIMIZE\n",
      "1*x_coordinate + 0\n",
      "SUBJECT TO\n",
      "_C1: 2 x_coordinate + 5 y_coordinate <= 54\n",
      "\n",
      "_C2: 8 x_coordinate + y_coordinate >= 26\n",
      "\n",
      "_C3: y_coordinate >= 2\n",
      "\n",
      "_C4: 2 x_coordinate + y_coordinate <= 22\n",
      "\n",
      "VARIABLES\n",
      "x_coordinate Continuous\n",
      "y_coordinate Continuous\n",
      "\n"
     ]
    }
   ],
   "source": [
    "# Print your LP\n",
    "print(my_LP)"
   ]
  },
  {
   "cell_type": "markdown",
   "id": "28945f02",
   "metadata": {},
   "source": [
    "#### Step 7: Solving the linear program and inspecting the solution\n",
    "Does the result match with the graphical solution based on the drawing on the exercise sheet?"
   ]
  },
  {
   "cell_type": "code",
   "execution_count": 7,
   "id": "dd753cb4",
   "metadata": {},
   "outputs": [
    {
     "name": "stdout",
     "output_type": "stream",
     "text": [
      "Welcome to the CBC MILP Solver \n",
      "Version: 2.10.8 \n",
      "Build Date: May  6 2022 \n",
      "\n",
      "command line - cbc /var/folders/wb/nsj1jwbn6pg7v8z5l7scpkw80000gn/T/364f5a3d9eea46118f6b9589cbdab77a-pulp.mps max timeMode elapsed branch printingOptions all solution /var/folders/wb/nsj1jwbn6pg7v8z5l7scpkw80000gn/T/364f5a3d9eea46118f6b9589cbdab77a-pulp.sol (default strategy 1)\n",
      "At line 2 NAME          MODEL\n",
      "At line 3 ROWS\n",
      "At line 9 COLUMNS\n",
      "At line 18 RHS\n",
      "At line 23 BOUNDS\n",
      "At line 24 ENDATA\n",
      "Problem MODEL has 4 rows, 2 columns and 7 elements\n",
      "Coin0008I MODEL read with 0 errors\n",
      "Option for timeMode changed from cpu to elapsed\n",
      "Presolve 3 (-1) rows, 2 (0) columns and 6 (-1) elements\n",
      "0  Obj 1.8999999 Primal inf 1.0999991 (1) Dual inf 0.999999 (1)\n",
      "1  Obj 10\n",
      "Optimal - objective value 10\n",
      "After Postsolve, objective 10, infeasibilities - dual 0 (0), primal 0 (0)\n",
      "Optimal objective 10 - 1 iterations time 0.002, Presolve 0.00\n",
      "Option for printingOptions changed from normal to all\n",
      "Total time (CPU seconds):       0.00   (Wallclock seconds):       0.01\n",
      "\n"
     ]
    },
    {
     "data": {
      "text/plain": [
       "1"
      ]
     },
     "execution_count": 7,
     "metadata": {},
     "output_type": "execute_result"
    }
   ],
   "source": [
    "# Solve the linear program\n",
    "my_LP.solve()"
   ]
  },
  {
   "cell_type": "code",
   "execution_count": 8,
   "id": "6c22bfe1",
   "metadata": {},
   "outputs": [
    {
     "name": "stdout",
     "output_type": "stream",
     "text": [
      "The easternmost point is located at (10.0, 2.0).\n"
     ]
    }
   ],
   "source": [
    "# Find the objective value and the variables values\n",
    "opt_x = x.value()\n",
    "opt_y = y.value()\n",
    "print(f'The easternmost point is located at ({opt_x:.1f}, {opt_y:.1f}).')"
   ]
  },
  {
   "cell_type": "markdown",
   "id": "9e194a3b",
   "metadata": {},
   "source": [
    "### Task 2: Visualize the feasible region of the linear program."
   ]
  },
  {
   "cell_type": "markdown",
   "id": "96b2d9ce",
   "metadata": {},
   "source": [
    "To create figures, we need two additional packages, both of which are included in Anaconda. If you don't use Anaconda, you might need to install them via the command line using `pip`.\n",
    "\n",
    "* `pip install numpy`\n",
    "* `pip install matplotlib`\n",
    "\n",
    "**Numpy** is a package for scientific computing with Python: https://numpy.org.\n",
    "\n",
    "**Matplotlip** is a Python library for plotting: https://matplotlib.org.\n",
    "\n",
    "As an example, suppose that we would like to plot the feasible region on ${(x,y) \\in [0,1]^2}$ with the following three constraints:\n",
    "\n",
    "$$\n",
    "\\begin{array}{rlcl}\n",
    "x+4y &\\leq& 3 \\\\\n",
    "x+y  &\\geq& 1\\\\\n",
    "3x+y &\\leq& 2\n",
    "\\end{array}\n",
    "$$"
   ]
  },
  {
   "cell_type": "markdown",
   "id": "c28112e6",
   "metadata": {},
   "source": [
    "First, we need to load the two packages and set up our environment. `%matplotlib inline` is a command used in Jupyter notebooks to have matplotlib plotting inline, i.e., inside the notebook and not in a new window."
   ]
  },
  {
   "cell_type": "code",
   "execution_count": 9,
   "id": "1362ad7d",
   "metadata": {},
   "outputs": [],
   "source": [
    "import numpy as np\n",
    "import matplotlib.pyplot as plt\n",
    "%matplotlib inline"
   ]
  },
  {
   "cell_type": "markdown",
   "id": "eb7c6e12",
   "metadata": {},
   "source": [
    "Then, we generate our figure in the code section below.\n",
    "\n",
    "*Note: To represent a line numerically, we need discretized points on both axes. For this, we can use `np.linspace(start, stop, num=50)`, which creates a list with evenly spaced numbers over the interval $[\\text{start, stop}]$. `num` represents the number of points between the two endpoints. Similarly, to represent an area numerically, we also need discretized points. This can be done through `np.meshgrid(a1,a2,...,ad)`, which creates a d-dimensional grid from one-dimensional lists `a1, a2, ..., ad`.*\n",
    "\n",
    "*Note:</font> You can check out the details of `plt.plot` and `pyplot.imshow` in the [official documentation](https://matplotlib.org/stable/api/pyplot_summary.html).*"
   ]
  },
  {
   "cell_type": "code",
   "execution_count": 10,
   "id": "69853b14",
   "metadata": {},
   "outputs": [
    {
     "data": {
      "text/plain": [
       "<matplotlib.legend.Legend at 0x12b50fdc0>"
      ]
     },
     "execution_count": 10,
     "metadata": {},
     "output_type": "execute_result"
    },
    {
     "data": {
      "image/png": "[encoded data removed]",
      "text/plain": [
       "<Figure size 600x600 with 1 Axes>"
      ]
     },
     "metadata": {},
     "output_type": "display_data"
    }
   ],
   "source": [
    "### Initialize the plot.\n",
    "plt.figure(figsize=(6, 6)) # create an empty figure\n",
    "\n",
    "\n",
    "### Plot the lines.\n",
    "# create an array of x values between 0 and 1\n",
    "x1 = np.linspace(0, 1, num=200) \n",
    "\n",
    "# create an array of y values for each of the lines defined by the constraints\n",
    "y1 = (1/4)*(3-x1)  # x + 4*y = 3\n",
    "y2 = 1-x1          # x + y = 1\n",
    "y3 = 2-3*x1        # 3*x + y = 2\n",
    "\n",
    "# plot all three lines using plt.plot(x,y)\n",
    "plt.plot(x1, y1, label='$x+4y \\leq 3$')\n",
    "plt.plot(x1, y2, label='$x+y \\geq 1$' )\n",
    "plt.plot(x1, y3, label='$3x+y \\leq 2$')\n",
    "\n",
    "\n",
    "### Plot the feasible region.\n",
    "# create a grid of x and y values between 0 and 1\n",
    "x, y = np.meshgrid(x1, x1)\n",
    "\n",
    "# display data as an image using plt.imshow()\n",
    "plt.imshow(\n",
    "    ((x+4*y<=3) & (x+y>=1) & (3*x+y<=2)).astype(int),          # data points for the image\n",
    "    extent=(x.min(),x.max(),y.min(),y.max()), origin=\"lower\",  # controls the location of the image \n",
    "    cmap=\"Greys\", alpha = 0.3)                                 # controls the colour of the image\n",
    "\n",
    "\n",
    "### Format the graph.\n",
    "# set the min and max values of x and y along the axes\n",
    "plt.xlim(0,1); plt.ylim(0,1)\n",
    "\n",
    "# add axis labels\n",
    "plt.xlabel('$x$'); plt.ylabel('$y$')\n",
    "\n",
    "# add the legend on the upper right corner of the graph\n",
    "plt.legend(loc='upper right')"
   ]
  },
  {
   "cell_type": "markdown",
   "id": "f7ba441f",
   "metadata": {},
   "source": [
    "Now, time to try it with the feasible region of the house. Recall that the equation of the four walls of the house is as follows: \n",
    "$$\n",
    "\\begin{array}{rlcl}\n",
    "2x+5y &\\leq& 54 \\\\\n",
    "8x+y  &\\geq& 26\\\\\n",
    "y     &\\geq& 2\\\\\n",
    "2x+y  &\\leq& 22\n",
    "\\end{array}\n",
    "$$\n",
    "\n",
    "*Hint: To plot the line $y=2$, commands like `y = 2` followed by `plt.plot(x,y)` will not work because `x` and `y` are not of the same length. You may use `y = 2 + 0 * x` instead.*\n",
    "\n",
    "*Hint: You can use the following maximum and minimum values for `x` and `y` along the axes: `plt.xlim(0,11); plt.ylim(0,11)`.*"
   ]
  },
  {
   "cell_type": "code",
   "execution_count": 11,
   "id": "ccc1ec58",
   "metadata": {},
   "outputs": [
    {
     "data": {
      "text/plain": [
       "<matplotlib.legend.Legend at 0x12b7d0130>"
      ]
     },
     "execution_count": 11,
     "metadata": {},
     "output_type": "execute_result"
    },
    {
     "data": {
      "image/png": "[encoded data removed]",
      "text/plain": [
       "<Figure size 600x600 with 1 Axes>"
      ]
     },
     "metadata": {},
     "output_type": "display_data"
    }
   ],
   "source": [
    "### Initialize the plot\n",
    "plt.figure(figsize=(6, 6)) # create an empty figure\n",
    "\n",
    "\n",
    "### Plot the lines\n",
    "# Create a list of x values between 0 and 11\n",
    "upper = 14\n",
    "x1 = np.linspace(0, upper, num=200) \n",
    "\n",
    "# Create a list of y values for each of the lines defined by the constraints\n",
    "y1 = (1/5) * (54 - (2*x1))  # 2*x + 5*y = 54\n",
    "y2 = 26 - (8 * x1)          # 8*x + y = 26\n",
    "y3 = 2 + (0 * x1)        # y >= 2\n",
    "y4 = 22 - (2*x1)  # 2*x + y <= 22\n",
    "\n",
    "# Plot all three lines using plt.plot(x,y)\n",
    "plt.plot(x1, y1, label='$2x+5y \\leq 3$')\n",
    "plt.plot(x1, y2, label='$8x+y \\geq 1$' )\n",
    "plt.plot(x1, y3, label='$y \\leq 2$')\n",
    "plt.plot(x1, y4, label='$2x+y \\leq 2$')\n",
    "\n",
    "### Plot the feasible region\n",
    "# Create a grid of x and y values between 0 and 1\n",
    "x, y = np.meshgrid(x1, x1)\n",
    "\n",
    "# Display data as an image using plt.imshow()\n",
    "\n",
    "plt.imshow(\n",
    "    ((2*x+5*y<=54) & (8*x+y>=26) & (y>=2) & (2*x+y<=22)).astype(int),          # data points for the image\n",
    "    extent=(x.min(),x.max(),y.min(),y.max()), origin=\"lower\",  # controls the location of the image \n",
    "    cmap=\"Greys\", alpha = 0.3)                                 # controls the colour of the image\n",
    "\n",
    "### Format the graph\n",
    "# Set the min and max values of x and y along the axes\n",
    "plt.xlim(0,upper); plt.ylim(0,upper)\n",
    "\n",
    "# Add axis labels\n",
    "plt.xlabel('$x$'); plt.ylabel('$y$')\n",
    "\n",
    "# Add the legend on the upper right corner of the graph\n",
    "plt.legend(loc='upper right')"
   ]
  },
  {
   "cell_type": "markdown",
   "id": "82554e28",
   "metadata": {},
   "source": [
    "## Exercise 2: the Perfect Breakfast"
   ]
  },
  {
   "cell_type": "markdown",
   "id": "90115203",
   "metadata": {},
   "source": [
    "### Task 1: Model the problem in PuLP. \n",
    "\n",
    "Recall that we have modelled the exercise 1 in problem set 1 as:\n",
    "$$\n",
    "\\begin{array}{rrcrcl}\n",
    "\\text{maximize:}   &   9 x  +  12 y               \\\\\n",
    "\\text{subject to:} &     x          & \\leq & 5,   \\\\\n",
    "                   & 200 x  +  50 y & \\geq & 400, \\\\\n",
    "                   &   6 x  +   7 y & \\leq & 42,  \\\\\n",
    "                   &     x  ,     y & \\geq & 0.   \\\\\n",
    "\\end{array}\n",
    "$$\n",
    "\n",
    "Let's implement it in PuLP. You have already seen and experimented with LPs using PuLP, so we will not provide any code skeleton this time. What is the objective value (i.e., the optimal amount of protein)? What combination of cereals A and B do you need to reach the objective value?"
   ]
  },
  {
   "cell_type": "code",
   "execution_count": 12,
   "id": "6d447333",
   "metadata": {
    "tags": []
   },
   "outputs": [
    {
     "name": "stdout",
     "output_type": "stream",
     "text": [
      "the_Perfect_Breakfast:\n",
      "MAXIMIZE\n",
      "9*Cereal_A + 12*Cereal_B + 0\n",
      "SUBJECT TO\n",
      "_C1: Cereal_A <= 5\n",
      "\n",
      "_C2: 200 Cereal_A + 50 Cereal_B >= 400\n",
      "\n",
      "_C3: 6 Cereal_A + 7 Cereal_B <= 42\n",
      "\n",
      "_C4: Cereal_A >= 0\n",
      "\n",
      "_C5: Cereal_B >= 0\n",
      "\n",
      "VARIABLES\n",
      "Cereal_A Continuous\n",
      "Cereal_B Continuous\n",
      "\n"
     ]
    }
   ],
   "source": [
    "# Try to do it from scratch yourself.\n",
    "my_LP = LpProblem(\"the_Perfect_Breakfast\", LpMaximize)\n",
    "\n",
    "# variables\n",
    "x = LpVariable(\"Cereal_A\", lowBound=0)\n",
    "y = LpVariable(\"Cereal_B\", lowBound=0)\n",
    "\n",
    "# objective\n",
    "my_LP += 9 * x + 12 * y\n",
    "\n",
    "# constraints\n",
    "my_LP += x <= 5\n",
    "my_LP += 200 * x + 50 * y >= 400\n",
    "my_LP += 6*x + 7 * y <= 42\n",
    "my_LP += x >= 0\n",
    "my_LP += y >= 0\n",
    "\n",
    "print(my_LP)"
   ]
  },
  {
   "cell_type": "code",
   "execution_count": 13,
   "id": "d1305578-cd8c-4cdb-be99-e4632bcc5c8f",
   "metadata": {},
   "outputs": [
    {
     "name": "stdout",
     "output_type": "stream",
     "text": [
      "Welcome to the CBC MILP Solver \n",
      "Version: 2.10.8 \n",
      "Build Date: May  6 2022 \n",
      "\n",
      "command line - cbc /var/folders/wb/nsj1jwbn6pg7v8z5l7scpkw80000gn/T/2ce2caa230854177b76e84869aaa8150-pulp.mps max timeMode elapsed branch printingOptions all solution /var/folders/wb/nsj1jwbn6pg7v8z5l7scpkw80000gn/T/2ce2caa230854177b76e84869aaa8150-pulp.sol (default strategy 1)\n",
      "At line 2 NAME          MODEL\n",
      "At line 3 ROWS\n",
      "At line 10 COLUMNS\n",
      "At line 20 RHS\n",
      "At line 26 BOUNDS\n",
      "At line 27 ENDATA\n",
      "Problem MODEL has 5 rows, 2 columns and 7 elements\n",
      "Coin0008I MODEL read with 0 errors\n",
      "Option for timeMode changed from cpu to elapsed\n",
      "Presolve 0 (-5) rows, 0 (-2) columns and 0 (-7) elements\n",
      "Empty problem - 0 rows, 0 columns and 0 elements\n",
      "Optimal - objective value 71.181818\n",
      "After Postsolve, objective 71.181818, infeasibilities - dual 0 (0), primal 0 (0)\n",
      "Optimal objective 71.18181818 - 0 iterations time 0.002, Presolve 0.00\n",
      "Option for printingOptions changed from normal to all\n",
      "Total time (CPU seconds):       0.00   (Wallclock seconds):       0.00\n",
      "\n"
     ]
    },
    {
     "data": {
      "text/plain": [
       "1"
      ]
     },
     "execution_count": 13,
     "metadata": {},
     "output_type": "execute_result"
    }
   ],
   "source": [
    "# solve\n",
    "my_LP.solve()"
   ]
  },
  {
   "cell_type": "code",
   "execution_count": 14,
   "id": "82d53bd1-bc84-4c53-a2b4-c7b2466e289a",
   "metadata": {},
   "outputs": [
    {
     "name": "stdout",
     "output_type": "stream",
     "text": [
      "The amount of Cereal A and B are (0.6, 5.5).\n"
     ]
    }
   ],
   "source": [
    "# get the values\n",
    "opt_x = x.value()\n",
    "opt_y = y.value()\n",
    "\n",
    "print(f'The amount of Cereal A and B are ({opt_x:.1f}, {opt_y:.1f}).')"
   ]
  },
  {
   "cell_type": "markdown",
   "id": "458dfc5a",
   "metadata": {},
   "source": [
    "### Task 2: Change a constraint.\n",
    "Now you already know the basics for solving a linear program in PuLP. It's time to take it to the next level. \n",
    "\n",
    "Suppose this morning, you feel that it's time to spoil yourself and don't want to care how much sugar you take. That is, you'd like to delete the constraint corresponding to the amount of sugar. Update your linear program accordingly. \n",
    "\n",
    "*Hint: It will be convenient if you don't have to rewrite everything. Fortunately, PuLP has a built-in function called `del` for you to delete certain constraints. It works as `del name_of_lp.constraints['name_of_constraint_to_delete']`.\n",
    "Try it!*\n"
   ]
  },
  {
   "cell_type": "code",
   "execution_count": 15,
   "id": "7125204a",
   "metadata": {},
   "outputs": [],
   "source": [
    "# Delete the constraint corresponding to sugar. \n",
    "del my_LP.constraints['_C3']"
   ]
  },
  {
   "cell_type": "markdown",
   "id": "9d01adfe",
   "metadata": {},
   "source": [
    "Print your LP again to see whether you have succeeded."
   ]
  },
  {
   "cell_type": "code",
   "execution_count": 16,
   "id": "6b88e514",
   "metadata": {},
   "outputs": [
    {
     "name": "stdout",
     "output_type": "stream",
     "text": [
      "the_Perfect_Breakfast:\n",
      "MAXIMIZE\n",
      "9*Cereal_A + 12*Cereal_B + 0\n",
      "SUBJECT TO\n",
      "_C1: Cereal_A <= 5\n",
      "\n",
      "_C2: 200 Cereal_A + 50 Cereal_B >= 400\n",
      "\n",
      "_C4: Cereal_A >= 0\n",
      "\n",
      "_C5: Cereal_B >= 0\n",
      "\n",
      "VARIABLES\n",
      "Cereal_A Continuous\n",
      "Cereal_B Continuous\n",
      "\n"
     ]
    }
   ],
   "source": [
    "# Print your LP.\n",
    "print(my_LP)"
   ]
  },
  {
   "cell_type": "markdown",
   "id": "5b9426ad",
   "metadata": {},
   "source": [
    "Solve the updated linear program. What is the status of the linear program now? Is it optimized, unbounded or infeasible?"
   ]
  },
  {
   "cell_type": "code",
   "execution_count": 17,
   "id": "46b46dc0",
   "metadata": {},
   "outputs": [
    {
     "name": "stdout",
     "output_type": "stream",
     "text": [
      "Welcome to the CBC MILP Solver \n",
      "Version: 2.10.8 \n",
      "Build Date: May  6 2022 \n",
      "\n",
      "command line - cbc /var/folders/wb/nsj1jwbn6pg7v8z5l7scpkw80000gn/T/1e5edb7b44db469682e3d856db287b57-pulp.mps max timeMode elapsed branch printingOptions all solution /var/folders/wb/nsj1jwbn6pg7v8z5l7scpkw80000gn/T/1e5edb7b44db469682e3d856db287b57-pulp.sol (default strategy 1)\n",
      "At line 2 NAME          MODEL\n",
      "At line 3 ROWS\n",
      "At line 9 COLUMNS\n",
      "At line 17 RHS\n",
      "At line 22 BOUNDS\n",
      "At line 23 ENDATA\n",
      "Problem MODEL has 4 rows, 2 columns and 5 elements\n",
      "Coin0008I MODEL read with 0 errors\n",
      "Option for timeMode changed from cpu to elapsed\n",
      "Presolve thinks problem is unbounded\n",
      "Analysis indicates model infeasible or unbounded\n",
      "0  Obj -0 Primal inf 3.9999999 (1) Dual inf 21.470563 (2)\n",
      "0  Obj -0 Primal inf 3.9999999 (1) Dual inf 1.7071068e+10 (2)\n",
      "1  Obj 45 Dual inf 16.970563 (1)\n",
      "1  Obj 45 Dual inf 16.970563 (1)\n",
      "Dual infeasible - objective value 45\n",
      "DualInfeasible objective 45 - 1 iterations time 0.002\n",
      "\n",
      "Result - Linear relaxation unbounded\n",
      "\n",
      "Enumerated nodes:           0\n",
      "Total iterations:           0\n",
      "Time (CPU seconds):         0.00\n",
      "Time (Wallclock Seconds):   0.00\n",
      "\n",
      "Option for printingOptions changed from normal to all\n",
      "Total time (CPU seconds):       0.00   (Wallclock seconds):       0.00\n",
      "\n"
     ]
    },
    {
     "data": {
      "text/plain": [
       "'\\n-2, unbounded.\\n'"
      ]
     },
     "execution_count": 17,
     "metadata": {},
     "output_type": "execute_result"
    }
   ],
   "source": [
    "# Solve your LP.\n",
    "my_LP.solve()\n",
    "\n",
    "\"\"\"\n",
    "-2, unbounded.\n",
    "\"\"\""
   ]
  },
  {
   "cell_type": "markdown",
   "id": "86252691",
   "metadata": {},
   "source": [
    "What about other handy tools that you can think of? For example, you may want to change a constraint. Do you have to delete the constraint and then add it again? Are there easier ways? Play with PuLP and search the documentation to find it out! \n",
    "\n",
    "As a concrete example, you may want to increase your energy consumed to at least 1400 while still having the sugar constraint. How can you modify your linear program? Solve it and see what the status of this LP is."
   ]
  },
  {
   "cell_type": "code",
   "execution_count": 20,
   "id": "880bf6a5",
   "metadata": {},
   "outputs": [
    {
     "name": "stdout",
     "output_type": "stream",
     "text": [
      "the_Perfect_Breakfast:\n",
      "MAXIMIZE\n",
      "9*Cereal_A + 12*Cereal_B + 0\n",
      "SUBJECT TO\n",
      "_C1: Cereal_A <= 5\n",
      "\n",
      "_C2: 200 Cereal_A + 50 Cereal_B >= 1400\n",
      "\n",
      "_C4: Cereal_A >= 0\n",
      "\n",
      "_C5: Cereal_B >= 0\n",
      "\n",
      "VARIABLES\n",
      "Cereal_A Continuous\n",
      "Cereal_B Continuous\n",
      "\n",
      "Welcome to the CBC MILP Solver \n",
      "Version: 2.10.8 \n",
      "Build Date: May  6 2022 \n",
      "\n",
      "command line - cbc /var/folders/wb/nsj1jwbn6pg7v8z5l7scpkw80000gn/T/e2c6addb61db434da2fc55f9f1a8e3f9-pulp.mps max timeMode elapsed branch printingOptions all solution /var/folders/wb/nsj1jwbn6pg7v8z5l7scpkw80000gn/T/e2c6addb61db434da2fc55f9f1a8e3f9-pulp.sol (default strategy 1)\n",
      "At line 2 NAME          MODEL\n",
      "At line 3 ROWS\n",
      "At line 9 COLUMNS\n",
      "At line 17 RHS\n",
      "At line 22 BOUNDS\n",
      "At line 23 ENDATA\n",
      "Problem MODEL has 4 rows, 2 columns and 5 elements\n",
      "Coin0008I MODEL read with 0 errors\n",
      "Option for timeMode changed from cpu to elapsed\n",
      "Presolve thinks problem is unbounded\n",
      "Analysis indicates model infeasible or unbounded\n",
      "0  Obj -0 Primal inf 14 (1) Dual inf 21.470563 (2)\n",
      "0  Obj -0 Primal inf 14 (1) Dual inf 1.7071068e+10 (2)\n",
      "2  Obj 336 Dual inf 24 (1)\n",
      "2  Obj 336 Dual inf 24 (1)\n",
      "Dual infeasible - objective value 336\n",
      "DualInfeasible objective 336 - 2 iterations time 0.002\n",
      "\n",
      "Result - Linear relaxation unbounded\n",
      "\n",
      "Enumerated nodes:           0\n",
      "Total iterations:           0\n",
      "Time (CPU seconds):         0.00\n",
      "Time (Wallclock Seconds):   0.02\n",
      "\n",
      "Option for printingOptions changed from normal to all\n",
      "Total time (CPU seconds):       0.00   (Wallclock seconds):       0.02\n",
      "\n"
     ]
    },
    {
     "data": {
      "text/plain": [
       "-2"
      ]
     },
     "execution_count": 20,
     "metadata": {},
     "output_type": "execute_result"
    }
   ],
   "source": [
    "# Change the constraint of energy from 400 to 1400, solve the LP and check the status.\n",
    "my_LP.constraints['_C2']= 200 * x + 50 * y >= 1400\n",
    "print(my_LP)\n",
    "my_LP.solve()"
   ]
  },
  {
   "cell_type": "code",
   "execution_count": 19,
   "id": "01e5e526",
   "metadata": {},
   "outputs": [],
   "source": [
    "# Now play in PuLP and explore different functions. Have fun!"
   ]
  },
  {
   "cell_type": "code",
   "execution_count": null,
   "id": "4a9e6647-cd09-45cb-9ae9-b889f7a6ca7d",
   "metadata": {},
   "outputs": [],
   "source": [
    "# set integer variable\n",
    "# y = LpVariable('y', upBound = 5, cat='Integer')"
   ]
  }
 ],
 "metadata": {
  "kernelspec": {
   "display_name": "Python 3 (ipykernel)",
   "language": "python",
   "name": "python3"
  },
  "language_info": {
   "codemirror_mode": {
    "name": "ipython",
    "version": 3
   },
   "file_extension": ".py",
   "mimetype": "text/x-python",
   "name": "python",
   "nbconvert_exporter": "python",
   "pygments_lexer": "ipython3",
   "version": "3.9.13"
  }
 },
 "nbformat": 4,
 "nbformat_minor": 5
}
