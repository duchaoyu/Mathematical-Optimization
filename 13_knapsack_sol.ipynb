{
 "cells": [
  {
   "cell_type": "markdown",
   "metadata": {},
   "source": [
    "# Week 14: Solution to Gift Picking for Santa\n",
    "\n",
    "<font color='blue'><b>Goals of this notebook:</b></font> Solve the Knapsack problem using dynamic programming and PuLP.\n",
    "\n",
    "2021 is coming to an end, and Santa is getting ready for Christmas. He realized that the elves made too many presents this year, and he could not take all of them on his sleigh at once. Therefore, Santa needs to choose the gifts carefully so that the sleigh is not too heavy for his reindeer to pull around. At the same time, Santa would like to bring as much happiness as possible to the world. Santa asks for your help with this task.\n",
    "\n",
    "The table below shows the details of all gifts in Santa's house, including their weight and the amount of happiness they bring to the world. Your task is to choose a set of gifts such that:\n",
    "- the combined weight is below 250 kg, which is the weight limit of the sleigh, and\n",
    "- the total happiness is maximized.\n",
    "\n",
    "Don't worry about the remaining gifts. They will be delivered by other means! ;)\n",
    "\n",
    "<table class=\"center\">\n",
    "    <tr>\n",
    "        <th style=\"text-align:center\">Item </th>\n",
    "        <th style=\"text-align:center\">Weight (kg)</th>\n",
    "        <th style=\"text-align:center\">Happiness </th>\n",
    "        <th style=\"text-align:center\">Quantity </th>\n",
    "    </tr>\n",
    "    <tr>\n",
    "        <td style=\"text-align:center\">Teddy Bear</td>\n",
    "        <td style=\"text-align:center\">0.5</td>\n",
    "        <td style=\"text-align:center\">7</td>\n",
    "        <td style=\"text-align:center\">90</td>\n",
    "    </tr>\n",
    "    <tr>\n",
    "        <td style=\"text-align:center\">LEGO Saturn V Rocket</td>\n",
    "        <td style=\"text-align:center\">2.5</td>\n",
    "        <td style=\"text-align:center\">32</td>\n",
    "        <td style=\"text-align:center\">20</td>\n",
    "    </tr>\n",
    "    <tr>\n",
    "        <td style=\"text-align:center\">Mountain Bike</td>\n",
    "        <td style=\"text-align:center\">16.5</td>\n",
    "        <td style=\"text-align:center\">230</td>\n",
    "        <td style=\"text-align:center\">6</td>\n",
    "    </tr>\n",
    "    <tr>\n",
    "        <td style=\"text-align:center\">LEGO Mindstorms RobotKit</td>\n",
    "        <td style=\"text-align:center\">2</td>\n",
    "        <td style=\"text-align:center\">28</td>\n",
    "        <td style=\"text-align:center\">20</td>\n",
    "    </tr>\n",
    "    <tr>\n",
    "        <td style=\"text-align:center\">Barbie Malibu House</td>\n",
    "        <td style=\"text-align:center\">5</td>\n",
    "        <td style=\"text-align:center\">70</td>\n",
    "        <td style=\"text-align:center\">10</td>\n",
    "    </tr>\n",
    "    <tr>\n",
    "        <td style=\"text-align:center\">Playmobil RC Freight Train</td>\n",
    "        <td style=\"text-align:center\">4</td>\n",
    "        <td style=\"text-align:center\">50</td>\n",
    "        <td style=\"text-align:center\">15</td>\n",
    "    </tr>\n",
    "</table>"
   ]
  },
  {
   "cell_type": "markdown",
   "metadata": {},
   "source": [
    "## Task 1: DP Solution\n",
    "\n",
    "<b>Your task:</b> Solve the problem using dynamic programming. There are three subtasks below for you to solve, and a hint is provided under each subtask.\n"
   ]
  },
  {
   "cell_type": "code",
   "execution_count": 1,
   "metadata": {},
   "outputs": [],
   "source": [
    "import numpy as np\n",
    "\n",
    "gifts = {\"Teddy Bear\" :                 [ 0.5,   7, 90, 0],\n",
    "         \"LEGO Saturn V Rocket\" :       [ 2.5,  32, 20, 0],\n",
    "         \"Mountain Bike\" :              [16.5, 230,  6, 0],\n",
    "         \"LEGO Mindstorms RobotKit\" :   [   2,  28, 20, 0],\n",
    "         \"Barbie Malibu House\" :        [   5,  70, 10, 0],\n",
    "         \"Playmobil RC Freight Train\" : [   4,  50, 15, 0]\n",
    "}\n",
    "\n",
    "# Subtask #1: Convert the dictionary of gifts to a list of gift names, happiness values and weights\n",
    "# Hint: You can double the gift weights and the weight limit to get integer values.\n",
    "\n",
    "names = []   # Initialize the list of names for each gift\n",
    "values = []  # Initialize the list of happiness values for each gift\n",
    "weights = [] # Initialize the list of weights for each gift\n",
    "n_items = 0  # Initialize the total number of gifts that we can choose from\n",
    "\n",
    "for gift_type in gifts:\n",
    "    gift_info = gifts[gift_type]\n",
    "    for gift_ind in range(gift_info[2]):\n",
    "        names.append(gift_type)\n",
    "        values.append(gift_info[1])\n",
    "        weights.append(int(2*gift_info[0]))\n",
    "    n_items += gift_info[2]\n"
   ]
  },
  {
   "cell_type": "code",
   "execution_count": 2,
   "metadata": {},
   "outputs": [],
   "source": [
    "# Subtask #2: Implement the Knapsack function\n",
    "# Hint: Use another table to track whether to pick an item in the optimal solution.\n",
    "\n",
    "def knapsack_dp(values, weights, n_items, capacity, return_all=False):\n",
    "    ''' Solves the knapsack problem using Dynamic Programming \n",
    "    \n",
    "    Args:\n",
    "        values: A list containing the value of each item\n",
    "        weights: A list containing the weight of each item\n",
    "        n_items: An integer specifying the total number of items \n",
    "        capacity: An integer specifying the total capacity\n",
    "        return_all: A boolean indicating whether to return max_val\n",
    "            in addition to picks. Default to False.\n",
    "        \n",
    "    Returns:\n",
    "        picks: A list of indices corresponding to the items to pick in\n",
    "            the optimal solution.\n",
    "        max_val: A number representing the max value of the opt. sol.\n",
    "        \n",
    "    '''\n",
    "    \n",
    "    table = np.zeros((n_items+1, capacity+1), dtype=np.float32)\n",
    "    keep = np.zeros((n_items+1, capacity+1), dtype=np.float32)\n",
    "    \n",
    "    for i in range(1, n_items+1):\n",
    "        for w in range(0, capacity+1):\n",
    "            wi = weights[i-1] # weight of the current item\n",
    "            vi = values[i-1]  # value of the current item\n",
    "            if (wi <= w) and (vi + table[i-1,w-wi] > table[i-1,w]):\n",
    "                table[i,w] = vi + table[i-1,w-wi]\n",
    "                keep[i,w] = 1\n",
    "            else:\n",
    "                table[i,w] = table[i-1,w]\n",
    "    \n",
    "    picks = []\n",
    "    C = capacity\n",
    "    for i in range(n_items, 0,-1):\n",
    "        if keep[i,C] == 1:\n",
    "            picks.append(i-1) # -1 due to the first row of 0\n",
    "            C -= weights[i-1]\n",
    "    picks.sort()\n",
    "    \n",
    "    if return_all:\n",
    "        max_val = table[n_items, capacity]\n",
    "        return picks, max_val\n",
    "    \n",
    "    return picks\n"
   ]
  },
  {
   "cell_type": "code",
   "execution_count": 3,
   "metadata": {},
   "outputs": [
    {
     "name": "stdout",
     "output_type": "stream",
     "text": [
      "Santa has to pack:\n",
      " * Teddy Bear: 87\n",
      " * LEGO Saturn V Rocket: 7\n",
      " * Mountain Bike: 6\n",
      " * LEGO Mindstorms RobotKit: 20\n",
      " * Barbie Malibu House: 10\n",
      "The total value of happiness is 3473.0.\n"
     ]
    }
   ],
   "source": [
    "# Subtask #3: Convert the picks back to the number of items to take for each type\n",
    "# Hint: You may find a dictionary helpful for tracking the number of items.\n",
    "\n",
    "# Capacity or Weight allowed (again doubled preserve the right result)\n",
    "W = 500\n",
    "\n",
    "# Run knapsack_dp()\n",
    "picks, max_val = knapsack_dp(values, weights, n_items, W, return_all = True)\n",
    "\n",
    "# Convert the picks back to the number of items to take\n",
    "picked_gifts = {}\n",
    "for pick_ind in picks:\n",
    "    gift_name = names[pick_ind]\n",
    "    if gift_name in picked_gifts:\n",
    "        picked_gifts[gift_name] += 1\n",
    "    else:\n",
    "        picked_gifts[gift_name] = 1\n",
    "\n",
    "# Print the results\n",
    "print(\"Santa has to pack:\")\n",
    "for picked_gift in picked_gifts:\n",
    "    print(\" * \" + picked_gift + \": \" + str(picked_gifts[picked_gift]))\n",
    "print(\"The total value of happiness is \" + str(max_val) + \".\")\n"
   ]
  },
  {
   "cell_type": "markdown",
   "metadata": {},
   "source": [
    "## Task 2: IP Solution\n",
    "\n",
    "<b>Your task:</b> Solve the problem with `PuLP` by creating and solving an integer linear program."
   ]
  },
  {
   "cell_type": "code",
   "execution_count": 4,
   "metadata": {},
   "outputs": [
    {
     "name": "stdout",
     "output_type": "stream",
     "text": [
      "Santa has to pack:\n",
      " * Teddy Bear: 87.0\n",
      " * LEGO Saturn V Rocket: 7.0\n",
      " * Mountain Bike: 6.0\n",
      " * LEGO Mindstorms RobotKit: 20.0\n",
      " * Barbie Malibu House: 10.0\n",
      " * Playmobil RC Freight Train: 0.0\n",
      "The total value of happiness is 3473.0.\n"
     ]
    }
   ],
   "source": [
    "import pulp\n",
    "\n",
    "# Initialize the IP\n",
    "santa_ip = pulp.LpProblem(\"Knapsack_IP\", pulp.LpMaximize)\n",
    "\n",
    "# Define the variable\n",
    "variables = pulp.LpVariable.dicts(\"Number_of\", (gift_type for gift_type in gifts.keys()),\n",
    "                                  lowBound=0, upBound=100, cat=pulp.LpInteger)\n",
    "\n",
    "# Update the upper bound value to the correct ones\n",
    "for gift in gifts.items():\n",
    "    variables[gift[0]].upBound = gift[1][2]\n",
    "    \n",
    "# Specify the objective function\n",
    "santa_ip += pulp.lpSum([gift[1][1] * variables[gift[0]] for gift in gifts.items()])\n",
    "\n",
    "# Specify the constraint\n",
    "santa_ip += pulp.lpSum([gift[1][0] * variables[gift[0]] for gift in gifts.items()]) <=250\n",
    "\n",
    "# Solve the IP\n",
    "santa_ip.solve()\n",
    "\n",
    "# Print the results\n",
    "print(\"Santa has to pack:\")\n",
    "for gift in gifts.items():\n",
    "    print(\" * \" + gift[0] + \": \" + str(variables[gift[0]].value()))\n",
    "print(\"The total value of happiness is \" + str(santa_ip.objective.value()) + \".\")\n"
   ]
  },
  {
   "cell_type": "markdown",
   "metadata": {},
   "source": [
    "## Task 3: LP Solution (No Integrality Constraints)\n",
    "\n",
    "<b>Your task:</b> Santa tells you that he can now take a fractional amount of a gift on his sleigh! Remove the integrality constraints from the IP you created in Task 2 and solve the resulting LP."
   ]
  },
  {
   "cell_type": "code",
   "execution_count": 5,
   "metadata": {},
   "outputs": [
    {
     "name": "stdout",
     "output_type": "stream",
     "text": [
      "Santa has to pack:\n",
      " * Teddy Bear: 90.0\n",
      " * LEGO Saturn V Rocket: 6.4\n",
      " * Mountain Bike: 6.0\n",
      " * LEGO Mindstorms RobotKit: 20.0\n",
      " * Barbie Malibu House: 10.0\n",
      " * Playmobil RC Freight Train: 0.0\n",
      "The total value of happiness is 3474.8.\n"
     ]
    }
   ],
   "source": [
    "# Initialize the LP\n",
    "santa_lp = pulp.LpProblem(\"Knapsack_LP\", pulp.LpMaximize)\n",
    "\n",
    "# Define the variable\n",
    "variables = pulp.LpVariable.dicts(\"Number_of\", (gift_type for gift_type in gifts.keys()),\n",
    "                             lowBound=0, upBound=100, cat=pulp.LpContinuous)\n",
    "\n",
    "# Update the upper bound value to the correct ones\n",
    "for gift in gifts.items():\n",
    "    variables[gift[0]].upBound = gift[1][2]\n",
    "    \n",
    "# Specify the objective function\n",
    "santa_lp += pulp.lpSum([gift[1][1] * variables[gift[0]] for gift in gifts.items()])\n",
    "\n",
    "# Specify the constraint\n",
    "santa_lp += pulp.lpSum([gift[1][0] * variables[gift[0]] for gift in gifts.items()]) <=250\n",
    "\n",
    "# Solve the LP\n",
    "santa_lp.solve()\n",
    "\n",
    "# Print the results\n",
    "print(\"Santa has to pack:\")\n",
    "for gift in gifts.items():\n",
    "    print(\" * \" + gift[0] + \": \" + str(variables[gift[0]].value()))\n",
    "print(\"The total value of happiness is \" + str(santa_lp.objective.value()) + \".\")\n"
   ]
  },
  {
   "cell_type": "markdown",
   "metadata": {},
   "source": [
    "Can you obtain the optimal solution to the LP via manual calculation without using `PuLP`? <br><br>\n",
    "\n",
    "<font color='blue'>\n",
    "    <b>Solution:</b> Since the gifts can now be packed fractionally, Santa should always take the gift with a higher ratio of happiness to weight (\"hw-ratio\") over the ones with a lower ratio. Therefore, we can obtain the optimal solution to the LP as follows:\n",
    "\n",
    "1. Compute the hw-ratio for every gift.\n",
    "2. Pack all gifts in the order of decreasing hw-ratio as long as we don't exceed the weight limit.\n",
    "3. If taking the last gift would exceed the weight limit, take a fraction of it that would get us exactly to the weight limit.\n",
    "\n",
    "This solution is optimal because Santa could not replace any gift with a higher hw-ratio to increase the total happiness value.\n",
    "</font>"
   ]
  },
  {
   "cell_type": "code",
   "execution_count": null,
   "metadata": {},
   "outputs": [],
   "source": []
  }
 ],
 "metadata": {
  "kernelspec": {
   "display_name": "Python 3 (ipykernel)",
   "language": "python",
   "name": "python3"
  },
  "language_info": {
   "codemirror_mode": {
    "name": "ipython",
    "version": 3
   },
   "file_extension": ".py",
   "mimetype": "text/x-python",
   "name": "python",
   "nbconvert_exporter": "python",
   "pygments_lexer": "ipython3",
   "version": "3.8.13"
  }
 },
 "nbformat": 4,
 "nbformat_minor": 4
}
