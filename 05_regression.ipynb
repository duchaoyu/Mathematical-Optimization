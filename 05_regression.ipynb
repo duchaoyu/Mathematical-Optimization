{
 "cells": [
  {
   "cell_type": "markdown",
   "id": "5d48c41b-ab41-442d-b717-fda0afbe4712",
   "metadata": {},
   "source": [
    "# Week 5A: $\\ell_1$ Regression"
   ]
  },
  {
   "cell_type": "markdown",
   "id": "b90d6bc6-5274-4a9e-bf98-d541a38d8b93",
   "metadata": {},
   "source": [
    "<font color='blue'><b>Goal:</b></font>\n",
    "Solve linear regression with an $\\ell_1$-error function using an LP.\n",
    "\n",
    "<font color='blue'><b>Additional resources:</b></font> \n",
    "For an introduction on regression, see https://stat.ethz.ch/education/semesters/ss2016/regression/Regression.pdf."
   ]
  },
  {
   "cell_type": "markdown",
   "id": "5913417c",
   "metadata": {},
   "source": [
    "## Introduction\n",
    "A researcher would like to know if a child's height $H$ (in cm) can be predicted by their age $A$ (in years).\n",
    "In other words, she would like to know if there is any relationship between $A$ and $H$.\n",
    "She begins by observing the age and height of fifteen children. \n",
    "Her data is stored below. For example, the first child was at age 1 and has a height of 73.2 cm, and the second child was at age 1 and has a height of 73.3 cm."
   ]
  },
  {
   "cell_type": "code",
   "execution_count": 1,
   "id": "ade54558-dc7c-4c8d-83a0-11e32fcc0d28",
   "metadata": {},
   "outputs": [],
   "source": [
    "# Observed ages in years\n",
    "obs_age = [1,1,2,2,3,4,4,5,6,7,7,8,9,9,10]\n",
    "\n",
    "# Observed heights in cm\n",
    "obs_ht = [73.2,73.3,75.1,77.4,80.1,85.7,84.0,89.1,100.2,105.3,112.2,115.0,125.1,135.2,150.7]"
   ]
  },
  {
   "cell_type": "markdown",
   "id": "5e712a32-3ec9-4efb-8b73-9b32df3b5a59",
   "metadata": {},
   "source": [
    "We can visualize this data using the `matplotlib` library in Python.\n",
    "The function `plt.scatter` plots the individual data points. \n",
    "\n",
    "We can also draw different lines through the data to visualize a linear relationship. \n",
    "\n",
    "*Remark: There are many ways to plot a line in Python. One method involves using the function `np.linspace()` in the `numpy` package, which we have already seen in Week 2's exercises.*\n",
    "\n",
    "The following code plots the data and draws the lines $H = 7A+65$ and $H = 5.75A+70$."
   ]
  },
  {
   "cell_type": "code",
   "execution_count": 2,
   "id": "1649ff3e-f69e-41f7-bae0-53d57db75f22",
   "metadata": {},
   "outputs": [
    {
     "data": {
      "image/png": "[encoded data removed]",
      "text/plain": [
       "<Figure size 432x288 with 1 Axes>"
      ]
     },
     "metadata": {
      "needs_background": "light"
     },
     "output_type": "display_data"
    }
   ],
   "source": [
    "# Import Python's plotting tools (matplotlib) and math tools (numpy)\n",
    "import matplotlib.pyplot as plt\n",
    "import numpy as np\n",
    "%matplotlib inline\n",
    "\n",
    "# Plot the points\n",
    "plt.scatter(obs_age, obs_ht)\n",
    "\n",
    "# Draw the line H = 7A+65\n",
    "A = np.linspace(1,10,100)\n",
    "H = 7*A + 65\n",
    "plt.plot(A, H, color='red')\n",
    "\n",
    "# Draw the line H = 5.75A+70\n",
    "H = 5.75*A + 70\n",
    "plt.plot(A, H, color='green')\n",
    "\n",
    "\n",
    "plt.xlabel(\"Age (in years)\")\n",
    "plt.ylabel(\"Height (in cm)\")\n",
    "plt.show()"
   ]
  },
  {
   "cell_type": "markdown",
   "id": "bfaa4021-9c95-4c39-8533-a260c8ffa28b",
   "metadata": {},
   "source": [
    "Both lines $H = 7A + 65$ and $H = 5.75A + 70$ seem to capture some of the correlation between `obs_ages` and `obs_ht`.\n",
    "However, which line fits the data better? In regression, we measure \"goodness of fit\" with a loss function. Mathematically, we can formulate this problem as follows:\n",
    "\n",
    "Given values $\\alpha, \\beta \\in \\mathbb{R}$, we say that the $\\ell_1$-error of the line $H = \\beta A + \\alpha$ is equal to \n",
    "$$\n",
    "\\displaystyle \\sum_{i=1}^{15} |\\text{obs_ht}_{~i} - (\\beta \\times \\text{obs_age}_{~i} + \\alpha)|.\n",
    "$$\n",
    "\n",
    "The line $H = 7A + 65$ has an $\\ell_1$-error of $90.19$, and the line $H = 5.75A + 70$ has an $\\ell_1$-error of $100.80$."
   ]
  },
  {
   "cell_type": "markdown",
   "id": "eda1c388",
   "metadata": {},
   "source": [
    "## Task 1: Find the optimal line minimizing $\\ell_1$-error\n",
    "Write an LP that finds parameters $\\alpha$ and $\\beta$ so that the line $H = \\beta A + \\alpha$ minimizes the $\\ell_1$-error. You should have already seen similar ideas from previous problem sets.\n",
    "\n",
    "**Your task:** Implement this LP and solve it. Also, plot the optimal line $H$ that you found together with the data."
   ]
  },
  {
   "cell_type": "markdown",
   "id": "5d79d011",
   "metadata": {},
   "source": [
    "_Hint 1_: You may need to create many variables with a similar structure in this LP. For example, one can come up with an LP with variables $e_1,\\cdots,e_{15}$ for the errors in absolute value. It will be time consuming to manually add these 15 variables. A more efficient way would be using a for loop to create a list of all these variables. As an example, the following code\n",
    "\n",
    "&emsp;&emsp; `e = [pulp.LpVariable(f\"e_{i}\") for i in range(3)]` \n",
    "\n",
    "will create a list called `e`, it contains 3 elements `e_0,e_1,e_2`, which are all LP variables. "
   ]
  },
  {
   "cell_type": "code",
   "execution_count": null,
   "id": "4f4ab098",
   "metadata": {},
   "outputs": [],
   "source": [
    "import pulp\n",
    "\n",
    "# Create a list of 3 variables\n",
    "test_LP = pulp.LpProblem(\"Test_LP\", pulp.LpMinimize)\n",
    "e = [pulp.LpVariable(f\"e_{i}\") for i in range(3)]\n",
    "e"
   ]
  },
  {
   "cell_type": "markdown",
   "id": "5f158951",
   "metadata": {},
   "source": [
    "_Hint 2_: If you adopt the notations in _Hint 1_, your objective function is likely in the form $\\sum_{i=1}^{15}e_i$. You can represent the sum as `pulp.lpSum(e)` if you have created a list $e$ of variables $e_i$ using the code above. To be precise, `pulp.lpSum(e)` only sums up the variables from the list `e`, it does not set this sum to be the objective function automatically. Therefore, you need to add the objective function using the normal way."
   ]
  },
  {
   "cell_type": "code",
   "execution_count": null,
   "id": "5c2cc428",
   "metadata": {},
   "outputs": [],
   "source": [
    "# We add the objective function e_1+e_2+e_3 using lpSum()\n",
    "test_LP += pulp.lpSum(e)\n",
    "test_LP.objective"
   ]
  },
  {
   "cell_type": "markdown",
   "id": "ae695127",
   "metadata": {},
   "source": [
    "_Hint 3_: Similarly, there are many constraints that are of the same form. Try to implement these constraints systematically using loops instead of manually adding them one by one."
   ]
  },
  {
   "cell_type": "code",
   "execution_count": null,
   "id": "ce94e803",
   "metadata": {},
   "outputs": [],
   "source": [
    "# Solve the L-1 linear regression problem\n",
    "# Denote the number of observations as n\n",
    "n = len(obs_age)  "
   ]
  },
  {
   "cell_type": "code",
   "execution_count": null,
   "id": "d66b1d33-d4bc-4efc-bcc2-90f39f12862a",
   "metadata": {},
   "outputs": [],
   "source": [
    "# Load PuLP and set up the LP\n",
    "linRegLP = '???'\n",
    "\n",
    "# Define variables\n",
    "'???'\n"
   ]
  },
  {
   "cell_type": "code",
   "execution_count": null,
   "id": "89e6bccd-da47-476c-b8cc-0ae1bfb69ccc",
   "metadata": {},
   "outputs": [],
   "source": [
    "# Set the objective function and check it\n",
    "linRegLP += '???'\n",
    "linRegLP.objective\n"
   ]
  },
  {
   "cell_type": "code",
   "execution_count": null,
   "id": "db338b31-03dd-416d-bef5-94fe25ad038b",
   "metadata": {},
   "outputs": [],
   "source": [
    "# Add constraints and check them. You can use a loop to go through all n data points.\n",
    "'???'\n",
    "linRegLP.constraints\n"
   ]
  },
  {
   "cell_type": "code",
   "execution_count": null,
   "id": "088f00ad-c3e0-4704-a81f-f661f3e14a68",
   "metadata": {},
   "outputs": [],
   "source": [
    "# Solve the LP\n",
    "linRegLP.solve()\n"
   ]
  },
  {
   "cell_type": "code",
   "execution_count": null,
   "id": "f83f1c9d-f25c-4e41-bde2-ae4b8cb2b7c6",
   "metadata": {},
   "outputs": [],
   "source": [
    "# Plot the optimal line\n",
    "\n",
    "# Plot the points\n",
    "plt.scatter(obs_age,obs_ht)\n",
    "\n",
    "# Draw the optimal line\n",
    "A = '???'\n",
    "H = '???'\n",
    "plt.plot(A, H, color = 'red')\n",
    "\n",
    "plt.xlabel(\"Age (in years)\")\n",
    "plt.ylabel(\"Height (in cm)\")\n",
    "plt.show()"
   ]
  },
  {
   "cell_type": "markdown",
   "id": "c9db46f6-8f1b-443d-bd1e-d65a65c6e3e8",
   "metadata": {},
   "source": [
    "## Task 2: Find the optimal quadratic curve minimizing $\\ell_1$-error\n",
    "\n",
    "Perhaps the relationship between the age and the height is not linear.\n",
    "In fact, the data in the previous plot suggests that the relationship could be quadratic. \n",
    "We can also use linear programming to solve this quadratic regression problem.\n",
    "\n",
    "Given values $\\alpha_0, \\alpha_1, \\alpha_2 \\in \\mathbb{R}$, we say that the $\\ell_1$-error of the quadratic function $H = \\alpha_2 A^2 + \\alpha_1 A + \\alpha_0$ is equal to \n",
    "$$\n",
    "\\displaystyle \\sum_{i=1}^{15} |\\text{obs_ht}_{~i} - (\\alpha_2 \\times \\text{obs_age}_{~i}^2 + \\alpha_1 \\times \\text{obs_age}_{~i} + \\alpha_0)|.\n",
    "$$\n",
    "\n",
    "Write an LP that finds parameters $\\alpha_0$, $\\alpha_1$ and $\\alpha_2$ so that the quadratic function $H = \\alpha_2 A^2 + \\alpha_1 A + \\alpha_0$ minimizes the $\\ell_1$-error.\n",
    "\n",
    "**Your Task:**\n",
    "Implement this LP and solve it and plot the optimal curve $H$ that you found together with the data.\n"
   ]
  },
  {
   "cell_type": "code",
   "execution_count": null,
   "id": "03379f84-4b9a-4f35-b14b-1f17b545a5ad",
   "metadata": {},
   "outputs": [],
   "source": [
    "# Solve the L-1 quadratic regression problem\n",
    "\n",
    "'???'\n"
   ]
  },
  {
   "cell_type": "code",
   "execution_count": null,
   "id": "d17c42cf-9459-4f04-9b38-57e04c63a23f",
   "metadata": {},
   "outputs": [],
   "source": [
    "# Plot the optimal curve\n",
    "\n",
    "# Plot the points\n",
    "plt.scatter(obs_age,obs_ht)\n",
    "\n",
    "# Plot the optimal quadratic function\n",
    "A = '???'\n",
    "H = '???'\n",
    "plt.plot(A, H, color = 'red')\n",
    "\n",
    "plt.xlabel(\"Age (in years)\")\n",
    "plt.ylabel(\"Height (in cm)\")\n",
    "plt.show()"
   ]
  }
 ],
 "metadata": {
  "kernelspec": {
   "display_name": "Python 3",
   "language": "python",
   "name": "python3"
  },
  "language_info": {
   "codemirror_mode": {
    "name": "ipython",
    "version": 3
   },
   "file_extension": ".py",
   "mimetype": "text/x-python",
   "name": "python",
   "nbconvert_exporter": "python",
   "pygments_lexer": "ipython3",
   "version": "3.8.8"
  }
 },
 "nbformat": 4,
 "nbformat_minor": 5
}
